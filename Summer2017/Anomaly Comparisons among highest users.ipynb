{
 "cells": [
  {
   "cell_type": "code",
   "execution_count": 29,
   "metadata": {},
   "outputs": [
    {
     "data": {
      "text/html": [
       "<script>requirejs.config({paths: { 'plotly': ['https://cdn.plot.ly/plotly-latest.min']},});if(!window.Plotly) {{require(['plotly'],function(plotly) {window.Plotly=plotly;});}}</script>"
      ],
      "text/vnd.plotly.v1+html": [
       "<script>requirejs.config({paths: { 'plotly': ['https://cdn.plot.ly/plotly-latest.min']},});if(!window.Plotly) {{require(['plotly'],function(plotly) {window.Plotly=plotly;});}}</script>"
      ]
     },
     "metadata": {},
     "output_type": "display_data"
    }
   ],
   "source": [
    "import pandas as pd\n",
    "import matplotlib.pyplot as plt\n",
    "%matplotlib inline\n",
    "plt.style.use('ggplot')\n",
    "import numpy as np\n",
    "import scipy as sp\n",
    "import plotly.plotly as py\n",
    "import plotly.figure_factory as ff\n",
    "from plotly.graph_objs import*\n",
    "import plotly.graph_objs as go\n",
    "import math\n",
    "from plotly.offline import download_plotlyjs,init_notebook_mode,plot,iplot\n",
    "init_notebook_mode(connected=True)\n",
    "\n"
   ]
  },
  {
   "cell_type": "code",
   "execution_count": 127,
   "metadata": {},
   "outputs": [],
   "source": [
    "electric = pd.read_csv('~/Downloads/Full+Eletric+Interval+042016.csv')\n",
    "electric['Datetime'] = pd.to_datetime(electric['Date'] + ' ' + electric['Start Time'])"
   ]
  },
  {
   "cell_type": "code",
   "execution_count": 3,
   "metadata": {
    "collapsed": true
   },
   "outputs": [],
   "source": [
    "pc = pd.read_excel('~/Downloads/SIMS_Property_List_4-6-2016_Revised.xlsx')"
   ]
  },
  {
   "cell_type": "code",
   "execution_count": 109,
   "metadata": {
    "collapsed": true
   },
   "outputs": [],
   "source": [
    "weather = pd.read_csv('~/Downloads/weather_prepared_final.csv')\n",
    "weather.DATE = pd.to_datetime(weather.DATE)"
   ]
  },
  {
   "cell_type": "markdown",
   "metadata": {},
   "source": [
    "### Temperature"
   ]
  },
  {
   "cell_type": "code",
   "execution_count": 121,
   "metadata": {
    "collapsed": true
   },
   "outputs": [],
   "source": [
    "temperature = weather.drop(['HUMIDITY', 'LON', 'LAT', 'STATION'], 1).iloc[1::4, :]"
   ]
  },
  {
   "cell_type": "markdown",
   "metadata": {},
   "source": [
    "### Daily average temperature"
   ]
  },
  {
   "cell_type": "code",
   "execution_count": 122,
   "metadata": {
    "collapsed": true
   },
   "outputs": [
    {
     "data": {
      "text/html": [
       "<div>\n",
       "<style>\n",
       "    .dataframe thead tr:only-child th {\n",
       "        text-align: right;\n",
       "    }\n",
       "\n",
       "    .dataframe thead th {\n",
       "        text-align: left;\n",
       "    }\n",
       "\n",
       "    .dataframe tbody tr th {\n",
       "        vertical-align: top;\n",
       "    }\n",
       "</style>\n",
       "<table border=\"1\" class=\"dataframe\">\n",
       "  <thead>\n",
       "    <tr style=\"text-align: right;\">\n",
       "      <th></th>\n",
       "      <th>TEMPERATURE</th>\n",
       "    </tr>\n",
       "    <tr>\n",
       "      <th>DATE</th>\n",
       "      <th></th>\n",
       "    </tr>\n",
       "  </thead>\n",
       "  <tbody>\n",
       "    <tr>\n",
       "      <th>2014-12-02</th>\n",
       "      <td>29.241667</td>\n",
       "    </tr>\n",
       "    <tr>\n",
       "      <th>2014-12-03</th>\n",
       "      <td>31.891667</td>\n",
       "    </tr>\n",
       "    <tr>\n",
       "      <th>2014-12-04</th>\n",
       "      <td>32.304167</td>\n",
       "    </tr>\n",
       "    <tr>\n",
       "      <th>2014-12-05</th>\n",
       "      <td>36.420833</td>\n",
       "    </tr>\n",
       "    <tr>\n",
       "      <th>2014-12-06</th>\n",
       "      <td>38.564583</td>\n",
       "    </tr>\n",
       "    <tr>\n",
       "      <th>2014-12-07</th>\n",
       "      <td>34.664583</td>\n",
       "    </tr>\n",
       "    <tr>\n",
       "      <th>2014-12-08</th>\n",
       "      <td>36.297917</td>\n",
       "    </tr>\n",
       "    <tr>\n",
       "      <th>2014-12-14</th>\n",
       "      <td>49.343750</td>\n",
       "    </tr>\n",
       "    <tr>\n",
       "      <th>2014-12-15</th>\n",
       "      <td>45.783333</td>\n",
       "    </tr>\n",
       "    <tr>\n",
       "      <th>2014-12-16</th>\n",
       "      <td>40.997917</td>\n",
       "    </tr>\n",
       "    <tr>\n",
       "      <th>2014-12-17</th>\n",
       "      <td>26.604167</td>\n",
       "    </tr>\n",
       "    <tr>\n",
       "      <th>2014-12-18</th>\n",
       "      <td>26.627083</td>\n",
       "    </tr>\n",
       "    <tr>\n",
       "      <th>2014-12-19</th>\n",
       "      <td>31.547917</td>\n",
       "    </tr>\n",
       "    <tr>\n",
       "      <th>2014-12-20</th>\n",
       "      <td>33.125000</td>\n",
       "    </tr>\n",
       "    <tr>\n",
       "      <th>2014-12-21</th>\n",
       "      <td>35.156250</td>\n",
       "    </tr>\n",
       "    <tr>\n",
       "      <th>2014-12-22</th>\n",
       "      <td>35.816667</td>\n",
       "    </tr>\n",
       "    <tr>\n",
       "      <th>2014-12-23</th>\n",
       "      <td>47.008333</td>\n",
       "    </tr>\n",
       "    <tr>\n",
       "      <th>2014-12-24</th>\n",
       "      <td>39.833333</td>\n",
       "    </tr>\n",
       "    <tr>\n",
       "      <th>2014-12-25</th>\n",
       "      <td>39.112500</td>\n",
       "    </tr>\n",
       "    <tr>\n",
       "      <th>2014-12-26</th>\n",
       "      <td>45.731250</td>\n",
       "    </tr>\n",
       "    <tr>\n",
       "      <th>2014-12-27</th>\n",
       "      <td>42.464583</td>\n",
       "    </tr>\n",
       "    <tr>\n",
       "      <th>2014-12-31</th>\n",
       "      <td>13.487500</td>\n",
       "    </tr>\n",
       "    <tr>\n",
       "      <th>2015-01-01</th>\n",
       "      <td>23.854167</td>\n",
       "    </tr>\n",
       "    <tr>\n",
       "      <th>2015-01-02</th>\n",
       "      <td>29.258333</td>\n",
       "    </tr>\n",
       "    <tr>\n",
       "      <th>2015-01-03</th>\n",
       "      <td>34.429167</td>\n",
       "    </tr>\n",
       "    <tr>\n",
       "      <th>2015-01-04</th>\n",
       "      <td>24.308333</td>\n",
       "    </tr>\n",
       "    <tr>\n",
       "      <th>2015-01-05</th>\n",
       "      <td>4.922222</td>\n",
       "    </tr>\n",
       "    <tr>\n",
       "      <th>2015-01-06</th>\n",
       "      <td>8.975000</td>\n",
       "    </tr>\n",
       "    <tr>\n",
       "      <th>2015-01-07</th>\n",
       "      <td>2.764865</td>\n",
       "    </tr>\n",
       "    <tr>\n",
       "      <th>2015-01-08</th>\n",
       "      <td>10.596429</td>\n",
       "    </tr>\n",
       "    <tr>\n",
       "      <th>...</th>\n",
       "      <td>...</td>\n",
       "    </tr>\n",
       "    <tr>\n",
       "      <th>2016-09-23</th>\n",
       "      <td>70.935417</td>\n",
       "    </tr>\n",
       "    <tr>\n",
       "      <th>2016-09-24</th>\n",
       "      <td>68.389583</td>\n",
       "    </tr>\n",
       "    <tr>\n",
       "      <th>2016-09-25</th>\n",
       "      <td>73.039583</td>\n",
       "    </tr>\n",
       "    <tr>\n",
       "      <th>2016-09-26</th>\n",
       "      <td>64.685417</td>\n",
       "    </tr>\n",
       "    <tr>\n",
       "      <th>2016-09-27</th>\n",
       "      <td>62.289583</td>\n",
       "    </tr>\n",
       "    <tr>\n",
       "      <th>2016-09-28</th>\n",
       "      <td>56.820833</td>\n",
       "    </tr>\n",
       "    <tr>\n",
       "      <th>2016-09-29</th>\n",
       "      <td>63.500000</td>\n",
       "    </tr>\n",
       "    <tr>\n",
       "      <th>2016-09-30</th>\n",
       "      <td>62.687500</td>\n",
       "    </tr>\n",
       "    <tr>\n",
       "      <th>2016-10-01</th>\n",
       "      <td>61.431250</td>\n",
       "    </tr>\n",
       "    <tr>\n",
       "      <th>2016-10-02</th>\n",
       "      <td>61.187500</td>\n",
       "    </tr>\n",
       "    <tr>\n",
       "      <th>2016-10-03</th>\n",
       "      <td>62.408333</td>\n",
       "    </tr>\n",
       "    <tr>\n",
       "      <th>2016-10-04</th>\n",
       "      <td>66.260417</td>\n",
       "    </tr>\n",
       "    <tr>\n",
       "      <th>2016-10-05</th>\n",
       "      <td>72.381250</td>\n",
       "    </tr>\n",
       "    <tr>\n",
       "      <th>2016-10-06</th>\n",
       "      <td>67.995833</td>\n",
       "    </tr>\n",
       "    <tr>\n",
       "      <th>2016-10-07</th>\n",
       "      <td>64.308333</td>\n",
       "    </tr>\n",
       "    <tr>\n",
       "      <th>2016-10-08</th>\n",
       "      <td>53.750000</td>\n",
       "    </tr>\n",
       "    <tr>\n",
       "      <th>2016-10-09</th>\n",
       "      <td>56.843750</td>\n",
       "    </tr>\n",
       "    <tr>\n",
       "      <th>2016-10-10</th>\n",
       "      <td>60.270833</td>\n",
       "    </tr>\n",
       "    <tr>\n",
       "      <th>2016-10-11</th>\n",
       "      <td>66.316667</td>\n",
       "    </tr>\n",
       "    <tr>\n",
       "      <th>2016-10-12</th>\n",
       "      <td>60.839583</td>\n",
       "    </tr>\n",
       "    <tr>\n",
       "      <th>2016-10-13</th>\n",
       "      <td>49.527083</td>\n",
       "    </tr>\n",
       "    <tr>\n",
       "      <th>2016-10-14</th>\n",
       "      <td>56.531250</td>\n",
       "    </tr>\n",
       "    <tr>\n",
       "      <th>2016-10-15</th>\n",
       "      <td>63.177083</td>\n",
       "    </tr>\n",
       "    <tr>\n",
       "      <th>2016-10-16</th>\n",
       "      <td>68.041667</td>\n",
       "    </tr>\n",
       "    <tr>\n",
       "      <th>2016-10-17</th>\n",
       "      <td>74.618750</td>\n",
       "    </tr>\n",
       "    <tr>\n",
       "      <th>2016-10-18</th>\n",
       "      <td>70.077083</td>\n",
       "    </tr>\n",
       "    <tr>\n",
       "      <th>2016-10-19</th>\n",
       "      <td>61.950000</td>\n",
       "    </tr>\n",
       "    <tr>\n",
       "      <th>2016-10-20</th>\n",
       "      <td>55.918750</td>\n",
       "    </tr>\n",
       "    <tr>\n",
       "      <th>2016-10-21</th>\n",
       "      <td>48.079167</td>\n",
       "    </tr>\n",
       "    <tr>\n",
       "      <th>2016-10-22</th>\n",
       "      <td>50.533333</td>\n",
       "    </tr>\n",
       "  </tbody>\n",
       "</table>\n",
       "<p>683 rows × 1 columns</p>\n",
       "</div>"
      ],
      "text/plain": [
       "            TEMPERATURE\n",
       "DATE                   \n",
       "2014-12-02    29.241667\n",
       "2014-12-03    31.891667\n",
       "2014-12-04    32.304167\n",
       "2014-12-05    36.420833\n",
       "2014-12-06    38.564583\n",
       "2014-12-07    34.664583\n",
       "2014-12-08    36.297917\n",
       "2014-12-14    49.343750\n",
       "2014-12-15    45.783333\n",
       "2014-12-16    40.997917\n",
       "2014-12-17    26.604167\n",
       "2014-12-18    26.627083\n",
       "2014-12-19    31.547917\n",
       "2014-12-20    33.125000\n",
       "2014-12-21    35.156250\n",
       "2014-12-22    35.816667\n",
       "2014-12-23    47.008333\n",
       "2014-12-24    39.833333\n",
       "2014-12-25    39.112500\n",
       "2014-12-26    45.731250\n",
       "2014-12-27    42.464583\n",
       "2014-12-31    13.487500\n",
       "2015-01-01    23.854167\n",
       "2015-01-02    29.258333\n",
       "2015-01-03    34.429167\n",
       "2015-01-04    24.308333\n",
       "2015-01-05     4.922222\n",
       "2015-01-06     8.975000\n",
       "2015-01-07     2.764865\n",
       "2015-01-08    10.596429\n",
       "...                 ...\n",
       "2016-09-23    70.935417\n",
       "2016-09-24    68.389583\n",
       "2016-09-25    73.039583\n",
       "2016-09-26    64.685417\n",
       "2016-09-27    62.289583\n",
       "2016-09-28    56.820833\n",
       "2016-09-29    63.500000\n",
       "2016-09-30    62.687500\n",
       "2016-10-01    61.431250\n",
       "2016-10-02    61.187500\n",
       "2016-10-03    62.408333\n",
       "2016-10-04    66.260417\n",
       "2016-10-05    72.381250\n",
       "2016-10-06    67.995833\n",
       "2016-10-07    64.308333\n",
       "2016-10-08    53.750000\n",
       "2016-10-09    56.843750\n",
       "2016-10-10    60.270833\n",
       "2016-10-11    66.316667\n",
       "2016-10-12    60.839583\n",
       "2016-10-13    49.527083\n",
       "2016-10-14    56.531250\n",
       "2016-10-15    63.177083\n",
       "2016-10-16    68.041667\n",
       "2016-10-17    74.618750\n",
       "2016-10-18    70.077083\n",
       "2016-10-19    61.950000\n",
       "2016-10-20    55.918750\n",
       "2016-10-21    48.079167\n",
       "2016-10-22    50.533333\n",
       "\n",
       "[683 rows x 1 columns]"
      ]
     },
     "execution_count": 122,
     "metadata": {},
     "output_type": "execute_result"
    }
   ],
   "source": [
    "daily_temperature = temperature\n",
    "daily_temperature.DATE = temperature.DATE.dt.date\n",
    "daily_temperature = daily_temperature.groupby(by='DATE').mean()"
   ]
  },
  {
   "cell_type": "markdown",
   "metadata": {},
   "source": [
    "### Usage by day"
   ]
  },
  {
   "cell_type": "code",
   "execution_count": 129,
   "metadata": {},
   "outputs": [],
   "source": [
    "electric_date_full = electric.copy()\n",
    "electric_date_full.Datetime = electric_date_full.Datetime.dt.date"
   ]
  },
  {
   "cell_type": "code",
   "execution_count": 130,
   "metadata": {
    "collapsed": true
   },
   "outputs": [],
   "source": [
    "electric_day = electric_date_full.drop('Temperature', 1).groupby(by=['Meter', 'Datetime']).sum()"
   ]
  },
  {
   "cell_type": "markdown",
   "metadata": {},
   "source": [
    "### Codes"
   ]
  },
  {
   "cell_type": "code",
   "execution_count": 4,
   "metadata": {
    "collapsed": true
   },
   "outputs": [],
   "source": [
    "codes = pd.Series([b[0] for b in electric['Meter'].str.split()])\n",
    "unicodes = codes.unique()\n",
    "unicodes = pd.Series(unicodes)"
   ]
  },
  {
   "cell_type": "markdown",
   "metadata": {},
   "source": [
    "### Ages"
   ]
  },
  {
   "cell_type": "code",
   "execution_count": 5,
   "metadata": {
    "collapsed": true
   },
   "outputs": [],
   "source": [
    "agelst = []\n",
    "\n",
    "for i in unicodes:\n",
    "    agelst.append(pc[pc['Property Code'].isin([i])]['Year Constructed'])\n",
    "age = pd.DataFrame(agelst).sum(axis=1)\n",
    "age = age.reset_index(drop=True)"
   ]
  },
  {
   "cell_type": "markdown",
   "metadata": {},
   "source": [
    "### Areas"
   ]
  },
  {
   "cell_type": "code",
   "execution_count": 6,
   "metadata": {
    "collapsed": true
   },
   "outputs": [],
   "source": [
    "arealst = []\n",
    "for b in unicodes:\n",
    "    arealst.append(pc[pc['Property Code'].isin([b])]['FCIM Gross Area'])\n",
    "area = pd.DataFrame(arealst).sum(axis=1)\n",
    "area = area.reset_index(drop=True)"
   ]
  },
  {
   "cell_type": "markdown",
   "metadata": {},
   "source": [
    "### Cumulative Usages"
   ]
  },
  {
   "cell_type": "code",
   "execution_count": 7,
   "metadata": {
    "collapsed": true
   },
   "outputs": [],
   "source": [
    "clst = []\n",
    "for i in unicodes:\n",
    "    #for each unique code, find its Usage value in master df and add them all together, then append to list\n",
    "    clst.append(electric.Usage[codes.isin([i])].sum())"
   ]
  },
  {
   "cell_type": "markdown",
   "metadata": {},
   "source": [
    "### Normalized Usages"
   ]
  },
  {
   "cell_type": "code",
   "execution_count": 38,
   "metadata": {},
   "outputs": [
    {
     "data": {
      "text/plain": [
       "4783.1806588384852"
      ]
     },
     "execution_count": 38,
     "metadata": {},
     "output_type": "execute_result"
    }
   ],
   "source": [
    "nusage = clst/area"
   ]
  },
  {
   "cell_type": "markdown",
   "metadata": {},
   "source": [
    "### Proportions"
   ]
  },
  {
   "cell_type": "code",
   "execution_count": 19,
   "metadata": {},
   "outputs": [
    {
     "data": {
      "text/plain": [
       "417069167.01770395"
      ]
     },
     "execution_count": 19,
     "metadata": {},
     "output_type": "execute_result"
    }
   ],
   "source": [
    "tot = sum(clst)\n",
    "tot"
   ]
  },
  {
   "cell_type": "code",
   "execution_count": 20,
   "metadata": {},
   "outputs": [
    {
     "data": {
      "text/plain": [
       "417069167.01770395"
      ]
     },
     "execution_count": 20,
     "metadata": {},
     "output_type": "execute_result"
    }
   ],
   "source": [
    "tot = sum(clst)\n",
    "tot"
   ]
  },
  {
   "cell_type": "code",
   "execution_count": 39,
   "metadata": {},
   "outputs": [
    {
     "data": {
      "text/plain": [
       "4783.1806588384852"
      ]
     },
     "execution_count": 39,
     "metadata": {},
     "output_type": "execute_result"
    }
   ],
   "source": [
    "atot = 0\n",
    "for i in nusage:\n",
    "    if i>0 and i<1000000000000000000:\n",
    "        atot = atot + i\n",
    "atot"
   ]
  },
  {
   "cell_type": "markdown",
   "metadata": {},
   "source": [
    "### Full Building Names"
   ]
  },
  {
   "cell_type": "code",
   "execution_count": 8,
   "metadata": {
    "collapsed": true
   },
   "outputs": [],
   "source": [
    "namelst = []\n",
    "for i in unicodes:\n",
    "    namelst.append(pc[pc['Property Code'].isin([i])]['Property Name'])\n",
    "namelst\n",
    "name = pd.DataFrame(namelst)\n",
    "name = name.replace(np.nan, '', regex=True)\n",
    "name = name.reset_index(drop=True)\n",
    "name =name.sum(axis=1)"
   ]
  },
  {
   "cell_type": "markdown",
   "metadata": {},
   "source": [
    "### Functions"
   ]
  },
  {
   "cell_type": "code",
   "execution_count": 45,
   "metadata": {
    "collapsed": true
   },
   "outputs": [],
   "source": [
    "def normal_usage(meter, date, temperature):\n",
    "    weekend = pd.to_datetime(date).weekday in [5,6]\n",
    "    meter_usage = electric_day.ix[meter]\n",
    "    return meter_usage[(daily_temperature.ix[meter_usage.index]['TEMPERATURE'] > temperature - 4) & (daily_temperature.ix[meter_usage.index] < temperature + 4).squeeze() & (abs(pd.to_datetime(date).dayofyear - pd.to_datetime(meter_usage.index).dayofyear) < 20) & (pd.to_datetime(meter_usage.index).weekday.isin([5,6]) == weekend)]['Usage'].mean()"
   ]
  },
  {
   "cell_type": "code",
   "execution_count": 131,
   "metadata": {
    "collapsed": true
   },
   "outputs": [],
   "source": [
    "def percent_difference(meter, date, temperature, usage):\n",
    "    normal = normal_usage(meter, date, temperature)\n",
    "    if usage > 100:\n",
    "        if normal == 0:\n",
    "            normal = 1\n",
    "        return 100 * (usage - normal) / normal\n",
    "    return float('nan')"
   ]
  },
  {
   "cell_type": "code",
   "execution_count": 132,
   "metadata": {
    "collapsed": true
   },
   "outputs": [],
   "source": [
    "def percent_diff_lst(meter):\n",
    "    dates = pd.to_datetime(electric_day.ix[meter].index)\n",
    "    start = pd.to_datetime('2015-01-01')\n",
    "    end = pd.to_datetime('2016-04-10')\n",
    "    electric_day_temp = electric_day.ix[meter][(dates >= start) & (dates <= end)]\n",
    "    diff_lst = []\n",
    "    date_lst = []\n",
    "    for day in electric_day_temp.index:\n",
    "        temperature = daily_temperature.ix[pd.to_datetime(day).date()]\n",
    "        usage = electric_day_temp.ix[pd.to_datetime(day).date()]\n",
    "        diff = percent_difference(meter, day.strftime('%Y-%m-%d'), float(temperature), float(usage))\n",
    "        diff_lst.append(diff)\n",
    "        date_lst.append(day)\n",
    "    return pd.DataFrame(diff_lst, date_lst, ['Percent Difference'])"
   ]
  },
  {
   "cell_type": "code",
   "execution_count": 133,
   "metadata": {
    "collapsed": true
   },
   "outputs": [],
   "source": [
    "def get_building_data(name):\n",
    "    namepc = pc[pc['Property Code'].str.contains(name, na=False)]\n",
    "    dflst = []\n",
    "    for i in namepc['Property Code']:\n",
    "        dflst.append(i)\n",
    "    df = electric[codes.isin(dflst)]\n",
    "    df = df.reset_index(drop=True)\n",
    "    df = df[df != 0]\n",
    "    return df"
   ]
  },
  {
   "cell_type": "code",
   "execution_count": 149,
   "metadata": {
    "collapsed": true
   },
   "outputs": [],
   "source": [
    "def get_anomaly_percent(df, fullname):\n",
    "    anomdf = percent_diff_lst(fullname)\n",
    "    anomdf = anomdf.sort_values(by='Percent Difference')\n",
    "    anomdf['Date'] = anomdf.index\n",
    "    uselst = []\n",
    "    templst = []\n",
    "    predlst = []\n",
    "    for  i in anomdf.index:\n",
    "        uselst.append(df[df['Datetime'].isin([i])]['Usage'].sum())\n",
    "        templst.append(daily_temperature[daily_temperature.index.isin([i])]['TEMPERATURE'].mean())\n",
    "    anomdf['Temperature'] = templst\n",
    "    anomdf['Actual Use'] = uselst\n",
    "    anomdf['Percent Difference'] = abs(anomdf['Percent Difference'])\n",
    "    return anomdf"
   ]
  },
  {
   "cell_type": "markdown",
   "metadata": {},
   "source": [
    "###  Cumulative dataframe"
   ]
  },
  {
   "cell_type": "code",
   "execution_count": 89,
   "metadata": {
    "collapsed": true
   },
   "outputs": [],
   "source": [
    "data = {'Code': unicodes,'Building': name, 'Usage': clst, 'Area': area, 'Year': age, 'Normalized Usage': nusage}"
   ]
  },
  {
   "cell_type": "code",
   "execution_count": 90,
   "metadata": {
    "collapsed": true
   },
   "outputs": [],
   "source": [
    "df = pd.DataFrame(data)"
   ]
  },
  {
   "cell_type": "code",
   "execution_count": 91,
   "metadata": {
    "scrolled": true
   },
   "outputs": [],
   "source": [
    "df_cumulative = df.copy()"
   ]
  },
  {
   "cell_type": "code",
   "execution_count": 92,
   "metadata": {},
   "outputs": [],
   "source": [
    "pcnt_lst = []\n",
    "for i in df_cumulative['Usage']:\n",
    "    pcnt_lst.append(i/tot)"
   ]
  },
  {
   "cell_type": "code",
   "execution_count": 93,
   "metadata": {},
   "outputs": [],
   "source": [
    "df_cumulative['Cumulative prop'] = pcnt_lst"
   ]
  },
  {
   "cell_type": "code",
   "execution_count": 94,
   "metadata": {},
   "outputs": [],
   "source": [
    "apcnt_lst = []\n",
    "for i in df_cumulative['Normalized Usage']:\n",
    "    apcnt_lst.append(i/atot)"
   ]
  },
  {
   "cell_type": "code",
   "execution_count": 95,
   "metadata": {
    "collapsed": true
   },
   "outputs": [],
   "source": [
    "df_cumulative['Normalized area prop'] = apcnt_lst"
   ]
  },
  {
   "cell_type": "code",
   "execution_count": 100,
   "metadata": {},
   "outputs": [],
   "source": [
    "df_cumulative = df_cumulative.sort_values(by='Normalized area prop', ascending=False)\n",
    "df_cumulative = df_cumulative[df_cumulative['Normalized area prop'] < 1]"
   ]
  },
  {
   "cell_type": "code",
   "execution_count": 103,
   "metadata": {},
   "outputs": [
    {
     "data": {
      "text/html": [
       "<div>\n",
       "<style>\n",
       "    .dataframe thead tr:only-child th {\n",
       "        text-align: right;\n",
       "    }\n",
       "\n",
       "    .dataframe thead th {\n",
       "        text-align: left;\n",
       "    }\n",
       "\n",
       "    .dataframe tbody tr th {\n",
       "        vertical-align: top;\n",
       "    }\n",
       "</style>\n",
       "<table border=\"1\" class=\"dataframe\">\n",
       "  <thead>\n",
       "    <tr style=\"text-align: right;\">\n",
       "      <th></th>\n",
       "      <th>Area</th>\n",
       "      <th>Building</th>\n",
       "      <th>Code</th>\n",
       "      <th>Normalized Usage</th>\n",
       "      <th>Usage</th>\n",
       "      <th>Year</th>\n",
       "      <th>Cumulative prop</th>\n",
       "      <th>Normalized area prop</th>\n",
       "    </tr>\n",
       "  </thead>\n",
       "  <tbody>\n",
       "    <tr>\n",
       "      <th>0</th>\n",
       "      <td>8134.27</td>\n",
       "      <td>MRS Building (CLSC)</td>\n",
       "      <td>A50</td>\n",
       "      <td>691.354617</td>\n",
       "      <td>5.623665e+06</td>\n",
       "      <td>1994.0</td>\n",
       "      <td>1.348377e-02</td>\n",
       "      <td>1.445387e-01</td>\n",
       "    </tr>\n",
       "    <tr>\n",
       "      <th>1</th>\n",
       "      <td>25810.61</td>\n",
       "      <td>South Campus Chiller Plant</td>\n",
       "      <td>F15</td>\n",
       "      <td>434.578482</td>\n",
       "      <td>1.121674e+07</td>\n",
       "      <td>2009.0</td>\n",
       "      <td>2.689419e-02</td>\n",
       "      <td>9.085554e-02</td>\n",
       "    </tr>\n",
       "    <tr>\n",
       "      <th>2</th>\n",
       "      <td>64725.18</td>\n",
       "      <td>West Campus Combined Utility Plant</td>\n",
       "      <td>B113</td>\n",
       "      <td>412.872760</td>\n",
       "      <td>2.672326e+07</td>\n",
       "      <td>2009.0</td>\n",
       "      <td>6.407394e-02</td>\n",
       "      <td>8.631762e-02</td>\n",
       "    </tr>\n",
       "    <tr>\n",
       "      <th>3</th>\n",
       "      <td>58574.06</td>\n",
       "      <td>Rockefeller Chapel</td>\n",
       "      <td>D29</td>\n",
       "      <td>190.607125</td>\n",
       "      <td>1.116463e+07</td>\n",
       "      <td>1928.0</td>\n",
       "      <td>2.676926e-02</td>\n",
       "      <td>3.984945e-02</td>\n",
       "    </tr>\n",
       "    <tr>\n",
       "      <th>4</th>\n",
       "      <td>68706.33</td>\n",
       "      <td>Jones Laboratory</td>\n",
       "      <td>D19</td>\n",
       "      <td>180.717039</td>\n",
       "      <td>1.241640e+07</td>\n",
       "      <td>1929.0</td>\n",
       "      <td>2.977061e-02</td>\n",
       "      <td>3.778177e-02</td>\n",
       "    </tr>\n",
       "    <tr>\n",
       "      <th>5</th>\n",
       "      <td>121692.71</td>\n",
       "      <td>Donnelley Biological Sciences Learning Center</td>\n",
       "      <td>B36</td>\n",
       "      <td>147.191424</td>\n",
       "      <td>1.791212e+07</td>\n",
       "      <td>1993.0</td>\n",
       "      <td>4.294761e-02</td>\n",
       "      <td>3.077271e-02</td>\n",
       "    </tr>\n",
       "    <tr>\n",
       "      <th>6</th>\n",
       "      <td>58781.22</td>\n",
       "      <td>Accelerator Building</td>\n",
       "      <td>B03</td>\n",
       "      <td>145.603794</td>\n",
       "      <td>8.558769e+06</td>\n",
       "      <td>1949.0</td>\n",
       "      <td>2.052122e-02</td>\n",
       "      <td>3.044079e-02</td>\n",
       "    </tr>\n",
       "    <tr>\n",
       "      <th>7</th>\n",
       "      <td>471918.02</td>\n",
       "      <td>Gordon Center for Integrative Science</td>\n",
       "      <td>A86</td>\n",
       "      <td>115.564463</td>\n",
       "      <td>5.453695e+07</td>\n",
       "      <td>2005.0</td>\n",
       "      <td>1.307624e-01</td>\n",
       "      <td>2.416059e-02</td>\n",
       "    </tr>\n",
       "    <tr>\n",
       "      <th>8</th>\n",
       "      <td>172407.63</td>\n",
       "      <td>Cummings Life Sciences Center</td>\n",
       "      <td>A62</td>\n",
       "      <td>114.101624</td>\n",
       "      <td>1.967199e+07</td>\n",
       "      <td>1973.0</td>\n",
       "      <td>4.716721e-02</td>\n",
       "      <td>2.385476e-02</td>\n",
       "    </tr>\n",
       "    <tr>\n",
       "      <th>9</th>\n",
       "      <td>64814.03</td>\n",
       "      <td>Armour Clinical Research Building</td>\n",
       "      <td>A18</td>\n",
       "      <td>106.721930</td>\n",
       "      <td>6.917078e+06</td>\n",
       "      <td>1963.0</td>\n",
       "      <td>1.658497e-02</td>\n",
       "      <td>2.231192e-02</td>\n",
       "    </tr>\n",
       "    <tr>\n",
       "      <th>10</th>\n",
       "      <td>330906.58</td>\n",
       "      <td>Medical Campus Parking A</td>\n",
       "      <td>A70</td>\n",
       "      <td>106.527685</td>\n",
       "      <td>3.525071e+07</td>\n",
       "      <td>1973.0</td>\n",
       "      <td>8.452006e-02</td>\n",
       "      <td>2.227131e-02</td>\n",
       "    </tr>\n",
       "    <tr>\n",
       "      <th>11</th>\n",
       "      <td>111396.48</td>\n",
       "      <td>Franklin McLean Research Institute</td>\n",
       "      <td>A19</td>\n",
       "      <td>96.159405</td>\n",
       "      <td>1.071182e+07</td>\n",
       "      <td>1953.0</td>\n",
       "      <td>2.568356e-02</td>\n",
       "      <td>2.010365e-02</td>\n",
       "    </tr>\n",
       "    <tr>\n",
       "      <th>12</th>\n",
       "      <td>131381.17</td>\n",
       "      <td>Hinds Laboratory</td>\n",
       "      <td>A08</td>\n",
       "      <td>89.158624</td>\n",
       "      <td>1.171376e+07</td>\n",
       "      <td>1969.0</td>\n",
       "      <td>2.808590e-02</td>\n",
       "      <td>1.864003e-02</td>\n",
       "    </tr>\n",
       "    <tr>\n",
       "      <th>13</th>\n",
       "      <td>34701.50</td>\n",
       "      <td>Marjorie B. Kovler Viral Oncology Laboratories</td>\n",
       "      <td>A11</td>\n",
       "      <td>87.099764</td>\n",
       "      <td>3.022492e+06</td>\n",
       "      <td>1977.0</td>\n",
       "      <td>7.246981e-03</td>\n",
       "      <td>1.820959e-02</td>\n",
       "    </tr>\n",
       "    <tr>\n",
       "      <th>14</th>\n",
       "      <td>90594.75</td>\n",
       "      <td>University High School</td>\n",
       "      <td>E11</td>\n",
       "      <td>76.522801</td>\n",
       "      <td>6.932564e+06</td>\n",
       "      <td>1961.0</td>\n",
       "      <td>1.662210e-02</td>\n",
       "      <td>1.599831e-02</td>\n",
       "    </tr>\n",
       "    <tr>\n",
       "      <th>15</th>\n",
       "      <td>95682.00</td>\n",
       "      <td>Max Palevsky Commons B/Center</td>\n",
       "      <td>C33</td>\n",
       "      <td>74.855636</td>\n",
       "      <td>7.162337e+06</td>\n",
       "      <td>2002.0</td>\n",
       "      <td>1.717302e-02</td>\n",
       "      <td>1.564976e-02</td>\n",
       "    </tr>\n",
       "    <tr>\n",
       "      <th>16</th>\n",
       "      <td>69196.38</td>\n",
       "      <td>Steam Plant Power Plant</td>\n",
       "      <td>F02</td>\n",
       "      <td>66.850588</td>\n",
       "      <td>4.625819e+06</td>\n",
       "      <td>1929.0</td>\n",
       "      <td>1.109125e-02</td>\n",
       "      <td>1.397618e-02</td>\n",
       "    </tr>\n",
       "    <tr>\n",
       "      <th>17</th>\n",
       "      <td>47087.55</td>\n",
       "      <td>Laboratory for Astrophysics and Space Research</td>\n",
       "      <td>B01</td>\n",
       "      <td>66.040724</td>\n",
       "      <td>3.109696e+06</td>\n",
       "      <td>1964.0</td>\n",
       "      <td>7.456068e-03</td>\n",
       "      <td>1.380686e-02</td>\n",
       "    </tr>\n",
       "    <tr>\n",
       "      <th>18</th>\n",
       "      <td>47371.45</td>\n",
       "      <td>Biopsychological Research Building</td>\n",
       "      <td>B08</td>\n",
       "      <td>65.055290</td>\n",
       "      <td>3.081763e+06</td>\n",
       "      <td>1968.0</td>\n",
       "      <td>7.389094e-03</td>\n",
       "      <td>1.360084e-02</td>\n",
       "    </tr>\n",
       "    <tr>\n",
       "      <th>19</th>\n",
       "      <td>4121.25</td>\n",
       "      <td>Stagg Field Building</td>\n",
       "      <td>B34</td>\n",
       "      <td>63.627548</td>\n",
       "      <td>2.622250e+05</td>\n",
       "      <td>1978.0</td>\n",
       "      <td>6.287327e-04</td>\n",
       "      <td>1.330235e-02</td>\n",
       "    </tr>\n",
       "    <tr>\n",
       "      <th>20</th>\n",
       "      <td>67021.23</td>\n",
       "      <td>A.J. Carlson Animal Research Facility</td>\n",
       "      <td>A22</td>\n",
       "      <td>63.184680</td>\n",
       "      <td>4.234715e+06</td>\n",
       "      <td>1969.0</td>\n",
       "      <td>1.015351e-02</td>\n",
       "      <td>1.320976e-02</td>\n",
       "    </tr>\n",
       "    <tr>\n",
       "      <th>21</th>\n",
       "      <td>34539.90</td>\n",
       "      <td>Smart Museum of Art</td>\n",
       "      <td>C13</td>\n",
       "      <td>61.466758</td>\n",
       "      <td>2.123056e+06</td>\n",
       "      <td>1974.0</td>\n",
       "      <td>5.090416e-03</td>\n",
       "      <td>1.285060e-02</td>\n",
       "    </tr>\n",
       "    <tr>\n",
       "      <th>22</th>\n",
       "      <td>145692.97</td>\n",
       "      <td>Research Institutes</td>\n",
       "      <td>B07</td>\n",
       "      <td>60.735728</td>\n",
       "      <td>8.848769e+06</td>\n",
       "      <td>1950.0</td>\n",
       "      <td>2.121655e-02</td>\n",
       "      <td>1.269777e-02</td>\n",
       "    </tr>\n",
       "    <tr>\n",
       "      <th>23</th>\n",
       "      <td>36878.89</td>\n",
       "      <td>Anatomy Building</td>\n",
       "      <td>D06</td>\n",
       "      <td>45.293454</td>\n",
       "      <td>1.670372e+06</td>\n",
       "      <td>1897.0</td>\n",
       "      <td>4.005025e-03</td>\n",
       "      <td>9.469317e-03</td>\n",
       "    </tr>\n",
       "    <tr>\n",
       "      <th>24</th>\n",
       "      <td>215499.23</td>\n",
       "      <td>Laird Bell Law Quadrangle</td>\n",
       "      <td>H02</td>\n",
       "      <td>44.980676</td>\n",
       "      <td>9.693301e+06</td>\n",
       "      <td>1959.0</td>\n",
       "      <td>2.324147e-02</td>\n",
       "      <td>9.403926e-03</td>\n",
       "    </tr>\n",
       "    <tr>\n",
       "      <th>25</th>\n",
       "      <td>20468.55</td>\n",
       "      <td>Goodspeed Hall</td>\n",
       "      <td>D42</td>\n",
       "      <td>44.195303</td>\n",
       "      <td>9.046138e+05</td>\n",
       "      <td>1892.0</td>\n",
       "      <td>2.168978e-03</td>\n",
       "      <td>9.239731e-03</td>\n",
       "    </tr>\n",
       "    <tr>\n",
       "      <th>26</th>\n",
       "      <td>66725.07</td>\n",
       "      <td>Social Science Research Building</td>\n",
       "      <td>D36</td>\n",
       "      <td>40.848659</td>\n",
       "      <td>2.725630e+06</td>\n",
       "      <td>1929.0</td>\n",
       "      <td>6.535198e-03</td>\n",
       "      <td>8.540062e-03</td>\n",
       "    </tr>\n",
       "    <tr>\n",
       "      <th>27</th>\n",
       "      <td>185814.54</td>\n",
       "      <td>1155 East 60th Street</td>\n",
       "      <td>H01</td>\n",
       "      <td>40.245838</td>\n",
       "      <td>7.478262e+06</td>\n",
       "      <td>1954.0</td>\n",
       "      <td>1.793051e-02</td>\n",
       "      <td>8.414033e-03</td>\n",
       "    </tr>\n",
       "    <tr>\n",
       "      <th>28</th>\n",
       "      <td>80983.71</td>\n",
       "      <td>6054 South Drexel Avenue</td>\n",
       "      <td>I29</td>\n",
       "      <td>39.657974</td>\n",
       "      <td>3.211650e+06</td>\n",
       "      <td>2008.0</td>\n",
       "      <td>7.700521e-03</td>\n",
       "      <td>8.291130e-03</td>\n",
       "    </tr>\n",
       "    <tr>\n",
       "      <th>29</th>\n",
       "      <td>61715.43</td>\n",
       "      <td>Eckhart Hall</td>\n",
       "      <td>D16</td>\n",
       "      <td>39.487509</td>\n",
       "      <td>2.436989e+06</td>\n",
       "      <td>1930.0</td>\n",
       "      <td>5.843128e-03</td>\n",
       "      <td>8.255492e-03</td>\n",
       "    </tr>\n",
       "    <tr>\n",
       "      <th>...</th>\n",
       "      <td>...</td>\n",
       "      <td>...</td>\n",
       "      <td>...</td>\n",
       "      <td>...</td>\n",
       "      <td>...</td>\n",
       "      <td>...</td>\n",
       "      <td>...</td>\n",
       "      <td>...</td>\n",
       "    </tr>\n",
       "    <tr>\n",
       "      <th>50</th>\n",
       "      <td>66084.15</td>\n",
       "      <td>950 East 61st Street</td>\n",
       "      <td>I13</td>\n",
       "      <td>23.089301</td>\n",
       "      <td>1.525837e+06</td>\n",
       "      <td>1970.0</td>\n",
       "      <td>3.658474e-03</td>\n",
       "      <td>4.827186e-03</td>\n",
       "    </tr>\n",
       "    <tr>\n",
       "      <th>51</th>\n",
       "      <td>188820.81</td>\n",
       "      <td>Reva and David Logan Center for the Arts</td>\n",
       "      <td>I30</td>\n",
       "      <td>22.721938</td>\n",
       "      <td>4.290375e+06</td>\n",
       "      <td>2012.0</td>\n",
       "      <td>1.028696e-02</td>\n",
       "      <td>4.750383e-03</td>\n",
       "    </tr>\n",
       "    <tr>\n",
       "      <th>52</th>\n",
       "      <td>4029.10</td>\n",
       "      <td>University Service Garage</td>\n",
       "      <td>B29</td>\n",
       "      <td>21.980708</td>\n",
       "      <td>8.856247e+04</td>\n",
       "      <td>1962.0</td>\n",
       "      <td>2.123448e-04</td>\n",
       "      <td>4.595417e-03</td>\n",
       "    </tr>\n",
       "    <tr>\n",
       "      <th>53</th>\n",
       "      <td>91969.74</td>\n",
       "      <td>Ida Noyes Hall</td>\n",
       "      <td>E09</td>\n",
       "      <td>21.698820</td>\n",
       "      <td>1.995635e+06</td>\n",
       "      <td>1916.0</td>\n",
       "      <td>4.784901e-03</td>\n",
       "      <td>4.536483e-03</td>\n",
       "    </tr>\n",
       "    <tr>\n",
       "      <th>54</th>\n",
       "      <td>237120.34</td>\n",
       "      <td>International House</td>\n",
       "      <td>E13</td>\n",
       "      <td>20.570557</td>\n",
       "      <td>4.877697e+06</td>\n",
       "      <td>1932.0</td>\n",
       "      <td>1.169518e-02</td>\n",
       "      <td>4.300602e-03</td>\n",
       "    </tr>\n",
       "    <tr>\n",
       "      <th>55</th>\n",
       "      <td>80488.51</td>\n",
       "      <td>Chicago Theological Seminary</td>\n",
       "      <td>F16</td>\n",
       "      <td>20.327905</td>\n",
       "      <td>1.636163e+06</td>\n",
       "      <td>2011.0</td>\n",
       "      <td>3.923001e-03</td>\n",
       "      <td>4.249872e-03</td>\n",
       "    </tr>\n",
       "    <tr>\n",
       "      <th>56</th>\n",
       "      <td>90125.40</td>\n",
       "      <td>Edward H. Levi Hall</td>\n",
       "      <td>D20</td>\n",
       "      <td>19.200910</td>\n",
       "      <td>1.730490e+06</td>\n",
       "      <td>1949.0</td>\n",
       "      <td>4.149167e-03</td>\n",
       "      <td>4.014256e-03</td>\n",
       "    </tr>\n",
       "    <tr>\n",
       "      <th>57</th>\n",
       "      <td>11176.90</td>\n",
       "      <td>5733 South University Avenue</td>\n",
       "      <td>D14</td>\n",
       "      <td>19.128687</td>\n",
       "      <td>2.137994e+05</td>\n",
       "      <td>1903.0</td>\n",
       "      <td>5.126234e-04</td>\n",
       "      <td>3.999156e-03</td>\n",
       "    </tr>\n",
       "    <tr>\n",
       "      <th>58</th>\n",
       "      <td>59286.96</td>\n",
       "      <td>Kersten Physics Teaching Center</td>\n",
       "      <td>A07</td>\n",
       "      <td>19.092313</td>\n",
       "      <td>1.131925e+06</td>\n",
       "      <td>1985.0</td>\n",
       "      <td>2.713999e-03</td>\n",
       "      <td>3.991552e-03</td>\n",
       "    </tr>\n",
       "    <tr>\n",
       "      <th>59</th>\n",
       "      <td>168656.27</td>\n",
       "      <td>John Crerar Library</td>\n",
       "      <td>A06</td>\n",
       "      <td>17.817890</td>\n",
       "      <td>3.005099e+06</td>\n",
       "      <td>1984.0</td>\n",
       "      <td>7.205277e-03</td>\n",
       "      <td>3.725113e-03</td>\n",
       "    </tr>\n",
       "    <tr>\n",
       "      <th>60</th>\n",
       "      <td>140390.61</td>\n",
       "      <td>Saieh Hall for Economics</td>\n",
       "      <td>D69</td>\n",
       "      <td>17.642113</td>\n",
       "      <td>2.476787e+06</td>\n",
       "      <td>1928.0</td>\n",
       "      <td>5.938552e-03</td>\n",
       "      <td>3.688364e-03</td>\n",
       "    </tr>\n",
       "    <tr>\n",
       "      <th>61</th>\n",
       "      <td>146500.59</td>\n",
       "      <td>Henry Crown Field House</td>\n",
       "      <td>C02</td>\n",
       "      <td>13.411048</td>\n",
       "      <td>1.964726e+06</td>\n",
       "      <td>1932.0</td>\n",
       "      <td>4.710793e-03</td>\n",
       "      <td>2.803793e-03</td>\n",
       "    </tr>\n",
       "    <tr>\n",
       "      <th>62</th>\n",
       "      <td>1479.63</td>\n",
       "      <td>Laboratory Service Building</td>\n",
       "      <td>F08</td>\n",
       "      <td>13.387612</td>\n",
       "      <td>1.980871e+04</td>\n",
       "      <td>1985.0</td>\n",
       "      <td>4.749503e-05</td>\n",
       "      <td>2.798893e-03</td>\n",
       "    </tr>\n",
       "    <tr>\n",
       "      <th>63</th>\n",
       "      <td>73836.96</td>\n",
       "      <td></td>\n",
       "      <td>D07/D08</td>\n",
       "      <td>12.804645</td>\n",
       "      <td>9.454561e+05</td>\n",
       "      <td>0.0</td>\n",
       "      <td>2.266905e-03</td>\n",
       "      <td>2.677015e-03</td>\n",
       "    </tr>\n",
       "    <tr>\n",
       "      <th>64</th>\n",
       "      <td>201402.16</td>\n",
       "      <td>Burton-Judson Courts</td>\n",
       "      <td>H03</td>\n",
       "      <td>11.776753</td>\n",
       "      <td>2.371863e+06</td>\n",
       "      <td>1931.0</td>\n",
       "      <td>5.686979e-03</td>\n",
       "      <td>2.462118e-03</td>\n",
       "    </tr>\n",
       "    <tr>\n",
       "      <th>65</th>\n",
       "      <td>46482.51</td>\n",
       "      <td>McGiffert House</td>\n",
       "      <td>E52</td>\n",
       "      <td>10.580259</td>\n",
       "      <td>4.917970e+05</td>\n",
       "      <td>1960.0</td>\n",
       "      <td>1.179174e-03</td>\n",
       "      <td>2.211971e-03</td>\n",
       "    </tr>\n",
       "    <tr>\n",
       "      <th>66</th>\n",
       "      <td>102865.32</td>\n",
       "      <td>Abbott Memorial Hall</td>\n",
       "      <td>A15</td>\n",
       "      <td>10.509459</td>\n",
       "      <td>1.081059e+06</td>\n",
       "      <td>1926.0</td>\n",
       "      <td>2.592037e-03</td>\n",
       "      <td>2.197170e-03</td>\n",
       "    </tr>\n",
       "    <tr>\n",
       "      <th>67</th>\n",
       "      <td>76246.42</td>\n",
       "      <td>5608 South Stony Island Blvd</td>\n",
       "      <td>N11</td>\n",
       "      <td>9.568955</td>\n",
       "      <td>7.295986e+05</td>\n",
       "      <td>1920.0</td>\n",
       "      <td>1.749347e-03</td>\n",
       "      <td>2.000542e-03</td>\n",
       "    </tr>\n",
       "    <tr>\n",
       "      <th>68</th>\n",
       "      <td>23941.40</td>\n",
       "      <td>5482-88 Greenwood</td>\n",
       "      <td>L07</td>\n",
       "      <td>9.018099</td>\n",
       "      <td>2.159059e+05</td>\n",
       "      <td>1921.0</td>\n",
       "      <td>5.176741e-04</td>\n",
       "      <td>1.885377e-03</td>\n",
       "    </tr>\n",
       "    <tr>\n",
       "      <th>69</th>\n",
       "      <td>45482.94</td>\n",
       "      <td>6022-24 South Drexel Avenue</td>\n",
       "      <td>I10</td>\n",
       "      <td>8.513888</td>\n",
       "      <td>3.872367e+05</td>\n",
       "      <td>1915.0</td>\n",
       "      <td>9.284711e-04</td>\n",
       "      <td>1.779964e-03</td>\n",
       "    </tr>\n",
       "    <tr>\n",
       "      <th>70</th>\n",
       "      <td>7443.43</td>\n",
       "      <td>5737 South University Avenue</td>\n",
       "      <td>D48</td>\n",
       "      <td>8.472648</td>\n",
       "      <td>6.306556e+04</td>\n",
       "      <td>1897.0</td>\n",
       "      <td>1.512113e-04</td>\n",
       "      <td>1.771342e-03</td>\n",
       "    </tr>\n",
       "    <tr>\n",
       "      <th>71</th>\n",
       "      <td>19320.06</td>\n",
       "      <td>Midway Studios</td>\n",
       "      <td>I02</td>\n",
       "      <td>8.285153</td>\n",
       "      <td>1.600697e+05</td>\n",
       "      <td>1929.0</td>\n",
       "      <td>3.837964e-04</td>\n",
       "      <td>1.732143e-03</td>\n",
       "    </tr>\n",
       "    <tr>\n",
       "      <th>72</th>\n",
       "      <td>57126.74</td>\n",
       "      <td>1365 East 60th Street</td>\n",
       "      <td>G01</td>\n",
       "      <td>8.263028</td>\n",
       "      <td>4.720399e+05</td>\n",
       "      <td>1918.0</td>\n",
       "      <td>1.131802e-03</td>\n",
       "      <td>1.727517e-03</td>\n",
       "    </tr>\n",
       "    <tr>\n",
       "      <th>73</th>\n",
       "      <td>50697.42</td>\n",
       "      <td>Breckinridge House</td>\n",
       "      <td>E21</td>\n",
       "      <td>7.654458</td>\n",
       "      <td>3.880613e+05</td>\n",
       "      <td>1916.0</td>\n",
       "      <td>9.304483e-04</td>\n",
       "      <td>1.600286e-03</td>\n",
       "    </tr>\n",
       "    <tr>\n",
       "      <th>74</th>\n",
       "      <td>11330.73</td>\n",
       "      <td>5631-33 Maryland</td>\n",
       "      <td>B27</td>\n",
       "      <td>6.165569</td>\n",
       "      <td>6.986040e+04</td>\n",
       "      <td>1915.0</td>\n",
       "      <td>1.675032e-04</td>\n",
       "      <td>1.289010e-03</td>\n",
       "    </tr>\n",
       "    <tr>\n",
       "      <th>75</th>\n",
       "      <td>7405.82</td>\n",
       "      <td>Wilder House</td>\n",
       "      <td>E20</td>\n",
       "      <td>6.095697</td>\n",
       "      <td>4.514364e+04</td>\n",
       "      <td>1897.0</td>\n",
       "      <td>1.082402e-04</td>\n",
       "      <td>1.274403e-03</td>\n",
       "    </tr>\n",
       "    <tr>\n",
       "      <th>76</th>\n",
       "      <td>8604.57</td>\n",
       "      <td>Lillie House</td>\n",
       "      <td>E05</td>\n",
       "      <td>2.612319</td>\n",
       "      <td>2.247788e+04</td>\n",
       "      <td>1904.0</td>\n",
       "      <td>5.389484e-05</td>\n",
       "      <td>5.461467e-04</td>\n",
       "    </tr>\n",
       "    <tr>\n",
       "      <th>77</th>\n",
       "      <td>17939.18</td>\n",
       "      <td>5727 South University Avenue</td>\n",
       "      <td>D13</td>\n",
       "      <td>2.565006</td>\n",
       "      <td>4.601410e+04</td>\n",
       "      <td>1897.0</td>\n",
       "      <td>1.103273e-04</td>\n",
       "      <td>5.362553e-04</td>\n",
       "    </tr>\n",
       "    <tr>\n",
       "      <th>78</th>\n",
       "      <td>250751.28</td>\n",
       "      <td>Comer Children's Hospital</td>\n",
       "      <td>A87</td>\n",
       "      <td>0.000265</td>\n",
       "      <td>6.652800e+01</td>\n",
       "      <td>2004.0</td>\n",
       "      <td>1.595131e-07</td>\n",
       "      <td>5.546826e-08</td>\n",
       "    </tr>\n",
       "    <tr>\n",
       "      <th>79</th>\n",
       "      <td>15805.66</td>\n",
       "      <td>Ingleside Hall</td>\n",
       "      <td>A12</td>\n",
       "      <td>0.000000</td>\n",
       "      <td>0.000000e+00</td>\n",
       "      <td>1898.0</td>\n",
       "      <td>0.000000e+00</td>\n",
       "      <td>0.000000e+00</td>\n",
       "    </tr>\n",
       "  </tbody>\n",
       "</table>\n",
       "<p>80 rows × 8 columns</p>\n",
       "</div>"
      ],
      "text/plain": [
       "         Area                                        Building     Code  \\\n",
       "0     8134.27                             MRS Building (CLSC)      A50   \n",
       "1    25810.61                      South Campus Chiller Plant      F15   \n",
       "2    64725.18              West Campus Combined Utility Plant     B113   \n",
       "3    58574.06                              Rockefeller Chapel      D29   \n",
       "4    68706.33                                Jones Laboratory      D19   \n",
       "5   121692.71   Donnelley Biological Sciences Learning Center      B36   \n",
       "6    58781.22                            Accelerator Building      B03   \n",
       "7   471918.02           Gordon Center for Integrative Science      A86   \n",
       "8   172407.63                   Cummings Life Sciences Center      A62   \n",
       "9    64814.03               Armour Clinical Research Building      A18   \n",
       "10  330906.58                        Medical Campus Parking A      A70   \n",
       "11  111396.48              Franklin McLean Research Institute      A19   \n",
       "12  131381.17                                Hinds Laboratory      A08   \n",
       "13   34701.50  Marjorie B. Kovler Viral Oncology Laboratories      A11   \n",
       "14   90594.75                          University High School      E11   \n",
       "15   95682.00                   Max Palevsky Commons B/Center      C33   \n",
       "16   69196.38                         Steam Plant Power Plant      F02   \n",
       "17   47087.55  Laboratory for Astrophysics and Space Research      B01   \n",
       "18   47371.45              Biopsychological Research Building      B08   \n",
       "19    4121.25                            Stagg Field Building      B34   \n",
       "20   67021.23           A.J. Carlson Animal Research Facility      A22   \n",
       "21   34539.90                             Smart Museum of Art      C13   \n",
       "22  145692.97                             Research Institutes      B07   \n",
       "23   36878.89                                Anatomy Building      D06   \n",
       "24  215499.23                       Laird Bell Law Quadrangle      H02   \n",
       "25   20468.55                                  Goodspeed Hall      D42   \n",
       "26   66725.07                Social Science Research Building      D36   \n",
       "27  185814.54                           1155 East 60th Street      H01   \n",
       "28   80983.71                        6054 South Drexel Avenue      I29   \n",
       "29   61715.43                                    Eckhart Hall      D16   \n",
       "..        ...                                             ...      ...   \n",
       "50   66084.15                            950 East 61st Street      I13   \n",
       "51  188820.81        Reva and David Logan Center for the Arts      I30   \n",
       "52    4029.10                       University Service Garage      B29   \n",
       "53   91969.74                                  Ida Noyes Hall      E09   \n",
       "54  237120.34                             International House      E13   \n",
       "55   80488.51                    Chicago Theological Seminary      F16   \n",
       "56   90125.40                             Edward H. Levi Hall      D20   \n",
       "57   11176.90                    5733 South University Avenue      D14   \n",
       "58   59286.96                 Kersten Physics Teaching Center      A07   \n",
       "59  168656.27                             John Crerar Library      A06   \n",
       "60  140390.61                        Saieh Hall for Economics      D69   \n",
       "61  146500.59                         Henry Crown Field House      C02   \n",
       "62    1479.63                     Laboratory Service Building      F08   \n",
       "63   73836.96                                                  D07/D08   \n",
       "64  201402.16                            Burton-Judson Courts      H03   \n",
       "65   46482.51                                 McGiffert House      E52   \n",
       "66  102865.32                            Abbott Memorial Hall      A15   \n",
       "67   76246.42                    5608 South Stony Island Blvd      N11   \n",
       "68   23941.40                               5482-88 Greenwood      L07   \n",
       "69   45482.94                     6022-24 South Drexel Avenue      I10   \n",
       "70    7443.43                    5737 South University Avenue      D48   \n",
       "71   19320.06                                  Midway Studios      I02   \n",
       "72   57126.74                           1365 East 60th Street      G01   \n",
       "73   50697.42                              Breckinridge House      E21   \n",
       "74   11330.73                                5631-33 Maryland      B27   \n",
       "75    7405.82                                    Wilder House      E20   \n",
       "76    8604.57                                    Lillie House      E05   \n",
       "77   17939.18                    5727 South University Avenue      D13   \n",
       "78  250751.28                       Comer Children's Hospital      A87   \n",
       "79   15805.66                                  Ingleside Hall      A12   \n",
       "\n",
       "    Normalized Usage         Usage    Year  Cumulative prop  \\\n",
       "0         691.354617  5.623665e+06  1994.0     1.348377e-02   \n",
       "1         434.578482  1.121674e+07  2009.0     2.689419e-02   \n",
       "2         412.872760  2.672326e+07  2009.0     6.407394e-02   \n",
       "3         190.607125  1.116463e+07  1928.0     2.676926e-02   \n",
       "4         180.717039  1.241640e+07  1929.0     2.977061e-02   \n",
       "5         147.191424  1.791212e+07  1993.0     4.294761e-02   \n",
       "6         145.603794  8.558769e+06  1949.0     2.052122e-02   \n",
       "7         115.564463  5.453695e+07  2005.0     1.307624e-01   \n",
       "8         114.101624  1.967199e+07  1973.0     4.716721e-02   \n",
       "9         106.721930  6.917078e+06  1963.0     1.658497e-02   \n",
       "10        106.527685  3.525071e+07  1973.0     8.452006e-02   \n",
       "11         96.159405  1.071182e+07  1953.0     2.568356e-02   \n",
       "12         89.158624  1.171376e+07  1969.0     2.808590e-02   \n",
       "13         87.099764  3.022492e+06  1977.0     7.246981e-03   \n",
       "14         76.522801  6.932564e+06  1961.0     1.662210e-02   \n",
       "15         74.855636  7.162337e+06  2002.0     1.717302e-02   \n",
       "16         66.850588  4.625819e+06  1929.0     1.109125e-02   \n",
       "17         66.040724  3.109696e+06  1964.0     7.456068e-03   \n",
       "18         65.055290  3.081763e+06  1968.0     7.389094e-03   \n",
       "19         63.627548  2.622250e+05  1978.0     6.287327e-04   \n",
       "20         63.184680  4.234715e+06  1969.0     1.015351e-02   \n",
       "21         61.466758  2.123056e+06  1974.0     5.090416e-03   \n",
       "22         60.735728  8.848769e+06  1950.0     2.121655e-02   \n",
       "23         45.293454  1.670372e+06  1897.0     4.005025e-03   \n",
       "24         44.980676  9.693301e+06  1959.0     2.324147e-02   \n",
       "25         44.195303  9.046138e+05  1892.0     2.168978e-03   \n",
       "26         40.848659  2.725630e+06  1929.0     6.535198e-03   \n",
       "27         40.245838  7.478262e+06  1954.0     1.793051e-02   \n",
       "28         39.657974  3.211650e+06  2008.0     7.700521e-03   \n",
       "29         39.487509  2.436989e+06  1930.0     5.843128e-03   \n",
       "..               ...           ...     ...              ...   \n",
       "50         23.089301  1.525837e+06  1970.0     3.658474e-03   \n",
       "51         22.721938  4.290375e+06  2012.0     1.028696e-02   \n",
       "52         21.980708  8.856247e+04  1962.0     2.123448e-04   \n",
       "53         21.698820  1.995635e+06  1916.0     4.784901e-03   \n",
       "54         20.570557  4.877697e+06  1932.0     1.169518e-02   \n",
       "55         20.327905  1.636163e+06  2011.0     3.923001e-03   \n",
       "56         19.200910  1.730490e+06  1949.0     4.149167e-03   \n",
       "57         19.128687  2.137994e+05  1903.0     5.126234e-04   \n",
       "58         19.092313  1.131925e+06  1985.0     2.713999e-03   \n",
       "59         17.817890  3.005099e+06  1984.0     7.205277e-03   \n",
       "60         17.642113  2.476787e+06  1928.0     5.938552e-03   \n",
       "61         13.411048  1.964726e+06  1932.0     4.710793e-03   \n",
       "62         13.387612  1.980871e+04  1985.0     4.749503e-05   \n",
       "63         12.804645  9.454561e+05     0.0     2.266905e-03   \n",
       "64         11.776753  2.371863e+06  1931.0     5.686979e-03   \n",
       "65         10.580259  4.917970e+05  1960.0     1.179174e-03   \n",
       "66         10.509459  1.081059e+06  1926.0     2.592037e-03   \n",
       "67          9.568955  7.295986e+05  1920.0     1.749347e-03   \n",
       "68          9.018099  2.159059e+05  1921.0     5.176741e-04   \n",
       "69          8.513888  3.872367e+05  1915.0     9.284711e-04   \n",
       "70          8.472648  6.306556e+04  1897.0     1.512113e-04   \n",
       "71          8.285153  1.600697e+05  1929.0     3.837964e-04   \n",
       "72          8.263028  4.720399e+05  1918.0     1.131802e-03   \n",
       "73          7.654458  3.880613e+05  1916.0     9.304483e-04   \n",
       "74          6.165569  6.986040e+04  1915.0     1.675032e-04   \n",
       "75          6.095697  4.514364e+04  1897.0     1.082402e-04   \n",
       "76          2.612319  2.247788e+04  1904.0     5.389484e-05   \n",
       "77          2.565006  4.601410e+04  1897.0     1.103273e-04   \n",
       "78          0.000265  6.652800e+01  2004.0     1.595131e-07   \n",
       "79          0.000000  0.000000e+00  1898.0     0.000000e+00   \n",
       "\n",
       "    Normalized area prop  \n",
       "0           1.445387e-01  \n",
       "1           9.085554e-02  \n",
       "2           8.631762e-02  \n",
       "3           3.984945e-02  \n",
       "4           3.778177e-02  \n",
       "5           3.077271e-02  \n",
       "6           3.044079e-02  \n",
       "7           2.416059e-02  \n",
       "8           2.385476e-02  \n",
       "9           2.231192e-02  \n",
       "10          2.227131e-02  \n",
       "11          2.010365e-02  \n",
       "12          1.864003e-02  \n",
       "13          1.820959e-02  \n",
       "14          1.599831e-02  \n",
       "15          1.564976e-02  \n",
       "16          1.397618e-02  \n",
       "17          1.380686e-02  \n",
       "18          1.360084e-02  \n",
       "19          1.330235e-02  \n",
       "20          1.320976e-02  \n",
       "21          1.285060e-02  \n",
       "22          1.269777e-02  \n",
       "23          9.469317e-03  \n",
       "24          9.403926e-03  \n",
       "25          9.239731e-03  \n",
       "26          8.540062e-03  \n",
       "27          8.414033e-03  \n",
       "28          8.291130e-03  \n",
       "29          8.255492e-03  \n",
       "..                   ...  \n",
       "50          4.827186e-03  \n",
       "51          4.750383e-03  \n",
       "52          4.595417e-03  \n",
       "53          4.536483e-03  \n",
       "54          4.300602e-03  \n",
       "55          4.249872e-03  \n",
       "56          4.014256e-03  \n",
       "57          3.999156e-03  \n",
       "58          3.991552e-03  \n",
       "59          3.725113e-03  \n",
       "60          3.688364e-03  \n",
       "61          2.803793e-03  \n",
       "62          2.798893e-03  \n",
       "63          2.677015e-03  \n",
       "64          2.462118e-03  \n",
       "65          2.211971e-03  \n",
       "66          2.197170e-03  \n",
       "67          2.000542e-03  \n",
       "68          1.885377e-03  \n",
       "69          1.779964e-03  \n",
       "70          1.771342e-03  \n",
       "71          1.732143e-03  \n",
       "72          1.727517e-03  \n",
       "73          1.600286e-03  \n",
       "74          1.289010e-03  \n",
       "75          1.274403e-03  \n",
       "76          5.461467e-04  \n",
       "77          5.362553e-04  \n",
       "78          5.546826e-08  \n",
       "79          0.000000e+00  \n",
       "\n",
       "[80 rows x 8 columns]"
      ]
     },
     "execution_count": 103,
     "metadata": {},
     "output_type": "execute_result"
    }
   ],
   "source": [
    "df_cumulative = df_cumulative.reset_index(drop=True)\n",
    "df_cumulative"
   ]
  },
  {
   "cell_type": "markdown",
   "metadata": {},
   "source": [
    "### MRS Building"
   ]
  },
  {
   "cell_type": "code",
   "execution_count": 173,
   "metadata": {
    "collapsed": true
   },
   "outputs": [],
   "source": [
    "mrs = get_building_data('A50')"
   ]
  },
  {
   "cell_type": "code",
   "execution_count": 169,
   "metadata": {
    "scrolled": false
   },
   "outputs": [
    {
     "name": "stderr",
     "output_type": "stream",
     "text": [
      "/Users/abisolaolawale/anaconda/lib/python3.6/site-packages/ipykernel_launcher.py:10: DeprecationWarning:\n",
      "\n",
      "\n",
      ".ix is deprecated. Please use\n",
      ".loc for label based indexing or\n",
      ".iloc for positional indexing\n",
      "\n",
      "See the documentation here:\n",
      "http://pandas.pydata.org/pandas-docs/stable/indexing.html#deprecate_ix\n",
      "\n"
     ]
    }
   ],
   "source": [
    "mrs_anom = get_anomaly_percent(mrs, 'A50 MRS Building (CLSC) (B1)')"
   ]
  },
  {
   "cell_type": "code",
   "execution_count": 170,
   "metadata": {},
   "outputs": [],
   "source": [
    "mrs_anom.Date = pd.to_datetime(mrs_anom.Date).dt.month\n",
    "mrs_anom = mrs_anom.groupby(by='Date').mean()"
   ]
  },
  {
   "cell_type": "code",
   "execution_count": 202,
   "metadata": {
    "collapsed": true
   },
   "outputs": [],
   "source": [
    "mrsdata = [Bar(x=mrs_anom.index, y=mrs_anom['Percent Difference'])]\n",
    "layout = go.Layout(title='MRS Building', xaxis=dict(title='Month'), yaxis=dict(title='Percent Difference'))"
   ]
  },
  {
   "cell_type": "code",
   "execution_count": 203,
   "metadata": {},
   "outputs": [
    {
     "data": {
      "application/vnd.plotly.v1+json": {
       "data": [
        {
         "type": "bar",
         "x": [
          1,
          2,
          3,
          4,
          5,
          6,
          7,
          8,
          9,
          10,
          11,
          12
         ],
         "y": [
          2.8719858672577003,
          2.9111497482268955,
          2.674925830725253,
          2.1946748775835734,
          1.7182249422574325,
          1.9245075701405467,
          1.454184566853176,
          1.339791373741207,
          1.3253738133824058,
          1.5640584445848091,
          1.5855965417771651,
          1.3553205097840313
         ]
        }
       ],
       "layout": {
        "title": "MRS Building",
        "xaxis": {
         "title": "Month"
        },
        "yaxis": {
         "title": "Percent Difference"
        }
       }
      },
      "text/html": [
       "<div id=\"06e1ada7-905d-490a-a981-2cd6882d47eb\" style=\"height: 525px; width: 100%;\" class=\"plotly-graph-div\"></div><script type=\"text/javascript\">require([\"plotly\"], function(Plotly) { window.PLOTLYENV=window.PLOTLYENV || {};window.PLOTLYENV.BASE_URL=\"https://plot.ly\";Plotly.newPlot(\"06e1ada7-905d-490a-a981-2cd6882d47eb\", [{\"type\": \"bar\", \"x\": [1, 2, 3, 4, 5, 6, 7, 8, 9, 10, 11, 12], \"y\": [2.8719858672577003, 2.9111497482268955, 2.674925830725253, 2.1946748775835734, 1.7182249422574325, 1.9245075701405467, 1.454184566853176, 1.339791373741207, 1.3253738133824058, 1.5640584445848091, 1.5855965417771651, 1.3553205097840313]}], {\"title\": \"MRS Building\", \"xaxis\": {\"title\": \"Month\"}, \"yaxis\": {\"title\": \"Percent Difference\"}}, {\"showLink\": true, \"linkText\": \"Export to plot.ly\"})});</script>"
      ],
      "text/vnd.plotly.v1+html": [
       "<div id=\"06e1ada7-905d-490a-a981-2cd6882d47eb\" style=\"height: 525px; width: 100%;\" class=\"plotly-graph-div\"></div><script type=\"text/javascript\">require([\"plotly\"], function(Plotly) { window.PLOTLYENV=window.PLOTLYENV || {};window.PLOTLYENV.BASE_URL=\"https://plot.ly\";Plotly.newPlot(\"06e1ada7-905d-490a-a981-2cd6882d47eb\", [{\"type\": \"bar\", \"x\": [1, 2, 3, 4, 5, 6, 7, 8, 9, 10, 11, 12], \"y\": [2.8719858672577003, 2.9111497482268955, 2.674925830725253, 2.1946748775835734, 1.7182249422574325, 1.9245075701405467, 1.454184566853176, 1.339791373741207, 1.3253738133824058, 1.5640584445848091, 1.5855965417771651, 1.3553205097840313]}], {\"title\": \"MRS Building\", \"xaxis\": {\"title\": \"Month\"}, \"yaxis\": {\"title\": \"Percent Difference\"}}, {\"showLink\": true, \"linkText\": \"Export to plot.ly\"})});</script>"
      ]
     },
     "metadata": {},
     "output_type": "display_data"
    }
   ],
   "source": [
    "fig = go.Figure(data=mrsdata, layout=layout)\n",
    "iplot(fig)"
   ]
  },
  {
   "cell_type": "markdown",
   "metadata": {},
   "source": [
    "### South campus chiller plant "
   ]
  },
  {
   "cell_type": "code",
   "execution_count": 204,
   "metadata": {},
   "outputs": [],
   "source": [
    "schiller = get_building_data('F15')"
   ]
  },
  {
   "cell_type": "code",
   "execution_count": 186,
   "metadata": {},
   "outputs": [
    {
     "name": "stderr",
     "output_type": "stream",
     "text": [
      "/Users/abisolaolawale/anaconda/lib/python3.6/site-packages/ipykernel_launcher.py:10: DeprecationWarning:\n",
      "\n",
      "\n",
      ".ix is deprecated. Please use\n",
      ".loc for label based indexing or\n",
      ".iloc for positional indexing\n",
      "\n",
      "See the documentation here:\n",
      "http://pandas.pydata.org/pandas-docs/stable/indexing.html#deprecate_ix\n",
      "\n"
     ]
    }
   ],
   "source": [
    "schiller_anom1 = get_anomaly_percent(schiller, 'F15 6035 S. Blackstone (B1)')\n",
    "schiller_anom2 = get_anomaly_percent(schiller, 'F15 6035 S. Blackstone (B2)')"
   ]
  },
  {
   "cell_type": "code",
   "execution_count": 187,
   "metadata": {},
   "outputs": [],
   "source": [
    "schiller_anom1.Date = pd.to_datetime(schiller_anom1.Date).dt.month\n",
    "schiller_anom1 = schiller_anom1.groupby(by='Date').mean()\n",
    "\n",
    "schiller_anom2.Date = pd.to_datetime(schiller_anom2.Date).dt.month\n",
    "schiller_anom2 = schiller_anom2.groupby(by='Date').mean()\n"
   ]
  },
  {
   "cell_type": "code",
   "execution_count": 206,
   "metadata": {},
   "outputs": [
    {
     "data": {
      "application/vnd.plotly.v1+json": {
       "data": [
        {
         "type": "bar",
         "x": [
          1,
          2,
          3,
          4,
          5,
          6,
          7,
          8,
          9,
          10,
          11,
          12
         ],
         "y": [
          16.393537198665104,
          16.797854936901953,
          30.333186381719038,
          11.83539428096074,
          14.152471156141397,
          48.38945425256335,
          35.8288853385471,
          15.728313027927694,
          18.745752556861834,
          12.080578080212751,
          10.328660075689886,
          15.032050453788553
         ]
        }
       ],
       "layout": {
        "title": "South Campus Chiller Plant (B1)",
        "xaxis": {
         "title": "Month"
        },
        "yaxis": {
         "title": "Percent Difference"
        }
       }
      },
      "text/html": [
       "<div id=\"9db43a8f-02b2-4412-9697-dfb0c68d45d0\" style=\"height: 525px; width: 100%;\" class=\"plotly-graph-div\"></div><script type=\"text/javascript\">require([\"plotly\"], function(Plotly) { window.PLOTLYENV=window.PLOTLYENV || {};window.PLOTLYENV.BASE_URL=\"https://plot.ly\";Plotly.newPlot(\"9db43a8f-02b2-4412-9697-dfb0c68d45d0\", [{\"type\": \"bar\", \"x\": [1, 2, 3, 4, 5, 6, 7, 8, 9, 10, 11, 12], \"y\": [16.393537198665104, 16.797854936901953, 30.333186381719038, 11.83539428096074, 14.152471156141397, 48.38945425256335, 35.8288853385471, 15.728313027927694, 18.745752556861834, 12.080578080212751, 10.328660075689886, 15.032050453788553]}], {\"title\": \"South Campus Chiller Plant (B1)\", \"xaxis\": {\"title\": \"Month\"}, \"yaxis\": {\"title\": \"Percent Difference\"}}, {\"showLink\": true, \"linkText\": \"Export to plot.ly\"})});</script>"
      ],
      "text/vnd.plotly.v1+html": [
       "<div id=\"9db43a8f-02b2-4412-9697-dfb0c68d45d0\" style=\"height: 525px; width: 100%;\" class=\"plotly-graph-div\"></div><script type=\"text/javascript\">require([\"plotly\"], function(Plotly) { window.PLOTLYENV=window.PLOTLYENV || {};window.PLOTLYENV.BASE_URL=\"https://plot.ly\";Plotly.newPlot(\"9db43a8f-02b2-4412-9697-dfb0c68d45d0\", [{\"type\": \"bar\", \"x\": [1, 2, 3, 4, 5, 6, 7, 8, 9, 10, 11, 12], \"y\": [16.393537198665104, 16.797854936901953, 30.333186381719038, 11.83539428096074, 14.152471156141397, 48.38945425256335, 35.8288853385471, 15.728313027927694, 18.745752556861834, 12.080578080212751, 10.328660075689886, 15.032050453788553]}], {\"title\": \"South Campus Chiller Plant (B1)\", \"xaxis\": {\"title\": \"Month\"}, \"yaxis\": {\"title\": \"Percent Difference\"}}, {\"showLink\": true, \"linkText\": \"Export to plot.ly\"})});</script>"
      ]
     },
     "metadata": {},
     "output_type": "display_data"
    }
   ],
   "source": [
    "schillerdata1 = [Bar(x=schiller_anom1.index, y=schiller_anom1['Percent Difference'])]\n",
    "layout = go.Layout(title='South Campus Chiller Plant (B1)', xaxis=dict(title='Month'), yaxis=dict(title='Percent Difference'))\n",
    "fig1 = go.Figure(data=schillerdata1, layout=layout)\n",
    "iplot(fig1)"
   ]
  },
  {
   "cell_type": "code",
   "execution_count": 207,
   "metadata": {},
   "outputs": [
    {
     "data": {
      "application/vnd.plotly.v1+json": {
       "data": [
        {
         "type": "bar",
         "x": [
          1,
          2,
          3,
          4,
          5,
          6,
          7,
          8,
          9,
          10,
          11,
          12
         ],
         "y": [
          52.04901636040917,
          59.63455124293726,
          41.63776021398819,
          26.082717046993253,
          26.037697607887875,
          42.148244976834505,
          44.42077851204872,
          40.48213134559638,
          42.24582173553471,
          41.49668264522645,
          37.553311696842684,
          43.2946363202717
         ]
        }
       ],
       "layout": {
        "title": "South Campus Chiller Plant (B2)",
        "xaxis": {
         "title": "Month"
        },
        "yaxis": {
         "title": "Percent Difference"
        }
       }
      },
      "text/html": [
       "<div id=\"f0d27f41-c5ee-44bd-8d89-0f63c93208d2\" style=\"height: 525px; width: 100%;\" class=\"plotly-graph-div\"></div><script type=\"text/javascript\">require([\"plotly\"], function(Plotly) { window.PLOTLYENV=window.PLOTLYENV || {};window.PLOTLYENV.BASE_URL=\"https://plot.ly\";Plotly.newPlot(\"f0d27f41-c5ee-44bd-8d89-0f63c93208d2\", [{\"type\": \"bar\", \"x\": [1, 2, 3, 4, 5, 6, 7, 8, 9, 10, 11, 12], \"y\": [52.04901636040917, 59.63455124293726, 41.63776021398819, 26.082717046993253, 26.037697607887875, 42.148244976834505, 44.42077851204872, 40.48213134559638, 42.24582173553471, 41.49668264522645, 37.553311696842684, 43.2946363202717]}], {\"title\": \"South Campus Chiller Plant (B2)\", \"xaxis\": {\"title\": \"Month\"}, \"yaxis\": {\"title\": \"Percent Difference\"}}, {\"showLink\": true, \"linkText\": \"Export to plot.ly\"})});</script>"
      ],
      "text/vnd.plotly.v1+html": [
       "<div id=\"f0d27f41-c5ee-44bd-8d89-0f63c93208d2\" style=\"height: 525px; width: 100%;\" class=\"plotly-graph-div\"></div><script type=\"text/javascript\">require([\"plotly\"], function(Plotly) { window.PLOTLYENV=window.PLOTLYENV || {};window.PLOTLYENV.BASE_URL=\"https://plot.ly\";Plotly.newPlot(\"f0d27f41-c5ee-44bd-8d89-0f63c93208d2\", [{\"type\": \"bar\", \"x\": [1, 2, 3, 4, 5, 6, 7, 8, 9, 10, 11, 12], \"y\": [52.04901636040917, 59.63455124293726, 41.63776021398819, 26.082717046993253, 26.037697607887875, 42.148244976834505, 44.42077851204872, 40.48213134559638, 42.24582173553471, 41.49668264522645, 37.553311696842684, 43.2946363202717]}], {\"title\": \"South Campus Chiller Plant (B2)\", \"xaxis\": {\"title\": \"Month\"}, \"yaxis\": {\"title\": \"Percent Difference\"}}, {\"showLink\": true, \"linkText\": \"Export to plot.ly\"})});</script>"
      ]
     },
     "metadata": {},
     "output_type": "display_data"
    }
   ],
   "source": [
    "schillerdata2 = [Bar(x=schiller_anom2.index, y=schiller_anom2['Percent Difference'])]\n",
    "layout = go.Layout(title='South Campus Chiller Plant (B2)', xaxis=dict(title='Month'), yaxis=dict(title='Percent Difference'))\n",
    "fig2 = go.Figure(data=schillerdata2, layout=layout)\n",
    "iplot(fig2)"
   ]
  },
  {
   "cell_type": "markdown",
   "metadata": {},
   "source": [
    "### West Campus Combined Utility Plant"
   ]
  },
  {
   "cell_type": "code",
   "execution_count": 193,
   "metadata": {},
   "outputs": [
    {
     "data": {
      "text/html": [
       "<div>\n",
       "<style>\n",
       "    .dataframe thead tr:only-child th {\n",
       "        text-align: right;\n",
       "    }\n",
       "\n",
       "    .dataframe thead th {\n",
       "        text-align: left;\n",
       "    }\n",
       "\n",
       "    .dataframe tbody tr th {\n",
       "        vertical-align: top;\n",
       "    }\n",
       "</style>\n",
       "<table border=\"1\" class=\"dataframe\">\n",
       "  <thead>\n",
       "    <tr style=\"text-align: right;\">\n",
       "      <th></th>\n",
       "      <th>Meter</th>\n",
       "      <th>Type</th>\n",
       "      <th>Date</th>\n",
       "      <th>Start Time</th>\n",
       "      <th>Usage</th>\n",
       "      <th>Usage Unit</th>\n",
       "      <th>Temperature</th>\n",
       "      <th>Temperature Unit</th>\n",
       "      <th>Datetime</th>\n",
       "    </tr>\n",
       "  </thead>\n",
       "  <tbody>\n",
       "    <tr>\n",
       "      <th>0</th>\n",
       "      <td>B113 5615 S. Maryland (B1)</td>\n",
       "      <td>Electric Usage</td>\n",
       "      <td>2014-04-11</td>\n",
       "      <td>23:30</td>\n",
       "      <td>62.64</td>\n",
       "      <td>kWh</td>\n",
       "      <td>NaN</td>\n",
       "      <td>F</td>\n",
       "      <td>2014-04-11 23:30:00</td>\n",
       "    </tr>\n",
       "    <tr>\n",
       "      <th>1</th>\n",
       "      <td>B113 5615 S. Maryland (B1)</td>\n",
       "      <td>Electric Usage</td>\n",
       "      <td>2014-04-12</td>\n",
       "      <td>00:00</td>\n",
       "      <td>60.48</td>\n",
       "      <td>kWh</td>\n",
       "      <td>52.0</td>\n",
       "      <td>F</td>\n",
       "      <td>2014-04-12 00:00:00</td>\n",
       "    </tr>\n",
       "    <tr>\n",
       "      <th>2</th>\n",
       "      <td>B113 5615 S. Maryland (B1)</td>\n",
       "      <td>Electric Usage</td>\n",
       "      <td>2014-04-12</td>\n",
       "      <td>00:30</td>\n",
       "      <td>65.34</td>\n",
       "      <td>kWh</td>\n",
       "      <td>52.0</td>\n",
       "      <td>F</td>\n",
       "      <td>2014-04-12 00:30:00</td>\n",
       "    </tr>\n",
       "    <tr>\n",
       "      <th>3</th>\n",
       "      <td>B113 5615 S. Maryland (B1)</td>\n",
       "      <td>Electric Usage</td>\n",
       "      <td>2014-04-12</td>\n",
       "      <td>01:00</td>\n",
       "      <td>70.74</td>\n",
       "      <td>kWh</td>\n",
       "      <td>55.0</td>\n",
       "      <td>F</td>\n",
       "      <td>2014-04-12 01:00:00</td>\n",
       "    </tr>\n",
       "    <tr>\n",
       "      <th>4</th>\n",
       "      <td>B113 5615 S. Maryland (B1)</td>\n",
       "      <td>Electric Usage</td>\n",
       "      <td>2014-04-12</td>\n",
       "      <td>01:30</td>\n",
       "      <td>68.04</td>\n",
       "      <td>kWh</td>\n",
       "      <td>55.0</td>\n",
       "      <td>F</td>\n",
       "      <td>2014-04-12 01:30:00</td>\n",
       "    </tr>\n",
       "    <tr>\n",
       "      <th>5</th>\n",
       "      <td>B113 5615 S. Maryland (B1)</td>\n",
       "      <td>Electric Usage</td>\n",
       "      <td>2014-04-12</td>\n",
       "      <td>02:00</td>\n",
       "      <td>69.12</td>\n",
       "      <td>kWh</td>\n",
       "      <td>57.0</td>\n",
       "      <td>F</td>\n",
       "      <td>2014-04-12 02:00:00</td>\n",
       "    </tr>\n",
       "    <tr>\n",
       "      <th>6</th>\n",
       "      <td>B113 5615 S. Maryland (B1)</td>\n",
       "      <td>Electric Usage</td>\n",
       "      <td>2014-04-12</td>\n",
       "      <td>02:30</td>\n",
       "      <td>68.58</td>\n",
       "      <td>kWh</td>\n",
       "      <td>57.0</td>\n",
       "      <td>F</td>\n",
       "      <td>2014-04-12 02:30:00</td>\n",
       "    </tr>\n",
       "    <tr>\n",
       "      <th>7</th>\n",
       "      <td>B113 5615 S. Maryland (B1)</td>\n",
       "      <td>Electric Usage</td>\n",
       "      <td>2014-04-12</td>\n",
       "      <td>03:00</td>\n",
       "      <td>65.88</td>\n",
       "      <td>kWh</td>\n",
       "      <td>61.0</td>\n",
       "      <td>F</td>\n",
       "      <td>2014-04-12 03:00:00</td>\n",
       "    </tr>\n",
       "    <tr>\n",
       "      <th>8</th>\n",
       "      <td>B113 5615 S. Maryland (B1)</td>\n",
       "      <td>Electric Usage</td>\n",
       "      <td>2014-04-12</td>\n",
       "      <td>03:30</td>\n",
       "      <td>66.42</td>\n",
       "      <td>kWh</td>\n",
       "      <td>61.0</td>\n",
       "      <td>F</td>\n",
       "      <td>2014-04-12 03:30:00</td>\n",
       "    </tr>\n",
       "    <tr>\n",
       "      <th>9</th>\n",
       "      <td>B113 5615 S. Maryland (B1)</td>\n",
       "      <td>Electric Usage</td>\n",
       "      <td>2014-04-12</td>\n",
       "      <td>04:00</td>\n",
       "      <td>66.42</td>\n",
       "      <td>kWh</td>\n",
       "      <td>67.0</td>\n",
       "      <td>F</td>\n",
       "      <td>2014-04-12 04:00:00</td>\n",
       "    </tr>\n",
       "    <tr>\n",
       "      <th>10</th>\n",
       "      <td>B113 5615 S. Maryland (B1)</td>\n",
       "      <td>Electric Usage</td>\n",
       "      <td>2014-04-12</td>\n",
       "      <td>04:30</td>\n",
       "      <td>62.10</td>\n",
       "      <td>kWh</td>\n",
       "      <td>67.0</td>\n",
       "      <td>F</td>\n",
       "      <td>2014-04-12 04:30:00</td>\n",
       "    </tr>\n",
       "    <tr>\n",
       "      <th>11</th>\n",
       "      <td>B113 5615 S. Maryland (B1)</td>\n",
       "      <td>Electric Usage</td>\n",
       "      <td>2014-04-12</td>\n",
       "      <td>05:00</td>\n",
       "      <td>64.26</td>\n",
       "      <td>kWh</td>\n",
       "      <td>68.0</td>\n",
       "      <td>F</td>\n",
       "      <td>2014-04-12 05:00:00</td>\n",
       "    </tr>\n",
       "    <tr>\n",
       "      <th>12</th>\n",
       "      <td>B113 5615 S. Maryland (B1)</td>\n",
       "      <td>Electric Usage</td>\n",
       "      <td>2014-04-12</td>\n",
       "      <td>05:30</td>\n",
       "      <td>62.64</td>\n",
       "      <td>kWh</td>\n",
       "      <td>68.0</td>\n",
       "      <td>F</td>\n",
       "      <td>2014-04-12 05:30:00</td>\n",
       "    </tr>\n",
       "    <tr>\n",
       "      <th>13</th>\n",
       "      <td>B113 5615 S. Maryland (B1)</td>\n",
       "      <td>Electric Usage</td>\n",
       "      <td>2014-04-12</td>\n",
       "      <td>06:00</td>\n",
       "      <td>58.86</td>\n",
       "      <td>kWh</td>\n",
       "      <td>71.0</td>\n",
       "      <td>F</td>\n",
       "      <td>2014-04-12 06:00:00</td>\n",
       "    </tr>\n",
       "    <tr>\n",
       "      <th>14</th>\n",
       "      <td>B113 5615 S. Maryland (B1)</td>\n",
       "      <td>Electric Usage</td>\n",
       "      <td>2014-04-12</td>\n",
       "      <td>06:30</td>\n",
       "      <td>61.02</td>\n",
       "      <td>kWh</td>\n",
       "      <td>71.0</td>\n",
       "      <td>F</td>\n",
       "      <td>2014-04-12 06:30:00</td>\n",
       "    </tr>\n",
       "    <tr>\n",
       "      <th>15</th>\n",
       "      <td>B113 5615 S. Maryland (B1)</td>\n",
       "      <td>Electric Usage</td>\n",
       "      <td>2014-04-12</td>\n",
       "      <td>07:00</td>\n",
       "      <td>57.78</td>\n",
       "      <td>kWh</td>\n",
       "      <td>73.0</td>\n",
       "      <td>F</td>\n",
       "      <td>2014-04-12 07:00:00</td>\n",
       "    </tr>\n",
       "    <tr>\n",
       "      <th>16</th>\n",
       "      <td>B113 5615 S. Maryland (B1)</td>\n",
       "      <td>Electric Usage</td>\n",
       "      <td>2014-04-12</td>\n",
       "      <td>07:30</td>\n",
       "      <td>60.48</td>\n",
       "      <td>kWh</td>\n",
       "      <td>73.0</td>\n",
       "      <td>F</td>\n",
       "      <td>2014-04-12 07:30:00</td>\n",
       "    </tr>\n",
       "    <tr>\n",
       "      <th>17</th>\n",
       "      <td>B113 5615 S. Maryland (B1)</td>\n",
       "      <td>Electric Usage</td>\n",
       "      <td>2014-04-12</td>\n",
       "      <td>08:00</td>\n",
       "      <td>59.94</td>\n",
       "      <td>kWh</td>\n",
       "      <td>75.0</td>\n",
       "      <td>F</td>\n",
       "      <td>2014-04-12 08:00:00</td>\n",
       "    </tr>\n",
       "    <tr>\n",
       "      <th>18</th>\n",
       "      <td>B113 5615 S. Maryland (B1)</td>\n",
       "      <td>Electric Usage</td>\n",
       "      <td>2014-04-12</td>\n",
       "      <td>08:30</td>\n",
       "      <td>62.64</td>\n",
       "      <td>kWh</td>\n",
       "      <td>75.0</td>\n",
       "      <td>F</td>\n",
       "      <td>2014-04-12 08:30:00</td>\n",
       "    </tr>\n",
       "    <tr>\n",
       "      <th>19</th>\n",
       "      <td>B113 5615 S. Maryland (B1)</td>\n",
       "      <td>Electric Usage</td>\n",
       "      <td>2014-04-12</td>\n",
       "      <td>09:00</td>\n",
       "      <td>62.64</td>\n",
       "      <td>kWh</td>\n",
       "      <td>80.0</td>\n",
       "      <td>F</td>\n",
       "      <td>2014-04-12 09:00:00</td>\n",
       "    </tr>\n",
       "    <tr>\n",
       "      <th>20</th>\n",
       "      <td>B113 5615 S. Maryland (B1)</td>\n",
       "      <td>Electric Usage</td>\n",
       "      <td>2014-04-12</td>\n",
       "      <td>09:30</td>\n",
       "      <td>66.96</td>\n",
       "      <td>kWh</td>\n",
       "      <td>80.0</td>\n",
       "      <td>F</td>\n",
       "      <td>2014-04-12 09:30:00</td>\n",
       "    </tr>\n",
       "    <tr>\n",
       "      <th>21</th>\n",
       "      <td>B113 5615 S. Maryland (B1)</td>\n",
       "      <td>Electric Usage</td>\n",
       "      <td>2014-04-12</td>\n",
       "      <td>10:00</td>\n",
       "      <td>71.28</td>\n",
       "      <td>kWh</td>\n",
       "      <td>79.0</td>\n",
       "      <td>F</td>\n",
       "      <td>2014-04-12 10:00:00</td>\n",
       "    </tr>\n",
       "    <tr>\n",
       "      <th>22</th>\n",
       "      <td>B113 5615 S. Maryland (B1)</td>\n",
       "      <td>Electric Usage</td>\n",
       "      <td>2014-04-12</td>\n",
       "      <td>10:30</td>\n",
       "      <td>69.12</td>\n",
       "      <td>kWh</td>\n",
       "      <td>79.0</td>\n",
       "      <td>F</td>\n",
       "      <td>2014-04-12 10:30:00</td>\n",
       "    </tr>\n",
       "    <tr>\n",
       "      <th>23</th>\n",
       "      <td>B113 5615 S. Maryland (B1)</td>\n",
       "      <td>Electric Usage</td>\n",
       "      <td>2014-04-12</td>\n",
       "      <td>11:00</td>\n",
       "      <td>69.12</td>\n",
       "      <td>kWh</td>\n",
       "      <td>78.0</td>\n",
       "      <td>F</td>\n",
       "      <td>2014-04-12 11:00:00</td>\n",
       "    </tr>\n",
       "    <tr>\n",
       "      <th>24</th>\n",
       "      <td>B113 5615 S. Maryland (B1)</td>\n",
       "      <td>Electric Usage</td>\n",
       "      <td>2014-04-12</td>\n",
       "      <td>11:30</td>\n",
       "      <td>68.04</td>\n",
       "      <td>kWh</td>\n",
       "      <td>78.0</td>\n",
       "      <td>F</td>\n",
       "      <td>2014-04-12 11:30:00</td>\n",
       "    </tr>\n",
       "    <tr>\n",
       "      <th>25</th>\n",
       "      <td>B113 5615 S. Maryland (B1)</td>\n",
       "      <td>Electric Usage</td>\n",
       "      <td>2014-04-12</td>\n",
       "      <td>12:00</td>\n",
       "      <td>72.36</td>\n",
       "      <td>kWh</td>\n",
       "      <td>77.0</td>\n",
       "      <td>F</td>\n",
       "      <td>2014-04-12 12:00:00</td>\n",
       "    </tr>\n",
       "    <tr>\n",
       "      <th>26</th>\n",
       "      <td>B113 5615 S. Maryland (B1)</td>\n",
       "      <td>Electric Usage</td>\n",
       "      <td>2014-04-12</td>\n",
       "      <td>12:30</td>\n",
       "      <td>68.04</td>\n",
       "      <td>kWh</td>\n",
       "      <td>77.0</td>\n",
       "      <td>F</td>\n",
       "      <td>2014-04-12 12:30:00</td>\n",
       "    </tr>\n",
       "    <tr>\n",
       "      <th>27</th>\n",
       "      <td>B113 5615 S. Maryland (B1)</td>\n",
       "      <td>Electric Usage</td>\n",
       "      <td>2014-04-12</td>\n",
       "      <td>13:00</td>\n",
       "      <td>72.36</td>\n",
       "      <td>kWh</td>\n",
       "      <td>75.0</td>\n",
       "      <td>F</td>\n",
       "      <td>2014-04-12 13:00:00</td>\n",
       "    </tr>\n",
       "    <tr>\n",
       "      <th>28</th>\n",
       "      <td>B113 5615 S. Maryland (B1)</td>\n",
       "      <td>Electric Usage</td>\n",
       "      <td>2014-04-12</td>\n",
       "      <td>13:30</td>\n",
       "      <td>69.66</td>\n",
       "      <td>kWh</td>\n",
       "      <td>75.0</td>\n",
       "      <td>F</td>\n",
       "      <td>2014-04-12 13:30:00</td>\n",
       "    </tr>\n",
       "    <tr>\n",
       "      <th>29</th>\n",
       "      <td>B113 5615 S. Maryland (B1)</td>\n",
       "      <td>Electric Usage</td>\n",
       "      <td>2014-04-12</td>\n",
       "      <td>14:00</td>\n",
       "      <td>77.76</td>\n",
       "      <td>kWh</td>\n",
       "      <td>74.0</td>\n",
       "      <td>F</td>\n",
       "      <td>2014-04-12 14:00:00</td>\n",
       "    </tr>\n",
       "    <tr>\n",
       "      <th>...</th>\n",
       "      <td>...</td>\n",
       "      <td>...</td>\n",
       "      <td>...</td>\n",
       "      <td>...</td>\n",
       "      <td>...</td>\n",
       "      <td>...</td>\n",
       "      <td>...</td>\n",
       "      <td>...</td>\n",
       "      <td>...</td>\n",
       "    </tr>\n",
       "    <tr>\n",
       "      <th>140118</th>\n",
       "      <td>B113 5615 S. Maryland (B4)</td>\n",
       "      <td>Electric Usage</td>\n",
       "      <td>2016-04-10</td>\n",
       "      <td>09:00</td>\n",
       "      <td>223.20</td>\n",
       "      <td>kWh</td>\n",
       "      <td>44.0</td>\n",
       "      <td>F</td>\n",
       "      <td>2016-04-10 09:00:00</td>\n",
       "    </tr>\n",
       "    <tr>\n",
       "      <th>140119</th>\n",
       "      <td>B113 5615 S. Maryland (B4)</td>\n",
       "      <td>Electric Usage</td>\n",
       "      <td>2016-04-10</td>\n",
       "      <td>09:30</td>\n",
       "      <td>224.64</td>\n",
       "      <td>kWh</td>\n",
       "      <td>44.0</td>\n",
       "      <td>F</td>\n",
       "      <td>2016-04-10 09:30:00</td>\n",
       "    </tr>\n",
       "    <tr>\n",
       "      <th>140120</th>\n",
       "      <td>B113 5615 S. Maryland (B4)</td>\n",
       "      <td>Electric Usage</td>\n",
       "      <td>2016-04-10</td>\n",
       "      <td>10:00</td>\n",
       "      <td>233.28</td>\n",
       "      <td>kWh</td>\n",
       "      <td>45.0</td>\n",
       "      <td>F</td>\n",
       "      <td>2016-04-10 10:00:00</td>\n",
       "    </tr>\n",
       "    <tr>\n",
       "      <th>140121</th>\n",
       "      <td>B113 5615 S. Maryland (B4)</td>\n",
       "      <td>Electric Usage</td>\n",
       "      <td>2016-04-10</td>\n",
       "      <td>10:30</td>\n",
       "      <td>216.00</td>\n",
       "      <td>kWh</td>\n",
       "      <td>45.0</td>\n",
       "      <td>F</td>\n",
       "      <td>2016-04-10 10:30:00</td>\n",
       "    </tr>\n",
       "    <tr>\n",
       "      <th>140122</th>\n",
       "      <td>B113 5615 S. Maryland (B4)</td>\n",
       "      <td>Electric Usage</td>\n",
       "      <td>2016-04-10</td>\n",
       "      <td>11:00</td>\n",
       "      <td>221.76</td>\n",
       "      <td>kWh</td>\n",
       "      <td>47.0</td>\n",
       "      <td>F</td>\n",
       "      <td>2016-04-10 11:00:00</td>\n",
       "    </tr>\n",
       "    <tr>\n",
       "      <th>140123</th>\n",
       "      <td>B113 5615 S. Maryland (B4)</td>\n",
       "      <td>Electric Usage</td>\n",
       "      <td>2016-04-10</td>\n",
       "      <td>11:30</td>\n",
       "      <td>226.08</td>\n",
       "      <td>kWh</td>\n",
       "      <td>47.0</td>\n",
       "      <td>F</td>\n",
       "      <td>2016-04-10 11:30:00</td>\n",
       "    </tr>\n",
       "    <tr>\n",
       "      <th>140124</th>\n",
       "      <td>B113 5615 S. Maryland (B4)</td>\n",
       "      <td>Electric Usage</td>\n",
       "      <td>2016-04-10</td>\n",
       "      <td>12:00</td>\n",
       "      <td>243.36</td>\n",
       "      <td>kWh</td>\n",
       "      <td>48.0</td>\n",
       "      <td>F</td>\n",
       "      <td>2016-04-10 12:00:00</td>\n",
       "    </tr>\n",
       "    <tr>\n",
       "      <th>140125</th>\n",
       "      <td>B113 5615 S. Maryland (B4)</td>\n",
       "      <td>Electric Usage</td>\n",
       "      <td>2016-04-10</td>\n",
       "      <td>12:30</td>\n",
       "      <td>254.88</td>\n",
       "      <td>kWh</td>\n",
       "      <td>48.0</td>\n",
       "      <td>F</td>\n",
       "      <td>2016-04-10 12:30:00</td>\n",
       "    </tr>\n",
       "    <tr>\n",
       "      <th>140126</th>\n",
       "      <td>B113 5615 S. Maryland (B4)</td>\n",
       "      <td>Electric Usage</td>\n",
       "      <td>2016-04-10</td>\n",
       "      <td>13:00</td>\n",
       "      <td>250.56</td>\n",
       "      <td>kWh</td>\n",
       "      <td>48.0</td>\n",
       "      <td>F</td>\n",
       "      <td>2016-04-10 13:00:00</td>\n",
       "    </tr>\n",
       "    <tr>\n",
       "      <th>140127</th>\n",
       "      <td>B113 5615 S. Maryland (B4)</td>\n",
       "      <td>Electric Usage</td>\n",
       "      <td>2016-04-10</td>\n",
       "      <td>13:30</td>\n",
       "      <td>236.16</td>\n",
       "      <td>kWh</td>\n",
       "      <td>48.0</td>\n",
       "      <td>F</td>\n",
       "      <td>2016-04-10 13:30:00</td>\n",
       "    </tr>\n",
       "    <tr>\n",
       "      <th>140128</th>\n",
       "      <td>B113 5615 S. Maryland (B4)</td>\n",
       "      <td>Electric Usage</td>\n",
       "      <td>2016-04-10</td>\n",
       "      <td>14:00</td>\n",
       "      <td>246.24</td>\n",
       "      <td>kWh</td>\n",
       "      <td>49.0</td>\n",
       "      <td>F</td>\n",
       "      <td>2016-04-10 14:00:00</td>\n",
       "    </tr>\n",
       "    <tr>\n",
       "      <th>140129</th>\n",
       "      <td>B113 5615 S. Maryland (B4)</td>\n",
       "      <td>Electric Usage</td>\n",
       "      <td>2016-04-10</td>\n",
       "      <td>14:30</td>\n",
       "      <td>257.76</td>\n",
       "      <td>kWh</td>\n",
       "      <td>49.0</td>\n",
       "      <td>F</td>\n",
       "      <td>2016-04-10 14:30:00</td>\n",
       "    </tr>\n",
       "    <tr>\n",
       "      <th>140130</th>\n",
       "      <td>B113 5615 S. Maryland (B4)</td>\n",
       "      <td>Electric Usage</td>\n",
       "      <td>2016-04-10</td>\n",
       "      <td>15:00</td>\n",
       "      <td>253.44</td>\n",
       "      <td>kWh</td>\n",
       "      <td>50.0</td>\n",
       "      <td>F</td>\n",
       "      <td>2016-04-10 15:00:00</td>\n",
       "    </tr>\n",
       "    <tr>\n",
       "      <th>140131</th>\n",
       "      <td>B113 5615 S. Maryland (B4)</td>\n",
       "      <td>Electric Usage</td>\n",
       "      <td>2016-04-10</td>\n",
       "      <td>15:30</td>\n",
       "      <td>252.00</td>\n",
       "      <td>kWh</td>\n",
       "      <td>50.0</td>\n",
       "      <td>F</td>\n",
       "      <td>2016-04-10 15:30:00</td>\n",
       "    </tr>\n",
       "    <tr>\n",
       "      <th>140132</th>\n",
       "      <td>B113 5615 S. Maryland (B4)</td>\n",
       "      <td>Electric Usage</td>\n",
       "      <td>2016-04-10</td>\n",
       "      <td>16:00</td>\n",
       "      <td>249.12</td>\n",
       "      <td>kWh</td>\n",
       "      <td>50.0</td>\n",
       "      <td>F</td>\n",
       "      <td>2016-04-10 16:00:00</td>\n",
       "    </tr>\n",
       "    <tr>\n",
       "      <th>140133</th>\n",
       "      <td>B113 5615 S. Maryland (B4)</td>\n",
       "      <td>Electric Usage</td>\n",
       "      <td>2016-04-10</td>\n",
       "      <td>16:30</td>\n",
       "      <td>240.48</td>\n",
       "      <td>kWh</td>\n",
       "      <td>50.0</td>\n",
       "      <td>F</td>\n",
       "      <td>2016-04-10 16:30:00</td>\n",
       "    </tr>\n",
       "    <tr>\n",
       "      <th>140134</th>\n",
       "      <td>B113 5615 S. Maryland (B4)</td>\n",
       "      <td>Electric Usage</td>\n",
       "      <td>2016-04-10</td>\n",
       "      <td>17:00</td>\n",
       "      <td>249.12</td>\n",
       "      <td>kWh</td>\n",
       "      <td>51.0</td>\n",
       "      <td>F</td>\n",
       "      <td>2016-04-10 17:00:00</td>\n",
       "    </tr>\n",
       "    <tr>\n",
       "      <th>140135</th>\n",
       "      <td>B113 5615 S. Maryland (B4)</td>\n",
       "      <td>Electric Usage</td>\n",
       "      <td>2016-04-10</td>\n",
       "      <td>17:30</td>\n",
       "      <td>286.56</td>\n",
       "      <td>kWh</td>\n",
       "      <td>51.0</td>\n",
       "      <td>F</td>\n",
       "      <td>2016-04-10 17:30:00</td>\n",
       "    </tr>\n",
       "    <tr>\n",
       "      <th>140136</th>\n",
       "      <td>B113 5615 S. Maryland (B4)</td>\n",
       "      <td>Electric Usage</td>\n",
       "      <td>2016-04-10</td>\n",
       "      <td>18:00</td>\n",
       "      <td>269.28</td>\n",
       "      <td>kWh</td>\n",
       "      <td>51.0</td>\n",
       "      <td>F</td>\n",
       "      <td>2016-04-10 18:00:00</td>\n",
       "    </tr>\n",
       "    <tr>\n",
       "      <th>140137</th>\n",
       "      <td>B113 5615 S. Maryland (B4)</td>\n",
       "      <td>Electric Usage</td>\n",
       "      <td>2016-04-10</td>\n",
       "      <td>18:30</td>\n",
       "      <td>267.84</td>\n",
       "      <td>kWh</td>\n",
       "      <td>51.0</td>\n",
       "      <td>F</td>\n",
       "      <td>2016-04-10 18:30:00</td>\n",
       "    </tr>\n",
       "    <tr>\n",
       "      <th>140138</th>\n",
       "      <td>B113 5615 S. Maryland (B4)</td>\n",
       "      <td>Electric Usage</td>\n",
       "      <td>2016-04-10</td>\n",
       "      <td>19:00</td>\n",
       "      <td>273.60</td>\n",
       "      <td>kWh</td>\n",
       "      <td>51.0</td>\n",
       "      <td>F</td>\n",
       "      <td>2016-04-10 19:00:00</td>\n",
       "    </tr>\n",
       "    <tr>\n",
       "      <th>140139</th>\n",
       "      <td>B113 5615 S. Maryland (B4)</td>\n",
       "      <td>Electric Usage</td>\n",
       "      <td>2016-04-10</td>\n",
       "      <td>19:30</td>\n",
       "      <td>273.60</td>\n",
       "      <td>kWh</td>\n",
       "      <td>51.0</td>\n",
       "      <td>F</td>\n",
       "      <td>2016-04-10 19:30:00</td>\n",
       "    </tr>\n",
       "    <tr>\n",
       "      <th>140140</th>\n",
       "      <td>B113 5615 S. Maryland (B4)</td>\n",
       "      <td>Electric Usage</td>\n",
       "      <td>2016-04-10</td>\n",
       "      <td>20:00</td>\n",
       "      <td>298.08</td>\n",
       "      <td>kWh</td>\n",
       "      <td>50.0</td>\n",
       "      <td>F</td>\n",
       "      <td>2016-04-10 20:00:00</td>\n",
       "    </tr>\n",
       "    <tr>\n",
       "      <th>140141</th>\n",
       "      <td>B113 5615 S. Maryland (B4)</td>\n",
       "      <td>Electric Usage</td>\n",
       "      <td>2016-04-10</td>\n",
       "      <td>20:30</td>\n",
       "      <td>306.72</td>\n",
       "      <td>kWh</td>\n",
       "      <td>50.0</td>\n",
       "      <td>F</td>\n",
       "      <td>2016-04-10 20:30:00</td>\n",
       "    </tr>\n",
       "    <tr>\n",
       "      <th>140142</th>\n",
       "      <td>B113 5615 S. Maryland (B4)</td>\n",
       "      <td>Electric Usage</td>\n",
       "      <td>2016-04-10</td>\n",
       "      <td>21:00</td>\n",
       "      <td>292.32</td>\n",
       "      <td>kWh</td>\n",
       "      <td>50.0</td>\n",
       "      <td>F</td>\n",
       "      <td>2016-04-10 21:00:00</td>\n",
       "    </tr>\n",
       "    <tr>\n",
       "      <th>140143</th>\n",
       "      <td>B113 5615 S. Maryland (B4)</td>\n",
       "      <td>Electric Usage</td>\n",
       "      <td>2016-04-10</td>\n",
       "      <td>21:30</td>\n",
       "      <td>292.32</td>\n",
       "      <td>kWh</td>\n",
       "      <td>50.0</td>\n",
       "      <td>F</td>\n",
       "      <td>2016-04-10 21:30:00</td>\n",
       "    </tr>\n",
       "    <tr>\n",
       "      <th>140144</th>\n",
       "      <td>B113 5615 S. Maryland (B4)</td>\n",
       "      <td>Electric Usage</td>\n",
       "      <td>2016-04-10</td>\n",
       "      <td>22:00</td>\n",
       "      <td>299.52</td>\n",
       "      <td>kWh</td>\n",
       "      <td>49.0</td>\n",
       "      <td>F</td>\n",
       "      <td>2016-04-10 22:00:00</td>\n",
       "    </tr>\n",
       "    <tr>\n",
       "      <th>140145</th>\n",
       "      <td>B113 5615 S. Maryland (B4)</td>\n",
       "      <td>Electric Usage</td>\n",
       "      <td>2016-04-10</td>\n",
       "      <td>22:30</td>\n",
       "      <td>318.24</td>\n",
       "      <td>kWh</td>\n",
       "      <td>49.0</td>\n",
       "      <td>F</td>\n",
       "      <td>2016-04-10 22:30:00</td>\n",
       "    </tr>\n",
       "    <tr>\n",
       "      <th>140146</th>\n",
       "      <td>B113 5615 S. Maryland (B4)</td>\n",
       "      <td>Electric Usage</td>\n",
       "      <td>2016-04-10</td>\n",
       "      <td>23:00</td>\n",
       "      <td>319.68</td>\n",
       "      <td>kWh</td>\n",
       "      <td>48.0</td>\n",
       "      <td>F</td>\n",
       "      <td>2016-04-10 23:00:00</td>\n",
       "    </tr>\n",
       "    <tr>\n",
       "      <th>140147</th>\n",
       "      <td>B113 5615 S. Maryland (B4)</td>\n",
       "      <td>Electric Usage</td>\n",
       "      <td>2016-04-10</td>\n",
       "      <td>23:30</td>\n",
       "      <td>328.32</td>\n",
       "      <td>kWh</td>\n",
       "      <td>48.0</td>\n",
       "      <td>F</td>\n",
       "      <td>2016-04-10 23:30:00</td>\n",
       "    </tr>\n",
       "  </tbody>\n",
       "</table>\n",
       "<p>140148 rows × 9 columns</p>\n",
       "</div>"
      ],
      "text/plain": [
       "                             Meter            Type        Date Start Time  \\\n",
       "0       B113 5615 S. Maryland (B1)  Electric Usage  2014-04-11      23:30   \n",
       "1       B113 5615 S. Maryland (B1)  Electric Usage  2014-04-12      00:00   \n",
       "2       B113 5615 S. Maryland (B1)  Electric Usage  2014-04-12      00:30   \n",
       "3       B113 5615 S. Maryland (B1)  Electric Usage  2014-04-12      01:00   \n",
       "4       B113 5615 S. Maryland (B1)  Electric Usage  2014-04-12      01:30   \n",
       "5       B113 5615 S. Maryland (B1)  Electric Usage  2014-04-12      02:00   \n",
       "6       B113 5615 S. Maryland (B1)  Electric Usage  2014-04-12      02:30   \n",
       "7       B113 5615 S. Maryland (B1)  Electric Usage  2014-04-12      03:00   \n",
       "8       B113 5615 S. Maryland (B1)  Electric Usage  2014-04-12      03:30   \n",
       "9       B113 5615 S. Maryland (B1)  Electric Usage  2014-04-12      04:00   \n",
       "10      B113 5615 S. Maryland (B1)  Electric Usage  2014-04-12      04:30   \n",
       "11      B113 5615 S. Maryland (B1)  Electric Usage  2014-04-12      05:00   \n",
       "12      B113 5615 S. Maryland (B1)  Electric Usage  2014-04-12      05:30   \n",
       "13      B113 5615 S. Maryland (B1)  Electric Usage  2014-04-12      06:00   \n",
       "14      B113 5615 S. Maryland (B1)  Electric Usage  2014-04-12      06:30   \n",
       "15      B113 5615 S. Maryland (B1)  Electric Usage  2014-04-12      07:00   \n",
       "16      B113 5615 S. Maryland (B1)  Electric Usage  2014-04-12      07:30   \n",
       "17      B113 5615 S. Maryland (B1)  Electric Usage  2014-04-12      08:00   \n",
       "18      B113 5615 S. Maryland (B1)  Electric Usage  2014-04-12      08:30   \n",
       "19      B113 5615 S. Maryland (B1)  Electric Usage  2014-04-12      09:00   \n",
       "20      B113 5615 S. Maryland (B1)  Electric Usage  2014-04-12      09:30   \n",
       "21      B113 5615 S. Maryland (B1)  Electric Usage  2014-04-12      10:00   \n",
       "22      B113 5615 S. Maryland (B1)  Electric Usage  2014-04-12      10:30   \n",
       "23      B113 5615 S. Maryland (B1)  Electric Usage  2014-04-12      11:00   \n",
       "24      B113 5615 S. Maryland (B1)  Electric Usage  2014-04-12      11:30   \n",
       "25      B113 5615 S. Maryland (B1)  Electric Usage  2014-04-12      12:00   \n",
       "26      B113 5615 S. Maryland (B1)  Electric Usage  2014-04-12      12:30   \n",
       "27      B113 5615 S. Maryland (B1)  Electric Usage  2014-04-12      13:00   \n",
       "28      B113 5615 S. Maryland (B1)  Electric Usage  2014-04-12      13:30   \n",
       "29      B113 5615 S. Maryland (B1)  Electric Usage  2014-04-12      14:00   \n",
       "...                            ...             ...         ...        ...   \n",
       "140118  B113 5615 S. Maryland (B4)  Electric Usage  2016-04-10      09:00   \n",
       "140119  B113 5615 S. Maryland (B4)  Electric Usage  2016-04-10      09:30   \n",
       "140120  B113 5615 S. Maryland (B4)  Electric Usage  2016-04-10      10:00   \n",
       "140121  B113 5615 S. Maryland (B4)  Electric Usage  2016-04-10      10:30   \n",
       "140122  B113 5615 S. Maryland (B4)  Electric Usage  2016-04-10      11:00   \n",
       "140123  B113 5615 S. Maryland (B4)  Electric Usage  2016-04-10      11:30   \n",
       "140124  B113 5615 S. Maryland (B4)  Electric Usage  2016-04-10      12:00   \n",
       "140125  B113 5615 S. Maryland (B4)  Electric Usage  2016-04-10      12:30   \n",
       "140126  B113 5615 S. Maryland (B4)  Electric Usage  2016-04-10      13:00   \n",
       "140127  B113 5615 S. Maryland (B4)  Electric Usage  2016-04-10      13:30   \n",
       "140128  B113 5615 S. Maryland (B4)  Electric Usage  2016-04-10      14:00   \n",
       "140129  B113 5615 S. Maryland (B4)  Electric Usage  2016-04-10      14:30   \n",
       "140130  B113 5615 S. Maryland (B4)  Electric Usage  2016-04-10      15:00   \n",
       "140131  B113 5615 S. Maryland (B4)  Electric Usage  2016-04-10      15:30   \n",
       "140132  B113 5615 S. Maryland (B4)  Electric Usage  2016-04-10      16:00   \n",
       "140133  B113 5615 S. Maryland (B4)  Electric Usage  2016-04-10      16:30   \n",
       "140134  B113 5615 S. Maryland (B4)  Electric Usage  2016-04-10      17:00   \n",
       "140135  B113 5615 S. Maryland (B4)  Electric Usage  2016-04-10      17:30   \n",
       "140136  B113 5615 S. Maryland (B4)  Electric Usage  2016-04-10      18:00   \n",
       "140137  B113 5615 S. Maryland (B4)  Electric Usage  2016-04-10      18:30   \n",
       "140138  B113 5615 S. Maryland (B4)  Electric Usage  2016-04-10      19:00   \n",
       "140139  B113 5615 S. Maryland (B4)  Electric Usage  2016-04-10      19:30   \n",
       "140140  B113 5615 S. Maryland (B4)  Electric Usage  2016-04-10      20:00   \n",
       "140141  B113 5615 S. Maryland (B4)  Electric Usage  2016-04-10      20:30   \n",
       "140142  B113 5615 S. Maryland (B4)  Electric Usage  2016-04-10      21:00   \n",
       "140143  B113 5615 S. Maryland (B4)  Electric Usage  2016-04-10      21:30   \n",
       "140144  B113 5615 S. Maryland (B4)  Electric Usage  2016-04-10      22:00   \n",
       "140145  B113 5615 S. Maryland (B4)  Electric Usage  2016-04-10      22:30   \n",
       "140146  B113 5615 S. Maryland (B4)  Electric Usage  2016-04-10      23:00   \n",
       "140147  B113 5615 S. Maryland (B4)  Electric Usage  2016-04-10      23:30   \n",
       "\n",
       "         Usage Usage Unit  Temperature Temperature Unit            Datetime  \n",
       "0        62.64        kWh          NaN                F 2014-04-11 23:30:00  \n",
       "1        60.48        kWh         52.0                F 2014-04-12 00:00:00  \n",
       "2        65.34        kWh         52.0                F 2014-04-12 00:30:00  \n",
       "3        70.74        kWh         55.0                F 2014-04-12 01:00:00  \n",
       "4        68.04        kWh         55.0                F 2014-04-12 01:30:00  \n",
       "5        69.12        kWh         57.0                F 2014-04-12 02:00:00  \n",
       "6        68.58        kWh         57.0                F 2014-04-12 02:30:00  \n",
       "7        65.88        kWh         61.0                F 2014-04-12 03:00:00  \n",
       "8        66.42        kWh         61.0                F 2014-04-12 03:30:00  \n",
       "9        66.42        kWh         67.0                F 2014-04-12 04:00:00  \n",
       "10       62.10        kWh         67.0                F 2014-04-12 04:30:00  \n",
       "11       64.26        kWh         68.0                F 2014-04-12 05:00:00  \n",
       "12       62.64        kWh         68.0                F 2014-04-12 05:30:00  \n",
       "13       58.86        kWh         71.0                F 2014-04-12 06:00:00  \n",
       "14       61.02        kWh         71.0                F 2014-04-12 06:30:00  \n",
       "15       57.78        kWh         73.0                F 2014-04-12 07:00:00  \n",
       "16       60.48        kWh         73.0                F 2014-04-12 07:30:00  \n",
       "17       59.94        kWh         75.0                F 2014-04-12 08:00:00  \n",
       "18       62.64        kWh         75.0                F 2014-04-12 08:30:00  \n",
       "19       62.64        kWh         80.0                F 2014-04-12 09:00:00  \n",
       "20       66.96        kWh         80.0                F 2014-04-12 09:30:00  \n",
       "21       71.28        kWh         79.0                F 2014-04-12 10:00:00  \n",
       "22       69.12        kWh         79.0                F 2014-04-12 10:30:00  \n",
       "23       69.12        kWh         78.0                F 2014-04-12 11:00:00  \n",
       "24       68.04        kWh         78.0                F 2014-04-12 11:30:00  \n",
       "25       72.36        kWh         77.0                F 2014-04-12 12:00:00  \n",
       "26       68.04        kWh         77.0                F 2014-04-12 12:30:00  \n",
       "27       72.36        kWh         75.0                F 2014-04-12 13:00:00  \n",
       "28       69.66        kWh         75.0                F 2014-04-12 13:30:00  \n",
       "29       77.76        kWh         74.0                F 2014-04-12 14:00:00  \n",
       "...        ...        ...          ...              ...                 ...  \n",
       "140118  223.20        kWh         44.0                F 2016-04-10 09:00:00  \n",
       "140119  224.64        kWh         44.0                F 2016-04-10 09:30:00  \n",
       "140120  233.28        kWh         45.0                F 2016-04-10 10:00:00  \n",
       "140121  216.00        kWh         45.0                F 2016-04-10 10:30:00  \n",
       "140122  221.76        kWh         47.0                F 2016-04-10 11:00:00  \n",
       "140123  226.08        kWh         47.0                F 2016-04-10 11:30:00  \n",
       "140124  243.36        kWh         48.0                F 2016-04-10 12:00:00  \n",
       "140125  254.88        kWh         48.0                F 2016-04-10 12:30:00  \n",
       "140126  250.56        kWh         48.0                F 2016-04-10 13:00:00  \n",
       "140127  236.16        kWh         48.0                F 2016-04-10 13:30:00  \n",
       "140128  246.24        kWh         49.0                F 2016-04-10 14:00:00  \n",
       "140129  257.76        kWh         49.0                F 2016-04-10 14:30:00  \n",
       "140130  253.44        kWh         50.0                F 2016-04-10 15:00:00  \n",
       "140131  252.00        kWh         50.0                F 2016-04-10 15:30:00  \n",
       "140132  249.12        kWh         50.0                F 2016-04-10 16:00:00  \n",
       "140133  240.48        kWh         50.0                F 2016-04-10 16:30:00  \n",
       "140134  249.12        kWh         51.0                F 2016-04-10 17:00:00  \n",
       "140135  286.56        kWh         51.0                F 2016-04-10 17:30:00  \n",
       "140136  269.28        kWh         51.0                F 2016-04-10 18:00:00  \n",
       "140137  267.84        kWh         51.0                F 2016-04-10 18:30:00  \n",
       "140138  273.60        kWh         51.0                F 2016-04-10 19:00:00  \n",
       "140139  273.60        kWh         51.0                F 2016-04-10 19:30:00  \n",
       "140140  298.08        kWh         50.0                F 2016-04-10 20:00:00  \n",
       "140141  306.72        kWh         50.0                F 2016-04-10 20:30:00  \n",
       "140142  292.32        kWh         50.0                F 2016-04-10 21:00:00  \n",
       "140143  292.32        kWh         50.0                F 2016-04-10 21:30:00  \n",
       "140144  299.52        kWh         49.0                F 2016-04-10 22:00:00  \n",
       "140145  318.24        kWh         49.0                F 2016-04-10 22:30:00  \n",
       "140146  319.68        kWh         48.0                F 2016-04-10 23:00:00  \n",
       "140147  328.32        kWh         48.0                F 2016-04-10 23:30:00  \n",
       "\n",
       "[140148 rows x 9 columns]"
      ]
     },
     "execution_count": 193,
     "metadata": {},
     "output_type": "execute_result"
    }
   ],
   "source": [
    "wcampus = get_building_data('B113')\n",
    "wcampus"
   ]
  },
  {
   "cell_type": "code",
   "execution_count": 195,
   "metadata": {},
   "outputs": [
    {
     "name": "stderr",
     "output_type": "stream",
     "text": [
      "/Users/abisolaolawale/anaconda/lib/python3.6/site-packages/ipykernel_launcher.py:10: DeprecationWarning:\n",
      "\n",
      "\n",
      ".ix is deprecated. Please use\n",
      ".loc for label based indexing or\n",
      ".iloc for positional indexing\n",
      "\n",
      "See the documentation here:\n",
      "http://pandas.pydata.org/pandas-docs/stable/indexing.html#deprecate_ix\n",
      "\n"
     ]
    }
   ],
   "source": [
    "wcampus_anom1 = get_anomaly_percent(wcampus, 'B113 5615 S. Maryland (B1)')\n",
    "wcampus_anom2 = get_anomaly_percent(wcampus, 'B113 5615 S. Maryland (B2)')\n",
    "wcampus_anom3 = get_anomaly_percent(wcampus, 'B113 5615 S. Maryland (B3)')\n",
    "wcampus_anom4 = get_anomaly_percent(wcampus, 'B113 5615 S. Maryland (B4)')"
   ]
  },
  {
   "cell_type": "code",
   "execution_count": 196,
   "metadata": {
    "collapsed": true
   },
   "outputs": [],
   "source": [
    "wcampus_anom1.Date = pd.to_datetime(wcampus_anom1.Date).dt.month\n",
    "wcampus_anom1 = wcampus_anom1.groupby(by='Date').mean()\n",
    "\n",
    "wcampus_anom2.Date = pd.to_datetime(wcampus_anom2.Date).dt.month\n",
    "wcampus_anom2 = wcampus_anom2.groupby(by='Date').mean()\n",
    "\n",
    "wcampus_anom3.Date = pd.to_datetime(wcampus_anom3.Date).dt.month\n",
    "wcampus_anom3 = wcampus_anom3.groupby(by='Date').mean()\n",
    "\n",
    "wcampus_anom4.Date = pd.to_datetime(wcampus_anom4.Date).dt.month\n",
    "wcampus_anom4 = wcampus_anom4.groupby(by='Date').mean()"
   ]
  },
  {
   "cell_type": "code",
   "execution_count": 285,
   "metadata": {
    "scrolled": false
   },
   "outputs": [
    {
     "data": {
      "application/vnd.plotly.v1+json": {
       "data": [
        {
         "type": "bar",
         "x": [
          1,
          2,
          3,
          4,
          5,
          6,
          7,
          8,
          9,
          10,
          11,
          12
         ],
         "y": [
          26.392305631045787,
          42.38954253079087,
          42.809166802485535,
          22.4829047215238,
          38.79105982740875,
          33.577104857357696,
          19.693887357055765,
          36.855045023552115,
          26.266813998824524,
          45.89646533174186,
          25.355899201109963,
          50.131286572161656
         ]
        }
       ],
       "layout": {
        "title": "West Campus Utility Plant (B1)",
        "xaxis": {
         "title": "Month"
        },
        "yaxis": {
         "title": "Percent Difference"
        }
       }
      },
      "text/html": [
       "<div id=\"a6db015e-2a1c-48a3-8f03-c518d74af7d8\" style=\"height: 525px; width: 100%;\" class=\"plotly-graph-div\"></div><script type=\"text/javascript\">require([\"plotly\"], function(Plotly) { window.PLOTLYENV=window.PLOTLYENV || {};window.PLOTLYENV.BASE_URL=\"https://plot.ly\";Plotly.newPlot(\"a6db015e-2a1c-48a3-8f03-c518d74af7d8\", [{\"type\": \"bar\", \"x\": [1, 2, 3, 4, 5, 6, 7, 8, 9, 10, 11, 12], \"y\": [26.392305631045787, 42.38954253079087, 42.809166802485535, 22.4829047215238, 38.79105982740875, 33.577104857357696, 19.693887357055765, 36.855045023552115, 26.266813998824524, 45.89646533174186, 25.355899201109963, 50.131286572161656]}], {\"title\": \"West Campus Utility Plant (B1)\", \"xaxis\": {\"title\": \"Month\"}, \"yaxis\": {\"title\": \"Percent Difference\"}}, {\"showLink\": true, \"linkText\": \"Export to plot.ly\"})});</script>"
      ],
      "text/vnd.plotly.v1+html": [
       "<div id=\"a6db015e-2a1c-48a3-8f03-c518d74af7d8\" style=\"height: 525px; width: 100%;\" class=\"plotly-graph-div\"></div><script type=\"text/javascript\">require([\"plotly\"], function(Plotly) { window.PLOTLYENV=window.PLOTLYENV || {};window.PLOTLYENV.BASE_URL=\"https://plot.ly\";Plotly.newPlot(\"a6db015e-2a1c-48a3-8f03-c518d74af7d8\", [{\"type\": \"bar\", \"x\": [1, 2, 3, 4, 5, 6, 7, 8, 9, 10, 11, 12], \"y\": [26.392305631045787, 42.38954253079087, 42.809166802485535, 22.4829047215238, 38.79105982740875, 33.577104857357696, 19.693887357055765, 36.855045023552115, 26.266813998824524, 45.89646533174186, 25.355899201109963, 50.131286572161656]}], {\"title\": \"West Campus Utility Plant (B1)\", \"xaxis\": {\"title\": \"Month\"}, \"yaxis\": {\"title\": \"Percent Difference\"}}, {\"showLink\": true, \"linkText\": \"Export to plot.ly\"})});</script>"
      ]
     },
     "metadata": {},
     "output_type": "display_data"
    },
    {
     "data": {
      "application/vnd.plotly.v1+json": {
       "data": [
        {
         "type": "bar",
         "x": [
          1,
          2,
          3,
          4,
          5,
          6,
          7,
          8,
          9,
          10,
          11,
          12
         ],
         "y": [
          65.42747935085225,
          46.54399120515505,
          37.0305343990392,
          33.118253553082425,
          21.313624806768573,
          33.04158128935182,
          27.929822475339687,
          18.506134530556423,
          35.77910493662174,
          22.261456867551622,
          51.76724509476558,
          61.911668405550934
         ]
        }
       ],
       "layout": {
        "title": "West Campus Utility Plant (B2)",
        "xaxis": {
         "title": "Month"
        },
        "yaxis": {
         "title": "Percent Difference"
        }
       }
      },
      "text/html": [
       "<div id=\"3fbe86ae-65f5-4107-b6dd-18b0552d3dae\" style=\"height: 525px; width: 100%;\" class=\"plotly-graph-div\"></div><script type=\"text/javascript\">require([\"plotly\"], function(Plotly) { window.PLOTLYENV=window.PLOTLYENV || {};window.PLOTLYENV.BASE_URL=\"https://plot.ly\";Plotly.newPlot(\"3fbe86ae-65f5-4107-b6dd-18b0552d3dae\", [{\"type\": \"bar\", \"x\": [1, 2, 3, 4, 5, 6, 7, 8, 9, 10, 11, 12], \"y\": [65.42747935085225, 46.54399120515505, 37.0305343990392, 33.118253553082425, 21.313624806768573, 33.04158128935182, 27.929822475339687, 18.506134530556423, 35.77910493662174, 22.261456867551622, 51.76724509476558, 61.911668405550934]}], {\"title\": \"West Campus Utility Plant (B2)\", \"xaxis\": {\"title\": \"Month\"}, \"yaxis\": {\"title\": \"Percent Difference\"}}, {\"showLink\": true, \"linkText\": \"Export to plot.ly\"})});</script>"
      ],
      "text/vnd.plotly.v1+html": [
       "<div id=\"3fbe86ae-65f5-4107-b6dd-18b0552d3dae\" style=\"height: 525px; width: 100%;\" class=\"plotly-graph-div\"></div><script type=\"text/javascript\">require([\"plotly\"], function(Plotly) { window.PLOTLYENV=window.PLOTLYENV || {};window.PLOTLYENV.BASE_URL=\"https://plot.ly\";Plotly.newPlot(\"3fbe86ae-65f5-4107-b6dd-18b0552d3dae\", [{\"type\": \"bar\", \"x\": [1, 2, 3, 4, 5, 6, 7, 8, 9, 10, 11, 12], \"y\": [65.42747935085225, 46.54399120515505, 37.0305343990392, 33.118253553082425, 21.313624806768573, 33.04158128935182, 27.929822475339687, 18.506134530556423, 35.77910493662174, 22.261456867551622, 51.76724509476558, 61.911668405550934]}], {\"title\": \"West Campus Utility Plant (B2)\", \"xaxis\": {\"title\": \"Month\"}, \"yaxis\": {\"title\": \"Percent Difference\"}}, {\"showLink\": true, \"linkText\": \"Export to plot.ly\"})});</script>"
      ]
     },
     "metadata": {},
     "output_type": "display_data"
    },
    {
     "data": {
      "application/vnd.plotly.v1+json": {
       "data": [
        {
         "type": "bar",
         "x": [
          1,
          2,
          3,
          4,
          5,
          6,
          7,
          8,
          9,
          10,
          11,
          12
         ],
         "y": [
          14.455488732929377,
          22.573427663138702,
          18.323370729731554,
          13.49507112745224,
          14.539459697299858,
          32.92217541163102,
          22.90683875756767,
          17.169706190602803,
          9.069220081025884,
          8.800245084234918,
          12.639553788797022,
          29.568389337309956
         ]
        }
       ],
       "layout": {
        "title": "West Campus Utility Plant (B3)",
        "xaxis": {
         "title": "Month"
        },
        "yaxis": {
         "title": "Percent Difference"
        }
       }
      },
      "text/html": [
       "<div id=\"f3e9c37a-e79e-4113-9290-86561a02d67f\" style=\"height: 525px; width: 100%;\" class=\"plotly-graph-div\"></div><script type=\"text/javascript\">require([\"plotly\"], function(Plotly) { window.PLOTLYENV=window.PLOTLYENV || {};window.PLOTLYENV.BASE_URL=\"https://plot.ly\";Plotly.newPlot(\"f3e9c37a-e79e-4113-9290-86561a02d67f\", [{\"type\": \"bar\", \"x\": [1, 2, 3, 4, 5, 6, 7, 8, 9, 10, 11, 12], \"y\": [14.455488732929377, 22.573427663138702, 18.323370729731554, 13.49507112745224, 14.539459697299858, 32.92217541163102, 22.90683875756767, 17.169706190602803, 9.069220081025884, 8.800245084234918, 12.639553788797022, 29.568389337309956]}], {\"title\": \"West Campus Utility Plant (B3)\", \"xaxis\": {\"title\": \"Month\"}, \"yaxis\": {\"title\": \"Percent Difference\"}}, {\"showLink\": true, \"linkText\": \"Export to plot.ly\"})});</script>"
      ],
      "text/vnd.plotly.v1+html": [
       "<div id=\"f3e9c37a-e79e-4113-9290-86561a02d67f\" style=\"height: 525px; width: 100%;\" class=\"plotly-graph-div\"></div><script type=\"text/javascript\">require([\"plotly\"], function(Plotly) { window.PLOTLYENV=window.PLOTLYENV || {};window.PLOTLYENV.BASE_URL=\"https://plot.ly\";Plotly.newPlot(\"f3e9c37a-e79e-4113-9290-86561a02d67f\", [{\"type\": \"bar\", \"x\": [1, 2, 3, 4, 5, 6, 7, 8, 9, 10, 11, 12], \"y\": [14.455488732929377, 22.573427663138702, 18.323370729731554, 13.49507112745224, 14.539459697299858, 32.92217541163102, 22.90683875756767, 17.169706190602803, 9.069220081025884, 8.800245084234918, 12.639553788797022, 29.568389337309956]}], {\"title\": \"West Campus Utility Plant (B3)\", \"xaxis\": {\"title\": \"Month\"}, \"yaxis\": {\"title\": \"Percent Difference\"}}, {\"showLink\": true, \"linkText\": \"Export to plot.ly\"})});</script>"
      ]
     },
     "metadata": {},
     "output_type": "display_data"
    },
    {
     "data": {
      "application/vnd.plotly.v1+json": {
       "data": [
        {
         "type": "bar",
         "x": [
          1,
          2,
          3,
          4,
          5,
          6,
          7,
          8,
          9,
          10,
          11,
          12
         ],
         "y": [
          49.85128251068506,
          66.26885970865312,
          99.04097254588717,
          118.5217445557626,
          24.865022706177115,
          46.366663237610354,
          47.16832875408462,
          36.202570787041466,
          48.847560750946805,
          33.5291664703741,
          53.50262189640588,
          81.00098075294783
         ]
        }
       ],
       "layout": {
        "title": "West Campus Utility Plant (B4)",
        "xaxis": {
         "title": "Month"
        },
        "yaxis": {
         "title": "Percent Difference"
        }
       }
      },
      "text/html": [
       "<div id=\"efe94426-8a85-4ac5-9d9b-f19aa29b87c0\" style=\"height: 525px; width: 100%;\" class=\"plotly-graph-div\"></div><script type=\"text/javascript\">require([\"plotly\"], function(Plotly) { window.PLOTLYENV=window.PLOTLYENV || {};window.PLOTLYENV.BASE_URL=\"https://plot.ly\";Plotly.newPlot(\"efe94426-8a85-4ac5-9d9b-f19aa29b87c0\", [{\"type\": \"bar\", \"x\": [1, 2, 3, 4, 5, 6, 7, 8, 9, 10, 11, 12], \"y\": [49.85128251068506, 66.26885970865312, 99.04097254588717, 118.5217445557626, 24.865022706177115, 46.366663237610354, 47.16832875408462, 36.202570787041466, 48.847560750946805, 33.5291664703741, 53.50262189640588, 81.00098075294783]}], {\"title\": \"West Campus Utility Plant (B4)\", \"xaxis\": {\"title\": \"Month\"}, \"yaxis\": {\"title\": \"Percent Difference\"}}, {\"showLink\": true, \"linkText\": \"Export to plot.ly\"})});</script>"
      ],
      "text/vnd.plotly.v1+html": [
       "<div id=\"efe94426-8a85-4ac5-9d9b-f19aa29b87c0\" style=\"height: 525px; width: 100%;\" class=\"plotly-graph-div\"></div><script type=\"text/javascript\">require([\"plotly\"], function(Plotly) { window.PLOTLYENV=window.PLOTLYENV || {};window.PLOTLYENV.BASE_URL=\"https://plot.ly\";Plotly.newPlot(\"efe94426-8a85-4ac5-9d9b-f19aa29b87c0\", [{\"type\": \"bar\", \"x\": [1, 2, 3, 4, 5, 6, 7, 8, 9, 10, 11, 12], \"y\": [49.85128251068506, 66.26885970865312, 99.04097254588717, 118.5217445557626, 24.865022706177115, 46.366663237610354, 47.16832875408462, 36.202570787041466, 48.847560750946805, 33.5291664703741, 53.50262189640588, 81.00098075294783]}], {\"title\": \"West Campus Utility Plant (B4)\", \"xaxis\": {\"title\": \"Month\"}, \"yaxis\": {\"title\": \"Percent Difference\"}}, {\"showLink\": true, \"linkText\": \"Export to plot.ly\"})});</script>"
      ]
     },
     "metadata": {},
     "output_type": "display_data"
    }
   ],
   "source": [
    "wcampusdata1 = [Bar(x=wcampus_anom1.index, y=wcampus_anom1['Percent Difference'])]\n",
    "layout1 = go.Layout(title='West Campus Utility Plant (B1)', xaxis=dict(title='Month'), yaxis=dict(title='Percent Difference'))\n",
    "fig1 = go.Figure(data=wcampusdata1, layout=layout1)\n",
    "iplot(fig1)\n",
    "\n",
    "wcampusdata2 = [Bar(x=wcampus_anom2.index, y=wcampus_anom2['Percent Difference'])]\n",
    "layout2 = go.Layout(title='West Campus Utility Plant (B2)', xaxis=dict(title='Month'), yaxis=dict(title='Percent Difference'))\n",
    "fig2 = go.Figure(data=wcampusdata2, layout=layout2)\n",
    "iplot(fig2)\n",
    "\n",
    "wcampusdata3 = [Bar(x=wcampus_anom3.index, y=wcampus_anom3['Percent Difference'])]\n",
    "layout3 = go.Layout(title='West Campus Utility Plant (B3)', xaxis=dict(title='Month'), yaxis=dict(title='Percent Difference'))\n",
    "fig3 = go.Figure(data=wcampusdata3, layout=layout3)\n",
    "iplot(fig3)\n",
    "\n",
    "wcampusdata4 = [Bar(x=wcampus_anom4.index, y=wcampus_anom4['Percent Difference'])]\n",
    "layout4 = go.Layout(title='West Campus Utility Plant (B4)', xaxis=dict(title='Month'), yaxis=dict(title='Percent Difference'))\n",
    "fig4 = go.Figure(data=wcampusdata4, layout=layout4)\n",
    "iplot(fig4)\n"
   ]
  },
  {
   "cell_type": "markdown",
   "metadata": {},
   "source": [
    "### Rockefeller Chapel"
   ]
  },
  {
   "cell_type": "code",
   "execution_count": 215,
   "metadata": {},
   "outputs": [
    {
     "data": {
      "text/plain": [
       "array(['D29 Rockefeller Chapel (B1)', 'D29 Rockefeller Chapel (U1)'], dtype=object)"
      ]
     },
     "execution_count": 215,
     "metadata": {},
     "output_type": "execute_result"
    }
   ],
   "source": [
    "rock = get_building_data('D29')\n",
    "rock.Meter.unique()"
   ]
  },
  {
   "cell_type": "code",
   "execution_count": 233,
   "metadata": {},
   "outputs": [
    {
     "name": "stderr",
     "output_type": "stream",
     "text": [
      "/Users/abisolaolawale/anaconda/lib/python3.6/site-packages/ipykernel_launcher.py:10: DeprecationWarning:\n",
      "\n",
      "\n",
      ".ix is deprecated. Please use\n",
      ".loc for label based indexing or\n",
      ".iloc for positional indexing\n",
      "\n",
      "See the documentation here:\n",
      "http://pandas.pydata.org/pandas-docs/stable/indexing.html#deprecate_ix\n",
      "\n"
     ]
    }
   ],
   "source": [
    "rock_anom1 = get_anomaly_percent(rock, 'D29 Rockefeller Chapel (B1)')\n",
    "rock_anom2 = get_anomaly_percent(rock, 'D29 Rockefeller Chapel (U1)')"
   ]
  },
  {
   "cell_type": "code",
   "execution_count": 234,
   "metadata": {},
   "outputs": [],
   "source": [
    "rock_anom1.Date = pd.to_datetime(rock_anom1.Date).dt.month\n",
    "rock_anom2.Date = pd.to_datetime(rock_anom2.Date).dt.month\n",
    "\n",
    "rock_anom1 = rock_anom1.groupby(by='Date').mean()\n",
    "rock_anom2 = rock_anom2.groupby(by='Date').mean()"
   ]
  },
  {
   "cell_type": "code",
   "execution_count": 284,
   "metadata": {},
   "outputs": [
    {
     "data": {
      "application/vnd.plotly.v1+json": {
       "data": [
        {
         "type": "bar",
         "x": [
          1,
          2,
          3,
          4,
          5,
          6,
          7,
          8,
          9,
          10,
          11,
          12
         ],
         "y": [
          5.94934867999444,
          4.076269015202263,
          5.217147713228199,
          3.338001957322814,
          4.645227774781513,
          4.140650880888286,
          4.243928557025372,
          16.406173659108113,
          5.979409379113635,
          13.728907740804733,
          8.6832249730282,
          5.997911129878797
         ]
        }
       ],
       "layout": {
        "title": "Rockefeller Chapel (B1)",
        "xaxis": {
         "title": "Month"
        },
        "yaxis": {
         "title": "Percent Difference"
        }
       }
      },
      "text/html": [
       "<div id=\"8fd54dad-1d9a-4170-b16d-357e2b5460b3\" style=\"height: 525px; width: 100%;\" class=\"plotly-graph-div\"></div><script type=\"text/javascript\">require([\"plotly\"], function(Plotly) { window.PLOTLYENV=window.PLOTLYENV || {};window.PLOTLYENV.BASE_URL=\"https://plot.ly\";Plotly.newPlot(\"8fd54dad-1d9a-4170-b16d-357e2b5460b3\", [{\"type\": \"bar\", \"x\": [1, 2, 3, 4, 5, 6, 7, 8, 9, 10, 11, 12], \"y\": [5.94934867999444, 4.076269015202263, 5.217147713228199, 3.338001957322814, 4.645227774781513, 4.140650880888286, 4.243928557025372, 16.406173659108113, 5.979409379113635, 13.728907740804733, 8.6832249730282, 5.997911129878797]}], {\"title\": \"Rockefeller Chapel (B1)\", \"xaxis\": {\"title\": \"Month\"}, \"yaxis\": {\"title\": \"Percent Difference\"}}, {\"showLink\": true, \"linkText\": \"Export to plot.ly\"})});</script>"
      ],
      "text/vnd.plotly.v1+html": [
       "<div id=\"8fd54dad-1d9a-4170-b16d-357e2b5460b3\" style=\"height: 525px; width: 100%;\" class=\"plotly-graph-div\"></div><script type=\"text/javascript\">require([\"plotly\"], function(Plotly) { window.PLOTLYENV=window.PLOTLYENV || {};window.PLOTLYENV.BASE_URL=\"https://plot.ly\";Plotly.newPlot(\"8fd54dad-1d9a-4170-b16d-357e2b5460b3\", [{\"type\": \"bar\", \"x\": [1, 2, 3, 4, 5, 6, 7, 8, 9, 10, 11, 12], \"y\": [5.94934867999444, 4.076269015202263, 5.217147713228199, 3.338001957322814, 4.645227774781513, 4.140650880888286, 4.243928557025372, 16.406173659108113, 5.979409379113635, 13.728907740804733, 8.6832249730282, 5.997911129878797]}], {\"title\": \"Rockefeller Chapel (B1)\", \"xaxis\": {\"title\": \"Month\"}, \"yaxis\": {\"title\": \"Percent Difference\"}}, {\"showLink\": true, \"linkText\": \"Export to plot.ly\"})});</script>"
      ]
     },
     "metadata": {},
     "output_type": "display_data"
    },
    {
     "data": {
      "application/vnd.plotly.v1+json": {
       "data": [
        {
         "type": "bar",
         "x": [
          1,
          2,
          3,
          4,
          5,
          6,
          7,
          8,
          9,
          10,
          11,
          12
         ],
         "y": [
          4.183805477981736,
          3.6531747003425683,
          3.661576615771638,
          3.4406339505054384,
          2.87874640425002,
          2.599276122195581,
          2.4116221050825484,
          12.988667884866466,
          4.020222439749424,
          13.178281374454388,
          10.167708047256179,
          6.980342122874422
         ]
        }
       ],
       "layout": {
        "title": "Rockefeller Chapel (U1)",
        "xaxis": {
         "title": "Month"
        },
        "yaxis": {
         "title": "Percent Difference"
        }
       }
      },
      "text/html": [
       "<div id=\"93132458-70e1-4509-abec-5a842c665e45\" style=\"height: 525px; width: 100%;\" class=\"plotly-graph-div\"></div><script type=\"text/javascript\">require([\"plotly\"], function(Plotly) { window.PLOTLYENV=window.PLOTLYENV || {};window.PLOTLYENV.BASE_URL=\"https://plot.ly\";Plotly.newPlot(\"93132458-70e1-4509-abec-5a842c665e45\", [{\"type\": \"bar\", \"x\": [1, 2, 3, 4, 5, 6, 7, 8, 9, 10, 11, 12], \"y\": [4.183805477981736, 3.6531747003425683, 3.661576615771638, 3.4406339505054384, 2.87874640425002, 2.599276122195581, 2.4116221050825484, 12.988667884866466, 4.020222439749424, 13.178281374454388, 10.167708047256179, 6.980342122874422]}], {\"title\": \"Rockefeller Chapel (U1)\", \"xaxis\": {\"title\": \"Month\"}, \"yaxis\": {\"title\": \"Percent Difference\"}}, {\"showLink\": true, \"linkText\": \"Export to plot.ly\"})});</script>"
      ],
      "text/vnd.plotly.v1+html": [
       "<div id=\"93132458-70e1-4509-abec-5a842c665e45\" style=\"height: 525px; width: 100%;\" class=\"plotly-graph-div\"></div><script type=\"text/javascript\">require([\"plotly\"], function(Plotly) { window.PLOTLYENV=window.PLOTLYENV || {};window.PLOTLYENV.BASE_URL=\"https://plot.ly\";Plotly.newPlot(\"93132458-70e1-4509-abec-5a842c665e45\", [{\"type\": \"bar\", \"x\": [1, 2, 3, 4, 5, 6, 7, 8, 9, 10, 11, 12], \"y\": [4.183805477981736, 3.6531747003425683, 3.661576615771638, 3.4406339505054384, 2.87874640425002, 2.599276122195581, 2.4116221050825484, 12.988667884866466, 4.020222439749424, 13.178281374454388, 10.167708047256179, 6.980342122874422]}], {\"title\": \"Rockefeller Chapel (U1)\", \"xaxis\": {\"title\": \"Month\"}, \"yaxis\": {\"title\": \"Percent Difference\"}}, {\"showLink\": true, \"linkText\": \"Export to plot.ly\"})});</script>"
      ]
     },
     "metadata": {},
     "output_type": "display_data"
    }
   ],
   "source": [
    "rockdata1 = [Bar(x=rock_anom1.index, y=rock_anom1['Percent Difference'])]\n",
    "layout1 = go.Layout(title='Rockefeller Chapel (B1)', xaxis=dict(title='Month'), yaxis=dict(title='Percent Difference'))\n",
    "fig1 = go.Figure(data=rockdata1, layout=layout1)\n",
    "iplot(fig1)\n",
    "\n",
    "rockdata2 = [Bar(x=rock_anom2.index, y=rock_anom2['Percent Difference'])]\n",
    "layout2 = go.Layout(title='Rockefeller Chapel (U1)', xaxis=dict(title='Month'), yaxis=dict(title='Percent Difference'))\n",
    "fig2 = go.Figure(data=rockdata2, layout=layout2)\n",
    "iplot(fig2)"
   ]
  },
  {
   "cell_type": "markdown",
   "metadata": {},
   "source": [
    "### Jones Lab"
   ]
  },
  {
   "cell_type": "code",
   "execution_count": 237,
   "metadata": {},
   "outputs": [
    {
     "data": {
      "text/plain": [
       "array(['D19 Jones Laboratory (B1)', 'D19 Jones S/B Searle (B2)',\n",
       "       'D19 Jones S/B Searle (B1)', 'D19 Jones Laboratory (B2)',\n",
       "       'D19 Jones Laboratory (U1)'], dtype=object)"
      ]
     },
     "execution_count": 237,
     "metadata": {},
     "output_type": "execute_result"
    }
   ],
   "source": [
    "jones = get_building_data('D19') \n",
    "jones.Meter.unique()"
   ]
  },
  {
   "cell_type": "code",
   "execution_count": 251,
   "metadata": {},
   "outputs": [
    {
     "name": "stderr",
     "output_type": "stream",
     "text": [
      "/Users/abisolaolawale/anaconda/lib/python3.6/site-packages/ipykernel_launcher.py:10: DeprecationWarning:\n",
      "\n",
      "\n",
      ".ix is deprecated. Please use\n",
      ".loc for label based indexing or\n",
      ".iloc for positional indexing\n",
      "\n",
      "See the documentation here:\n",
      "http://pandas.pydata.org/pandas-docs/stable/indexing.html#deprecate_ix\n",
      "\n"
     ]
    }
   ],
   "source": [
    "jones_anom1 = get_anomaly_percent(jones, 'D19 Jones Laboratory (B1)')\n",
    "jones_anom2 = get_anomaly_percent(jones, 'D19 Jones Laboratory (B2)')\n",
    "jones_anom3 = get_anomaly_percent(jones, 'D19 Jones Laboratory (U1)')\n"
   ]
  },
  {
   "cell_type": "code",
   "execution_count": 252,
   "metadata": {},
   "outputs": [],
   "source": [
    "jones_anom1.Date = pd.to_datetime(jones_anom1.Date).dt.month\n",
    "jones_anom2.Date = pd.to_datetime(jones_anom2.Date).dt.month\n",
    "jones_anom3.Date = pd.to_datetime(jones_anom3.Date).dt.month\n",
    "\n",
    "jones_anom1 = jones_anom1.groupby(by='Date').mean()\n",
    "jones_anom2 = jones_anom2.groupby(by='Date').mean()\n",
    "jones_anom3 = jones_anom3.groupby(by='Date').mean()\n"
   ]
  },
  {
   "cell_type": "code",
   "execution_count": 283,
   "metadata": {},
   "outputs": [
    {
     "data": {
      "application/vnd.plotly.v1+json": {
       "data": [
        {
         "type": "bar",
         "x": [
          1,
          2,
          3,
          4,
          5,
          6,
          7,
          8,
          9,
          10,
          11,
          12
         ],
         "y": [
          10.86807205766485,
          7.445754663887038,
          9.168916725252995,
          6.155379426954564,
          3.4889438797284473,
          4.160418679382163,
          3.754184007981646,
          6.424072428557558,
          7.575509231244706,
          2.1134114638341504,
          4.906361960547813,
          9.094701696158308
         ]
        }
       ],
       "layout": {
        "title": "Jones Laboratory (B1)",
        "xaxis": {
         "title": "Month"
        },
        "yaxis": {
         "title": "Percent Difference"
        }
       }
      },
      "text/html": [
       "<div id=\"081599b4-5310-48d1-94d4-d2c069a242dd\" style=\"height: 525px; width: 100%;\" class=\"plotly-graph-div\"></div><script type=\"text/javascript\">require([\"plotly\"], function(Plotly) { window.PLOTLYENV=window.PLOTLYENV || {};window.PLOTLYENV.BASE_URL=\"https://plot.ly\";Plotly.newPlot(\"081599b4-5310-48d1-94d4-d2c069a242dd\", [{\"type\": \"bar\", \"x\": [1, 2, 3, 4, 5, 6, 7, 8, 9, 10, 11, 12], \"y\": [10.86807205766485, 7.445754663887038, 9.168916725252995, 6.155379426954564, 3.4889438797284473, 4.160418679382163, 3.754184007981646, 6.424072428557558, 7.575509231244706, 2.1134114638341504, 4.906361960547813, 9.094701696158308]}], {\"title\": \"Jones Laboratory (B1)\", \"xaxis\": {\"title\": \"Month\"}, \"yaxis\": {\"title\": \"Percent Difference\"}}, {\"showLink\": true, \"linkText\": \"Export to plot.ly\"})});</script>"
      ],
      "text/vnd.plotly.v1+html": [
       "<div id=\"081599b4-5310-48d1-94d4-d2c069a242dd\" style=\"height: 525px; width: 100%;\" class=\"plotly-graph-div\"></div><script type=\"text/javascript\">require([\"plotly\"], function(Plotly) { window.PLOTLYENV=window.PLOTLYENV || {};window.PLOTLYENV.BASE_URL=\"https://plot.ly\";Plotly.newPlot(\"081599b4-5310-48d1-94d4-d2c069a242dd\", [{\"type\": \"bar\", \"x\": [1, 2, 3, 4, 5, 6, 7, 8, 9, 10, 11, 12], \"y\": [10.86807205766485, 7.445754663887038, 9.168916725252995, 6.155379426954564, 3.4889438797284473, 4.160418679382163, 3.754184007981646, 6.424072428557558, 7.575509231244706, 2.1134114638341504, 4.906361960547813, 9.094701696158308]}], {\"title\": \"Jones Laboratory (B1)\", \"xaxis\": {\"title\": \"Month\"}, \"yaxis\": {\"title\": \"Percent Difference\"}}, {\"showLink\": true, \"linkText\": \"Export to plot.ly\"})});</script>"
      ]
     },
     "metadata": {},
     "output_type": "display_data"
    },
    {
     "data": {
      "application/vnd.plotly.v1+json": {
       "data": [
        {
         "type": "bar",
         "x": [
          1,
          2,
          3,
          4,
          5,
          6,
          7,
          8,
          9,
          10,
          11,
          12
         ],
         "y": [
          2.845745610595968,
          4.66814744098994,
          3.197108082014267,
          2.805648896828201,
          5.371134140131263,
          4.990934569931752,
          5.7855609670619685,
          7.52694782826184,
          6.453852151949129,
          4.753405972204859,
          4.415615579033733,
          2.790034072671962
         ]
        }
       ],
       "layout": {
        "title": "Jones Laboratory (B2)",
        "xaxis": {
         "title": "Month"
        },
        "yaxis": {
         "title": "Percent Difference"
        }
       }
      },
      "text/html": [
       "<div id=\"ad2e893c-aa82-4db4-ba29-73b66e1b4ef2\" style=\"height: 525px; width: 100%;\" class=\"plotly-graph-div\"></div><script type=\"text/javascript\">require([\"plotly\"], function(Plotly) { window.PLOTLYENV=window.PLOTLYENV || {};window.PLOTLYENV.BASE_URL=\"https://plot.ly\";Plotly.newPlot(\"ad2e893c-aa82-4db4-ba29-73b66e1b4ef2\", [{\"type\": \"bar\", \"x\": [1, 2, 3, 4, 5, 6, 7, 8, 9, 10, 11, 12], \"y\": [2.845745610595968, 4.66814744098994, 3.197108082014267, 2.805648896828201, 5.371134140131263, 4.990934569931752, 5.7855609670619685, 7.52694782826184, 6.453852151949129, 4.753405972204859, 4.415615579033733, 2.790034072671962]}], {\"title\": \"Jones Laboratory (B2)\", \"xaxis\": {\"title\": \"Month\"}, \"yaxis\": {\"title\": \"Percent Difference\"}}, {\"showLink\": true, \"linkText\": \"Export to plot.ly\"})});</script>"
      ],
      "text/vnd.plotly.v1+html": [
       "<div id=\"ad2e893c-aa82-4db4-ba29-73b66e1b4ef2\" style=\"height: 525px; width: 100%;\" class=\"plotly-graph-div\"></div><script type=\"text/javascript\">require([\"plotly\"], function(Plotly) { window.PLOTLYENV=window.PLOTLYENV || {};window.PLOTLYENV.BASE_URL=\"https://plot.ly\";Plotly.newPlot(\"ad2e893c-aa82-4db4-ba29-73b66e1b4ef2\", [{\"type\": \"bar\", \"x\": [1, 2, 3, 4, 5, 6, 7, 8, 9, 10, 11, 12], \"y\": [2.845745610595968, 4.66814744098994, 3.197108082014267, 2.805648896828201, 5.371134140131263, 4.990934569931752, 5.7855609670619685, 7.52694782826184, 6.453852151949129, 4.753405972204859, 4.415615579033733, 2.790034072671962]}], {\"title\": \"Jones Laboratory (B2)\", \"xaxis\": {\"title\": \"Month\"}, \"yaxis\": {\"title\": \"Percent Difference\"}}, {\"showLink\": true, \"linkText\": \"Export to plot.ly\"})});</script>"
      ]
     },
     "metadata": {},
     "output_type": "display_data"
    }
   ],
   "source": [
    "jonesdata1 = [Bar(x=jones_anom1.index, y=jones_anom1['Percent Difference'])]\n",
    "layout1 = go.Layout(title='Jones Laboratory (B1)', xaxis=dict(title='Month'), yaxis=dict(title='Percent Difference'))\n",
    "fig1 = go.Figure(data=jonesdata1, layout=layout1)\n",
    "iplot(fig1)\n",
    "\n",
    "jonesdata2 = [Bar(x=jones_anom2.index, y=jones_anom2['Percent Difference'])]\n",
    "layout2 = go.Layout(title='Jones Laboratory (B2)', xaxis=dict(title='Month'), yaxis=dict(title='Percent Difference'))\n",
    "fig2 = go.Figure(data=jonesdata2, layout=layout2)\n",
    "iplot(fig2)"
   ]
  },
  {
   "cell_type": "markdown",
   "metadata": {},
   "source": [
    "### Donnelley"
   ]
  },
  {
   "cell_type": "code",
   "execution_count": 257,
   "metadata": {},
   "outputs": [
    {
     "data": {
      "text/plain": [
       "array(['B36 BSLC (B1)', 'B36 BSLC (R3)', 'B36 BSLC (U1)', 'B36 BSLC (B2)',\n",
       "       'B36 BSLC (U3)', 'B36 BSLC (U4)', 'B36 BSLC (U2)'], dtype=object)"
      ]
     },
     "execution_count": 257,
     "metadata": {},
     "output_type": "execute_result"
    }
   ],
   "source": [
    "bslc = get_building_data('B36')\n",
    "bslc.Meter.unique()"
   ]
  },
  {
   "cell_type": "code",
   "execution_count": 276,
   "metadata": {},
   "outputs": [
    {
     "name": "stderr",
     "output_type": "stream",
     "text": [
      "/Users/abisolaolawale/anaconda/lib/python3.6/site-packages/ipykernel_launcher.py:10: DeprecationWarning:\n",
      "\n",
      "\n",
      ".ix is deprecated. Please use\n",
      ".loc for label based indexing or\n",
      ".iloc for positional indexing\n",
      "\n",
      "See the documentation here:\n",
      "http://pandas.pydata.org/pandas-docs/stable/indexing.html#deprecate_ix\n",
      "\n"
     ]
    }
   ],
   "source": [
    "bslc_anom1 = get_anomaly_percent(bslc,'B36 BSLC (B1)')\n",
    "bslc_anom2 = get_anomaly_percent(bslc,'B36 BSLC (U1)')\n",
    "bslc_anom3 = get_anomaly_percent(bslc,'B36 BSLC (B2)')\n",
    "bslc_anom4 = get_anomaly_percent(bslc,'B36 BSLC (U3)')\n"
   ]
  },
  {
   "cell_type": "code",
   "execution_count": 278,
   "metadata": {
    "collapsed": true
   },
   "outputs": [],
   "source": [
    "bslc_anom1.Date = pd.to_datetime(bslc_anom1.Date).dt.month\n",
    "bslc_anom2.Date = pd.to_datetime(bslc_anom2.Date).dt.month\n",
    "bslc_anom3.Date = pd.to_datetime(bslc_anom3.Date).dt.month\n",
    "bslc_anom4.Date = pd.to_datetime(bslc_anom4.Date).dt.month\n",
    "\n",
    "\n",
    "bslc_anom1 = bslc_anom1.groupby(by='Date').mean()\n",
    "bslc_anom2 = bslc_anom2.groupby(by='Date').mean()\n",
    "bslc_anom3 = bslc_anom3.groupby(by='Date').mean()\n",
    "bslc_anom4 = bslc_anom4.groupby(by='Date').mean()\n"
   ]
  },
  {
   "cell_type": "code",
   "execution_count": 286,
   "metadata": {
    "scrolled": false
   },
   "outputs": [
    {
     "data": {
      "application/vnd.plotly.v1+json": {
       "data": [
        {
         "type": "bar",
         "x": [
          1,
          2,
          3,
          4,
          5,
          6,
          7,
          8,
          9,
          10,
          11,
          12
         ],
         "y": [
          11.021773138671167,
          6.869273173484884,
          8.61228573815368,
          8.080006622612114,
          6.360260536046547,
          8.934260548762637,
          9.15377475417001,
          7.048443834763659,
          11.205667230267023,
          8.453164100757624,
          11.090745739077699,
          9.097071235588817
         ]
        }
       ],
       "layout": {
        "title": "B36 BSLC (B1)",
        "xaxis": {
         "title": "Month"
        },
        "yaxis": {
         "title": "Percent Difference"
        }
       }
      },
      "text/html": [
       "<div id=\"0bce3435-1003-4d20-a6df-385cdc13cfb6\" style=\"height: 525px; width: 100%;\" class=\"plotly-graph-div\"></div><script type=\"text/javascript\">require([\"plotly\"], function(Plotly) { window.PLOTLYENV=window.PLOTLYENV || {};window.PLOTLYENV.BASE_URL=\"https://plot.ly\";Plotly.newPlot(\"0bce3435-1003-4d20-a6df-385cdc13cfb6\", [{\"type\": \"bar\", \"x\": [1, 2, 3, 4, 5, 6, 7, 8, 9, 10, 11, 12], \"y\": [11.021773138671167, 6.869273173484884, 8.61228573815368, 8.080006622612114, 6.360260536046547, 8.934260548762637, 9.15377475417001, 7.048443834763659, 11.205667230267023, 8.453164100757624, 11.090745739077699, 9.097071235588817]}], {\"title\": \"B36 BSLC (B1)\", \"xaxis\": {\"title\": \"Month\"}, \"yaxis\": {\"title\": \"Percent Difference\"}}, {\"showLink\": true, \"linkText\": \"Export to plot.ly\"})});</script>"
      ],
      "text/vnd.plotly.v1+html": [
       "<div id=\"0bce3435-1003-4d20-a6df-385cdc13cfb6\" style=\"height: 525px; width: 100%;\" class=\"plotly-graph-div\"></div><script type=\"text/javascript\">require([\"plotly\"], function(Plotly) { window.PLOTLYENV=window.PLOTLYENV || {};window.PLOTLYENV.BASE_URL=\"https://plot.ly\";Plotly.newPlot(\"0bce3435-1003-4d20-a6df-385cdc13cfb6\", [{\"type\": \"bar\", \"x\": [1, 2, 3, 4, 5, 6, 7, 8, 9, 10, 11, 12], \"y\": [11.021773138671167, 6.869273173484884, 8.61228573815368, 8.080006622612114, 6.360260536046547, 8.934260548762637, 9.15377475417001, 7.048443834763659, 11.205667230267023, 8.453164100757624, 11.090745739077699, 9.097071235588817]}], {\"title\": \"B36 BSLC (B1)\", \"xaxis\": {\"title\": \"Month\"}, \"yaxis\": {\"title\": \"Percent Difference\"}}, {\"showLink\": true, \"linkText\": \"Export to plot.ly\"})});</script>"
      ]
     },
     "metadata": {},
     "output_type": "display_data"
    },
    {
     "data": {
      "application/vnd.plotly.v1+json": {
       "data": [
        {
         "type": "bar",
         "x": [
          1,
          2,
          3,
          4,
          5,
          6,
          7,
          8,
          9,
          10,
          11,
          12
         ],
         "y": [
          3.4002064925857494,
          3.121656485941533,
          2.487726901662195,
          1.6077422277116515,
          2.660203271715886,
          2.7025866323273813,
          1.7106705581922914,
          2.6740404357609417,
          4.192641117439787,
          2.523784048556023,
          1.973666446690675,
          2.0130002144618313
         ]
        }
       ],
       "layout": {
        "title": "B36 BSLC (U1)",
        "xaxis": {
         "title": "Month"
        },
        "yaxis": {
         "title": "Percent Difference"
        }
       }
      },
      "text/html": [
       "<div id=\"64fad377-f19a-47f9-b51b-60f38f067707\" style=\"height: 525px; width: 100%;\" class=\"plotly-graph-div\"></div><script type=\"text/javascript\">require([\"plotly\"], function(Plotly) { window.PLOTLYENV=window.PLOTLYENV || {};window.PLOTLYENV.BASE_URL=\"https://plot.ly\";Plotly.newPlot(\"64fad377-f19a-47f9-b51b-60f38f067707\", [{\"type\": \"bar\", \"x\": [1, 2, 3, 4, 5, 6, 7, 8, 9, 10, 11, 12], \"y\": [3.4002064925857494, 3.121656485941533, 2.487726901662195, 1.6077422277116515, 2.660203271715886, 2.7025866323273813, 1.7106705581922914, 2.6740404357609417, 4.192641117439787, 2.523784048556023, 1.973666446690675, 2.0130002144618313]}], {\"title\": \"B36 BSLC (U1)\", \"xaxis\": {\"title\": \"Month\"}, \"yaxis\": {\"title\": \"Percent Difference\"}}, {\"showLink\": true, \"linkText\": \"Export to plot.ly\"})});</script>"
      ],
      "text/vnd.plotly.v1+html": [
       "<div id=\"64fad377-f19a-47f9-b51b-60f38f067707\" style=\"height: 525px; width: 100%;\" class=\"plotly-graph-div\"></div><script type=\"text/javascript\">require([\"plotly\"], function(Plotly) { window.PLOTLYENV=window.PLOTLYENV || {};window.PLOTLYENV.BASE_URL=\"https://plot.ly\";Plotly.newPlot(\"64fad377-f19a-47f9-b51b-60f38f067707\", [{\"type\": \"bar\", \"x\": [1, 2, 3, 4, 5, 6, 7, 8, 9, 10, 11, 12], \"y\": [3.4002064925857494, 3.121656485941533, 2.487726901662195, 1.6077422277116515, 2.660203271715886, 2.7025866323273813, 1.7106705581922914, 2.6740404357609417, 4.192641117439787, 2.523784048556023, 1.973666446690675, 2.0130002144618313]}], {\"title\": \"B36 BSLC (U1)\", \"xaxis\": {\"title\": \"Month\"}, \"yaxis\": {\"title\": \"Percent Difference\"}}, {\"showLink\": true, \"linkText\": \"Export to plot.ly\"})});</script>"
      ]
     },
     "metadata": {},
     "output_type": "display_data"
    },
    {
     "data": {
      "application/vnd.plotly.v1+json": {
       "data": [
        {
         "type": "bar",
         "x": [
          1,
          2,
          3,
          4,
          5,
          6,
          7,
          8,
          9,
          10,
          11,
          12
         ],
         "y": [
          1.062755096727142,
          1.095405382388779,
          1.7920999518274807,
          1.7551733444682693,
          1.2866281389953482,
          1.1071470983166125,
          1.5275666835888286,
          1.3050444798187606,
          0.7633568969482615,
          1.5377208863034264,
          1.141777404171392,
          1.4129478347061368
         ]
        }
       ],
       "layout": {
        "title": "B36 BSLC (B2)",
        "xaxis": {
         "title": "Month"
        },
        "yaxis": {
         "title": "Percent Difference"
        }
       }
      },
      "text/html": [
       "<div id=\"6a502c23-8159-4b57-af3c-8205c02afeed\" style=\"height: 525px; width: 100%;\" class=\"plotly-graph-div\"></div><script type=\"text/javascript\">require([\"plotly\"], function(Plotly) { window.PLOTLYENV=window.PLOTLYENV || {};window.PLOTLYENV.BASE_URL=\"https://plot.ly\";Plotly.newPlot(\"6a502c23-8159-4b57-af3c-8205c02afeed\", [{\"type\": \"bar\", \"x\": [1, 2, 3, 4, 5, 6, 7, 8, 9, 10, 11, 12], \"y\": [1.062755096727142, 1.095405382388779, 1.7920999518274807, 1.7551733444682693, 1.2866281389953482, 1.1071470983166125, 1.5275666835888286, 1.3050444798187606, 0.7633568969482615, 1.5377208863034264, 1.141777404171392, 1.4129478347061368]}], {\"title\": \"B36 BSLC (B2)\", \"xaxis\": {\"title\": \"Month\"}, \"yaxis\": {\"title\": \"Percent Difference\"}}, {\"showLink\": true, \"linkText\": \"Export to plot.ly\"})});</script>"
      ],
      "text/vnd.plotly.v1+html": [
       "<div id=\"6a502c23-8159-4b57-af3c-8205c02afeed\" style=\"height: 525px; width: 100%;\" class=\"plotly-graph-div\"></div><script type=\"text/javascript\">require([\"plotly\"], function(Plotly) { window.PLOTLYENV=window.PLOTLYENV || {};window.PLOTLYENV.BASE_URL=\"https://plot.ly\";Plotly.newPlot(\"6a502c23-8159-4b57-af3c-8205c02afeed\", [{\"type\": \"bar\", \"x\": [1, 2, 3, 4, 5, 6, 7, 8, 9, 10, 11, 12], \"y\": [1.062755096727142, 1.095405382388779, 1.7920999518274807, 1.7551733444682693, 1.2866281389953482, 1.1071470983166125, 1.5275666835888286, 1.3050444798187606, 0.7633568969482615, 1.5377208863034264, 1.141777404171392, 1.4129478347061368]}], {\"title\": \"B36 BSLC (B2)\", \"xaxis\": {\"title\": \"Month\"}, \"yaxis\": {\"title\": \"Percent Difference\"}}, {\"showLink\": true, \"linkText\": \"Export to plot.ly\"})});</script>"
      ]
     },
     "metadata": {},
     "output_type": "display_data"
    },
    {
     "data": {
      "application/vnd.plotly.v1+json": {
       "data": [
        {
         "type": "bar",
         "x": [
          1,
          2,
          3,
          4,
          5,
          6,
          7,
          8,
          9,
          10,
          11,
          12
         ],
         "y": [
          6.506131924219303,
          5.141888609891458,
          4.993201408583584,
          5.474746511685054,
          5.973037310010033,
          4.575545412240518,
          5.817542464191625,
          4.607801817149312,
          4.49122098736695,
          5.563940177372512,
          8.241579348362439,
          7.3524096199930975
         ]
        }
       ],
       "layout": {
        "title": "B36 BSLC (U3)",
        "xaxis": {
         "title": "Month"
        },
        "yaxis": {
         "title": "Percent Difference"
        }
       }
      },
      "text/html": [
       "<div id=\"f8354566-154b-4b57-ab59-130441f321d8\" style=\"height: 525px; width: 100%;\" class=\"plotly-graph-div\"></div><script type=\"text/javascript\">require([\"plotly\"], function(Plotly) { window.PLOTLYENV=window.PLOTLYENV || {};window.PLOTLYENV.BASE_URL=\"https://plot.ly\";Plotly.newPlot(\"f8354566-154b-4b57-ab59-130441f321d8\", [{\"type\": \"bar\", \"x\": [1, 2, 3, 4, 5, 6, 7, 8, 9, 10, 11, 12], \"y\": [6.506131924219303, 5.141888609891458, 4.993201408583584, 5.474746511685054, 5.973037310010033, 4.575545412240518, 5.817542464191625, 4.607801817149312, 4.49122098736695, 5.563940177372512, 8.241579348362439, 7.3524096199930975]}], {\"title\": \"B36 BSLC (U3)\", \"xaxis\": {\"title\": \"Month\"}, \"yaxis\": {\"title\": \"Percent Difference\"}}, {\"showLink\": true, \"linkText\": \"Export to plot.ly\"})});</script>"
      ],
      "text/vnd.plotly.v1+html": [
       "<div id=\"f8354566-154b-4b57-ab59-130441f321d8\" style=\"height: 525px; width: 100%;\" class=\"plotly-graph-div\"></div><script type=\"text/javascript\">require([\"plotly\"], function(Plotly) { window.PLOTLYENV=window.PLOTLYENV || {};window.PLOTLYENV.BASE_URL=\"https://plot.ly\";Plotly.newPlot(\"f8354566-154b-4b57-ab59-130441f321d8\", [{\"type\": \"bar\", \"x\": [1, 2, 3, 4, 5, 6, 7, 8, 9, 10, 11, 12], \"y\": [6.506131924219303, 5.141888609891458, 4.993201408583584, 5.474746511685054, 5.973037310010033, 4.575545412240518, 5.817542464191625, 4.607801817149312, 4.49122098736695, 5.563940177372512, 8.241579348362439, 7.3524096199930975]}], {\"title\": \"B36 BSLC (U3)\", \"xaxis\": {\"title\": \"Month\"}, \"yaxis\": {\"title\": \"Percent Difference\"}}, {\"showLink\": true, \"linkText\": \"Export to plot.ly\"})});</script>"
      ]
     },
     "metadata": {},
     "output_type": "display_data"
    }
   ],
   "source": [
    "bslcdata1 = [Bar(x=bslc_anom1.index, y=bslc_anom1['Percent Difference'])]\n",
    "layout1 = go.Layout(title='B36 BSLC (B1)', xaxis=dict(title='Month'), yaxis=dict(title='Percent Difference'))\n",
    "fig1 = go.Figure(data=bslcdata1, layout=layout1)\n",
    "iplot(fig1)\n",
    "\n",
    "bslcdata2 = [Bar(x=bslc_anom2.index, y=bslc_anom2['Percent Difference'])]\n",
    "layout2 = go.Layout(title='B36 BSLC (U1)', xaxis=dict(title='Month'), yaxis=dict(title='Percent Difference'))\n",
    "fig2 = go.Figure(data=bslcdata2, layout=layout2)\n",
    "iplot(fig2)\n",
    "\n",
    "bslcdata3 = [Bar(x=bslc_anom3.index, y=bslc_anom3['Percent Difference'])]\n",
    "layout3 = go.Layout(title='B36 BSLC (B2)', xaxis=dict(title='Month'), yaxis=dict(title='Percent Difference'))\n",
    "fig3 = go.Figure(data=bslcdata3, layout=layout3)\n",
    "iplot(fig3)\n",
    "\n",
    "bslcdata4 = [Bar(x=bslc_anom4.index, y=bslc_anom4['Percent Difference'])]\n",
    "layout4 = go.Layout(title='B36 BSLC (U3)', xaxis=dict(title='Month'), yaxis=dict(title='Percent Difference'))\n",
    "fig4 = go.Figure(data=bslcdata4, layout=layout4)\n",
    "iplot(fig4)"
   ]
  },
  {
   "cell_type": "markdown",
   "metadata": {},
   "source": [
    "### Accelerator Building"
   ]
  },
  {
   "cell_type": "code",
   "execution_count": 288,
   "metadata": {},
   "outputs": [
    {
     "data": {
      "text/plain": [
       "array(['B03 Accelerator Building (B1)', 'B03 Accelerator Building (B2)'], dtype=object)"
      ]
     },
     "execution_count": 288,
     "metadata": {},
     "output_type": "execute_result"
    }
   ],
   "source": [
    "acc = get_building_data('B03')\n",
    "acc.Meter.unique()"
   ]
  },
  {
   "cell_type": "code",
   "execution_count": 290,
   "metadata": {},
   "outputs": [
    {
     "name": "stderr",
     "output_type": "stream",
     "text": [
      "/Users/abisolaolawale/anaconda/lib/python3.6/site-packages/ipykernel_launcher.py:10: DeprecationWarning:\n",
      "\n",
      "\n",
      ".ix is deprecated. Please use\n",
      ".loc for label based indexing or\n",
      ".iloc for positional indexing\n",
      "\n",
      "See the documentation here:\n",
      "http://pandas.pydata.org/pandas-docs/stable/indexing.html#deprecate_ix\n",
      "\n"
     ]
    }
   ],
   "source": [
    "acc_anom1 = get_anomaly_percent(acc, 'B03 Accelerator Building (B1)')\n",
    "acc_anom2 = get_anomaly_percent(acc, 'B03 Accelerator Building (B2)')"
   ]
  },
  {
   "cell_type": "code",
   "execution_count": 291,
   "metadata": {
    "collapsed": true
   },
   "outputs": [],
   "source": [
    "acc_anom1.Date = pd.to_datetime(acc_anom1.Date).dt.month\n",
    "acc_anom2.Date = pd.to_datetime(acc_anom2.Date).dt.month\n",
    "\n",
    "acc_anom1 = acc_anom1.groupby(by='Date').mean()\n",
    "acc_anom2 = acc_anom2.groupby(by='Date').mean()"
   ]
  },
  {
   "cell_type": "code",
   "execution_count": 293,
   "metadata": {},
   "outputs": [
    {
     "data": {
      "application/vnd.plotly.v1+json": {
       "data": [
        {
         "type": "bar",
         "x": [
          1,
          2,
          3,
          4,
          5,
          6,
          7,
          8,
          9,
          10,
          11,
          12
         ],
         "y": [
          11.512205074808028,
          10.235478295313095,
          3.2499201952734826,
          3.5266077708686963,
          3.7906515046400964,
          2.7338800654132625,
          3.2501539576688465,
          4.0454460806186825,
          3.3935182316905785,
          3.168322405373932,
          2.247882968765869,
          1.9561060554801244
         ]
        }
       ],
       "layout": {
        "title": "Accelerator Building (B1)",
        "xaxis": {
         "title": "Month"
        },
        "yaxis": {
         "title": "Percent Difference"
        }
       }
      },
      "text/html": [
       "<div id=\"8f9af614-2f6f-4ca4-9ec4-d09f041af4b5\" style=\"height: 525px; width: 100%;\" class=\"plotly-graph-div\"></div><script type=\"text/javascript\">require([\"plotly\"], function(Plotly) { window.PLOTLYENV=window.PLOTLYENV || {};window.PLOTLYENV.BASE_URL=\"https://plot.ly\";Plotly.newPlot(\"8f9af614-2f6f-4ca4-9ec4-d09f041af4b5\", [{\"type\": \"bar\", \"x\": [1, 2, 3, 4, 5, 6, 7, 8, 9, 10, 11, 12], \"y\": [11.512205074808028, 10.235478295313095, 3.2499201952734826, 3.5266077708686963, 3.7906515046400964, 2.7338800654132625, 3.2501539576688465, 4.0454460806186825, 3.3935182316905785, 3.168322405373932, 2.247882968765869, 1.9561060554801244]}], {\"title\": \"Accelerator Building (B1)\", \"xaxis\": {\"title\": \"Month\"}, \"yaxis\": {\"title\": \"Percent Difference\"}}, {\"showLink\": true, \"linkText\": \"Export to plot.ly\"})});</script>"
      ],
      "text/vnd.plotly.v1+html": [
       "<div id=\"8f9af614-2f6f-4ca4-9ec4-d09f041af4b5\" style=\"height: 525px; width: 100%;\" class=\"plotly-graph-div\"></div><script type=\"text/javascript\">require([\"plotly\"], function(Plotly) { window.PLOTLYENV=window.PLOTLYENV || {};window.PLOTLYENV.BASE_URL=\"https://plot.ly\";Plotly.newPlot(\"8f9af614-2f6f-4ca4-9ec4-d09f041af4b5\", [{\"type\": \"bar\", \"x\": [1, 2, 3, 4, 5, 6, 7, 8, 9, 10, 11, 12], \"y\": [11.512205074808028, 10.235478295313095, 3.2499201952734826, 3.5266077708686963, 3.7906515046400964, 2.7338800654132625, 3.2501539576688465, 4.0454460806186825, 3.3935182316905785, 3.168322405373932, 2.247882968765869, 1.9561060554801244]}], {\"title\": \"Accelerator Building (B1)\", \"xaxis\": {\"title\": \"Month\"}, \"yaxis\": {\"title\": \"Percent Difference\"}}, {\"showLink\": true, \"linkText\": \"Export to plot.ly\"})});</script>"
      ]
     },
     "metadata": {},
     "output_type": "display_data"
    },
    {
     "data": {
      "application/vnd.plotly.v1+json": {
       "data": [
        {
         "type": "bar",
         "x": [
          1,
          2,
          3,
          4,
          5,
          6,
          7,
          8,
          9,
          10,
          11,
          12
         ],
         "y": [
          11.418165567310124,
          7.354825493298933,
          3.2275191806544123,
          3.560488000855739,
          3.795250993384264,
          2.7270860731207653,
          3.2735213005601747,
          4.038634783480753,
          3.4159478463995017,
          3.161009448619089,
          2.22894731186907,
          2.0018296335681955
         ]
        }
       ],
       "layout": {
        "title": "Accelerator Building (B2)",
        "xaxis": {
         "title": "Month"
        },
        "yaxis": {
         "title": "Percent Difference"
        }
       }
      },
      "text/html": [
       "<div id=\"72a82397-fe3f-481d-9389-a7cf339b95e0\" style=\"height: 525px; width: 100%;\" class=\"plotly-graph-div\"></div><script type=\"text/javascript\">require([\"plotly\"], function(Plotly) { window.PLOTLYENV=window.PLOTLYENV || {};window.PLOTLYENV.BASE_URL=\"https://plot.ly\";Plotly.newPlot(\"72a82397-fe3f-481d-9389-a7cf339b95e0\", [{\"type\": \"bar\", \"x\": [1, 2, 3, 4, 5, 6, 7, 8, 9, 10, 11, 12], \"y\": [11.418165567310124, 7.354825493298933, 3.2275191806544123, 3.560488000855739, 3.795250993384264, 2.7270860731207653, 3.2735213005601747, 4.038634783480753, 3.4159478463995017, 3.161009448619089, 2.22894731186907, 2.0018296335681955]}], {\"title\": \"Accelerator Building (B2)\", \"xaxis\": {\"title\": \"Month\"}, \"yaxis\": {\"title\": \"Percent Difference\"}}, {\"showLink\": true, \"linkText\": \"Export to plot.ly\"})});</script>"
      ],
      "text/vnd.plotly.v1+html": [
       "<div id=\"72a82397-fe3f-481d-9389-a7cf339b95e0\" style=\"height: 525px; width: 100%;\" class=\"plotly-graph-div\"></div><script type=\"text/javascript\">require([\"plotly\"], function(Plotly) { window.PLOTLYENV=window.PLOTLYENV || {};window.PLOTLYENV.BASE_URL=\"https://plot.ly\";Plotly.newPlot(\"72a82397-fe3f-481d-9389-a7cf339b95e0\", [{\"type\": \"bar\", \"x\": [1, 2, 3, 4, 5, 6, 7, 8, 9, 10, 11, 12], \"y\": [11.418165567310124, 7.354825493298933, 3.2275191806544123, 3.560488000855739, 3.795250993384264, 2.7270860731207653, 3.2735213005601747, 4.038634783480753, 3.4159478463995017, 3.161009448619089, 2.22894731186907, 2.0018296335681955]}], {\"title\": \"Accelerator Building (B2)\", \"xaxis\": {\"title\": \"Month\"}, \"yaxis\": {\"title\": \"Percent Difference\"}}, {\"showLink\": true, \"linkText\": \"Export to plot.ly\"})});</script>"
      ]
     },
     "metadata": {},
     "output_type": "display_data"
    }
   ],
   "source": [
    "accdata1 = [Bar(x=acc_anom1.index, y=acc_anom1['Percent Difference'])]\n",
    "layout1 = go.Layout(title='Accelerator Building (B1)', xaxis=dict(title='Month'), yaxis=dict(title='Percent Difference'))\n",
    "fig1 = go.Figure(data=accdata1, layout=layout1)\n",
    "iplot(fig1)\n",
    "\n",
    "accdata2 = [Bar(x=acc_anom2.index, y=acc_anom2['Percent Difference'])]\n",
    "layout2 = go.Layout(title='Accelerator Building (B2)', xaxis=dict(title='Month'), yaxis=dict(title='Percent Difference'))\n",
    "fig2 = go.Figure(data=accdata2, layout=layout2)\n",
    "iplot(fig2)"
   ]
  },
  {
   "cell_type": "markdown",
   "metadata": {},
   "source": [
    "### GCIS"
   ]
  },
  {
   "cell_type": "code",
   "execution_count": 295,
   "metadata": {},
   "outputs": [
    {
     "data": {
      "text/plain": [
       "array(['A86 GCIS (B6)', 'A86 GCIS (B7)', 'A86 GCIS (B8)', 'A86 GCIS (B9)',\n",
       "       'A86 GCIS (B10)', 'A86 GCIS (B11)', 'A86 GCIS (B12)',\n",
       "       'A86 GCIS (U1)'], dtype=object)"
      ]
     },
     "execution_count": 295,
     "metadata": {},
     "output_type": "execute_result"
    }
   ],
   "source": [
    "gcis = get_building_data('A86')\n",
    "gcis.Meter.unique()"
   ]
  },
  {
   "cell_type": "code",
   "execution_count": 304,
   "metadata": {},
   "outputs": [
    {
     "name": "stderr",
     "output_type": "stream",
     "text": [
      "/Users/abisolaolawale/anaconda/lib/python3.6/site-packages/ipykernel_launcher.py:10: DeprecationWarning:\n",
      "\n",
      "\n",
      ".ix is deprecated. Please use\n",
      ".loc for label based indexing or\n",
      ".iloc for positional indexing\n",
      "\n",
      "See the documentation here:\n",
      "http://pandas.pydata.org/pandas-docs/stable/indexing.html#deprecate_ix\n",
      "\n"
     ]
    }
   ],
   "source": [
    "gcis_anom1 = get_anomaly_percent(gcis, 'A86 GCIS (B6)')\n",
    "gcis_anom2 = get_anomaly_percent(gcis, 'A86 GCIS (B7)')\n",
    "gcis_anom3 = get_anomaly_percent(gcis, 'A86 GCIS (B8)')\n",
    "gcis_anom4 = get_anomaly_percent(gcis, 'A86 GCIS (B9)')\n",
    "gcis_anom5 = get_anomaly_percent(gcis, 'A86 GCIS (B10)')\n",
    "gcis_anom6 = get_anomaly_percent(gcis, 'A86 GCIS (B12)')\n",
    "gcis_anom7 = get_anomaly_percent(gcis, 'A86 GCIS (U1)')"
   ]
  },
  {
   "cell_type": "code",
   "execution_count": 307,
   "metadata": {
    "collapsed": true
   },
   "outputs": [],
   "source": [
    "gcis_anom1.Date = pd.to_datetime(gcis_anom1.Date).dt.month\n",
    "gcis_anom2.Date = pd.to_datetime(gcis_anom2.Date).dt.month\n",
    "gcis_anom3.Date = pd.to_datetime(gcis_anom3.Date).dt.month\n",
    "gcis_anom4.Date = pd.to_datetime(gcis_anom4.Date).dt.month\n",
    "gcis_anom5.Date = pd.to_datetime(gcis_anom5.Date).dt.month\n",
    "gcis_anom6.Date = pd.to_datetime(gcis_anom6.Date).dt.month\n",
    "gcis_anom7.Date = pd.to_datetime(gcis_anom7.Date).dt.month\n",
    "\n",
    "\n",
    "gcis_anom1 = gcis_anom1.groupby(by='Date').mean()\n",
    "gcis_anom2 = gcis_anom2.groupby(by='Date').mean()\n",
    "gcis_anom3 = gcis_anom3.groupby(by='Date').mean()\n",
    "gcis_anom4 = gcis_anom4.groupby(by='Date').mean()\n",
    "gcis_anom5 = gcis_anom5.groupby(by='Date').mean()\n",
    "gcis_anom6 = gcis_anom6.groupby(by='Date').mean()\n",
    "gcis_anom7 = gcis_anom7.groupby(by='Date').mean()\n"
   ]
  },
  {
   "cell_type": "code",
   "execution_count": 309,
   "metadata": {
    "scrolled": false
   },
   "outputs": [
    {
     "data": {
      "application/vnd.plotly.v1+json": {
       "data": [
        {
         "type": "bar",
         "x": [
          1,
          2,
          3,
          4,
          5,
          6,
          7,
          8,
          9,
          10,
          11,
          12
         ],
         "y": [
          null,
          null,
          7504.60778408668,
          null,
          69.54120756674835,
          29.22574075973569,
          19.724394911914747,
          18.52245683223912,
          134.0569769220014,
          165.0039737167024,
          null,
          3088.3767393480266
         ]
        }
       ],
       "layout": {
        "title": "A86 GCIS (B6)",
        "xaxis": {
         "title": "Month"
        },
        "yaxis": {
         "title": "Percent Difference"
        }
       }
      },
      "text/html": [
       "<div id=\"1acbf6aa-0af8-49bc-8fd3-d93c69295d53\" style=\"height: 525px; width: 100%;\" class=\"plotly-graph-div\"></div><script type=\"text/javascript\">require([\"plotly\"], function(Plotly) { window.PLOTLYENV=window.PLOTLYENV || {};window.PLOTLYENV.BASE_URL=\"https://plot.ly\";Plotly.newPlot(\"1acbf6aa-0af8-49bc-8fd3-d93c69295d53\", [{\"type\": \"bar\", \"x\": [1, 2, 3, 4, 5, 6, 7, 8, 9, 10, 11, 12], \"y\": [null, null, 7504.60778408668, null, 69.54120756674835, 29.22574075973569, 19.724394911914747, 18.52245683223912, 134.0569769220014, 165.0039737167024, null, 3088.3767393480266]}], {\"title\": \"A86 GCIS (B6)\", \"xaxis\": {\"title\": \"Month\"}, \"yaxis\": {\"title\": \"Percent Difference\"}}, {\"showLink\": true, \"linkText\": \"Export to plot.ly\"})});</script>"
      ],
      "text/vnd.plotly.v1+html": [
       "<div id=\"1acbf6aa-0af8-49bc-8fd3-d93c69295d53\" style=\"height: 525px; width: 100%;\" class=\"plotly-graph-div\"></div><script type=\"text/javascript\">require([\"plotly\"], function(Plotly) { window.PLOTLYENV=window.PLOTLYENV || {};window.PLOTLYENV.BASE_URL=\"https://plot.ly\";Plotly.newPlot(\"1acbf6aa-0af8-49bc-8fd3-d93c69295d53\", [{\"type\": \"bar\", \"x\": [1, 2, 3, 4, 5, 6, 7, 8, 9, 10, 11, 12], \"y\": [null, null, 7504.60778408668, null, 69.54120756674835, 29.22574075973569, 19.724394911914747, 18.52245683223912, 134.0569769220014, 165.0039737167024, null, 3088.3767393480266]}], {\"title\": \"A86 GCIS (B6)\", \"xaxis\": {\"title\": \"Month\"}, \"yaxis\": {\"title\": \"Percent Difference\"}}, {\"showLink\": true, \"linkText\": \"Export to plot.ly\"})});</script>"
      ]
     },
     "metadata": {},
     "output_type": "display_data"
    },
    {
     "data": {
      "application/vnd.plotly.v1+json": {
       "data": [
        {
         "type": "bar",
         "x": [
          1,
          2,
          3,
          4,
          5,
          6,
          7,
          8,
          9,
          10,
          11,
          12
         ],
         "y": [
          null,
          518.4731596777136,
          220.8164337174088,
          272.6894051488175,
          119.26317616878984,
          23.361060823973617,
          30.13066244904262,
          27.239756137245713,
          33495.507068719504,
          38.0105676619868,
          13064.108754026971,
          375.3064409596983
         ]
        }
       ],
       "layout": {
        "title": "A86 GCIS (B7)",
        "xaxis": {
         "title": "Month"
        },
        "yaxis": {
         "title": "Percent Difference"
        }
       }
      },
      "text/html": [
       "<div id=\"354955f5-6885-4463-b454-7f5497d8cad6\" style=\"height: 525px; width: 100%;\" class=\"plotly-graph-div\"></div><script type=\"text/javascript\">require([\"plotly\"], function(Plotly) { window.PLOTLYENV=window.PLOTLYENV || {};window.PLOTLYENV.BASE_URL=\"https://plot.ly\";Plotly.newPlot(\"354955f5-6885-4463-b454-7f5497d8cad6\", [{\"type\": \"bar\", \"x\": [1, 2, 3, 4, 5, 6, 7, 8, 9, 10, 11, 12], \"y\": [null, 518.4731596777136, 220.8164337174088, 272.6894051488175, 119.26317616878984, 23.361060823973617, 30.13066244904262, 27.239756137245713, 33495.507068719504, 38.0105676619868, 13064.108754026971, 375.3064409596983]}], {\"title\": \"A86 GCIS (B7)\", \"xaxis\": {\"title\": \"Month\"}, \"yaxis\": {\"title\": \"Percent Difference\"}}, {\"showLink\": true, \"linkText\": \"Export to plot.ly\"})});</script>"
      ],
      "text/vnd.plotly.v1+html": [
       "<div id=\"354955f5-6885-4463-b454-7f5497d8cad6\" style=\"height: 525px; width: 100%;\" class=\"plotly-graph-div\"></div><script type=\"text/javascript\">require([\"plotly\"], function(Plotly) { window.PLOTLYENV=window.PLOTLYENV || {};window.PLOTLYENV.BASE_URL=\"https://plot.ly\";Plotly.newPlot(\"354955f5-6885-4463-b454-7f5497d8cad6\", [{\"type\": \"bar\", \"x\": [1, 2, 3, 4, 5, 6, 7, 8, 9, 10, 11, 12], \"y\": [null, 518.4731596777136, 220.8164337174088, 272.6894051488175, 119.26317616878984, 23.361060823973617, 30.13066244904262, 27.239756137245713, 33495.507068719504, 38.0105676619868, 13064.108754026971, 375.3064409596983]}], {\"title\": \"A86 GCIS (B7)\", \"xaxis\": {\"title\": \"Month\"}, \"yaxis\": {\"title\": \"Percent Difference\"}}, {\"showLink\": true, \"linkText\": \"Export to plot.ly\"})});</script>"
      ]
     },
     "metadata": {},
     "output_type": "display_data"
    },
    {
     "data": {
      "application/vnd.plotly.v1+json": {
       "data": [
        {
         "type": "bar",
         "x": [
          1,
          2,
          3,
          4,
          5,
          6,
          7,
          8,
          9,
          10,
          11,
          12
         ],
         "y": [
          5.774093010801391,
          3.7843721294249697,
          5.203993587441902,
          6.554212046581827,
          8.589289351523501,
          11.052295257827069,
          13.098202583830808,
          12.516293879710158,
          10.555932914700916,
          8.896908752494165,
          9.454638657541079,
          6.363236133868287
         ]
        }
       ],
       "layout": {
        "title": "A86 GCIS (B8)",
        "xaxis": {
         "title": "Month"
        },
        "yaxis": {
         "title": "Percent Difference"
        }
       }
      },
      "text/html": [
       "<div id=\"e746576d-c2ae-4586-8a6d-0b8e73dee441\" style=\"height: 525px; width: 100%;\" class=\"plotly-graph-div\"></div><script type=\"text/javascript\">require([\"plotly\"], function(Plotly) { window.PLOTLYENV=window.PLOTLYENV || {};window.PLOTLYENV.BASE_URL=\"https://plot.ly\";Plotly.newPlot(\"e746576d-c2ae-4586-8a6d-0b8e73dee441\", [{\"type\": \"bar\", \"x\": [1, 2, 3, 4, 5, 6, 7, 8, 9, 10, 11, 12], \"y\": [5.774093010801391, 3.7843721294249697, 5.203993587441902, 6.554212046581827, 8.589289351523501, 11.052295257827069, 13.098202583830808, 12.516293879710158, 10.555932914700916, 8.896908752494165, 9.454638657541079, 6.363236133868287]}], {\"title\": \"A86 GCIS (B8)\", \"xaxis\": {\"title\": \"Month\"}, \"yaxis\": {\"title\": \"Percent Difference\"}}, {\"showLink\": true, \"linkText\": \"Export to plot.ly\"})});</script>"
      ],
      "text/vnd.plotly.v1+html": [
       "<div id=\"e746576d-c2ae-4586-8a6d-0b8e73dee441\" style=\"height: 525px; width: 100%;\" class=\"plotly-graph-div\"></div><script type=\"text/javascript\">require([\"plotly\"], function(Plotly) { window.PLOTLYENV=window.PLOTLYENV || {};window.PLOTLYENV.BASE_URL=\"https://plot.ly\";Plotly.newPlot(\"e746576d-c2ae-4586-8a6d-0b8e73dee441\", [{\"type\": \"bar\", \"x\": [1, 2, 3, 4, 5, 6, 7, 8, 9, 10, 11, 12], \"y\": [5.774093010801391, 3.7843721294249697, 5.203993587441902, 6.554212046581827, 8.589289351523501, 11.052295257827069, 13.098202583830808, 12.516293879710158, 10.555932914700916, 8.896908752494165, 9.454638657541079, 6.363236133868287]}], {\"title\": \"A86 GCIS (B8)\", \"xaxis\": {\"title\": \"Month\"}, \"yaxis\": {\"title\": \"Percent Difference\"}}, {\"showLink\": true, \"linkText\": \"Export to plot.ly\"})});</script>"
      ]
     },
     "metadata": {},
     "output_type": "display_data"
    },
    {
     "data": {
      "application/vnd.plotly.v1+json": {
       "data": [
        {
         "type": "bar",
         "x": [
          1,
          2,
          3,
          4,
          5,
          6,
          7,
          8,
          9,
          10,
          11,
          12
         ],
         "y": [
          4.726653967934753,
          2.9240415869542282,
          5.168180796941419,
          4.453009769706545,
          1.3536036017486515,
          1.54967247075724,
          1.3421626641823807,
          1.8540215139984497,
          1.3736634346364753,
          1.609524550201402,
          2.4270306872271123,
          1.8860281923984583
         ]
        }
       ],
       "layout": {
        "title": "A86 GCIS (B9)",
        "xaxis": {
         "title": "Month"
        },
        "yaxis": {
         "title": "Percent Difference"
        }
       }
      },
      "text/html": [
       "<div id=\"9ed42251-925f-454f-8d54-31e94dc1eced\" style=\"height: 525px; width: 100%;\" class=\"plotly-graph-div\"></div><script type=\"text/javascript\">require([\"plotly\"], function(Plotly) { window.PLOTLYENV=window.PLOTLYENV || {};window.PLOTLYENV.BASE_URL=\"https://plot.ly\";Plotly.newPlot(\"9ed42251-925f-454f-8d54-31e94dc1eced\", [{\"type\": \"bar\", \"x\": [1, 2, 3, 4, 5, 6, 7, 8, 9, 10, 11, 12], \"y\": [4.726653967934753, 2.9240415869542282, 5.168180796941419, 4.453009769706545, 1.3536036017486515, 1.54967247075724, 1.3421626641823807, 1.8540215139984497, 1.3736634346364753, 1.609524550201402, 2.4270306872271123, 1.8860281923984583]}], {\"title\": \"A86 GCIS (B9)\", \"xaxis\": {\"title\": \"Month\"}, \"yaxis\": {\"title\": \"Percent Difference\"}}, {\"showLink\": true, \"linkText\": \"Export to plot.ly\"})});</script>"
      ],
      "text/vnd.plotly.v1+html": [
       "<div id=\"9ed42251-925f-454f-8d54-31e94dc1eced\" style=\"height: 525px; width: 100%;\" class=\"plotly-graph-div\"></div><script type=\"text/javascript\">require([\"plotly\"], function(Plotly) { window.PLOTLYENV=window.PLOTLYENV || {};window.PLOTLYENV.BASE_URL=\"https://plot.ly\";Plotly.newPlot(\"9ed42251-925f-454f-8d54-31e94dc1eced\", [{\"type\": \"bar\", \"x\": [1, 2, 3, 4, 5, 6, 7, 8, 9, 10, 11, 12], \"y\": [4.726653967934753, 2.9240415869542282, 5.168180796941419, 4.453009769706545, 1.3536036017486515, 1.54967247075724, 1.3421626641823807, 1.8540215139984497, 1.3736634346364753, 1.609524550201402, 2.4270306872271123, 1.8860281923984583]}], {\"title\": \"A86 GCIS (B9)\", \"xaxis\": {\"title\": \"Month\"}, \"yaxis\": {\"title\": \"Percent Difference\"}}, {\"showLink\": true, \"linkText\": \"Export to plot.ly\"})});</script>"
      ]
     },
     "metadata": {},
     "output_type": "display_data"
    },
    {
     "data": {
      "application/vnd.plotly.v1+json": {
       "data": [
        {
         "type": "bar",
         "x": [
          1,
          2,
          3,
          4,
          5,
          6,
          7,
          8,
          9,
          10,
          11,
          12
         ],
         "y": [
          3.759532809617335,
          3.3925592692133777,
          3.6081830679755966,
          3.441513062510121,
          4.005036562406112,
          3.1545403847060833,
          3.364215015713312,
          3.473716900525084,
          3.1695772680588195,
          3.090208982836806,
          4.122711191654997,
          3.69846045710984
         ]
        }
       ],
       "layout": {
        "title": "A86 GCIS (B10)",
        "xaxis": {
         "title": "Month"
        },
        "yaxis": {
         "title": "Percent Difference"
        }
       }
      },
      "text/html": [
       "<div id=\"7a59b7bc-caf3-4fcb-8071-33219b50ca1e\" style=\"height: 525px; width: 100%;\" class=\"plotly-graph-div\"></div><script type=\"text/javascript\">require([\"plotly\"], function(Plotly) { window.PLOTLYENV=window.PLOTLYENV || {};window.PLOTLYENV.BASE_URL=\"https://plot.ly\";Plotly.newPlot(\"7a59b7bc-caf3-4fcb-8071-33219b50ca1e\", [{\"type\": \"bar\", \"x\": [1, 2, 3, 4, 5, 6, 7, 8, 9, 10, 11, 12], \"y\": [3.759532809617335, 3.3925592692133777, 3.6081830679755966, 3.441513062510121, 4.005036562406112, 3.1545403847060833, 3.364215015713312, 3.473716900525084, 3.1695772680588195, 3.090208982836806, 4.122711191654997, 3.69846045710984]}], {\"title\": \"A86 GCIS (B10)\", \"xaxis\": {\"title\": \"Month\"}, \"yaxis\": {\"title\": \"Percent Difference\"}}, {\"showLink\": true, \"linkText\": \"Export to plot.ly\"})});</script>"
      ],
      "text/vnd.plotly.v1+html": [
       "<div id=\"7a59b7bc-caf3-4fcb-8071-33219b50ca1e\" style=\"height: 525px; width: 100%;\" class=\"plotly-graph-div\"></div><script type=\"text/javascript\">require([\"plotly\"], function(Plotly) { window.PLOTLYENV=window.PLOTLYENV || {};window.PLOTLYENV.BASE_URL=\"https://plot.ly\";Plotly.newPlot(\"7a59b7bc-caf3-4fcb-8071-33219b50ca1e\", [{\"type\": \"bar\", \"x\": [1, 2, 3, 4, 5, 6, 7, 8, 9, 10, 11, 12], \"y\": [3.759532809617335, 3.3925592692133777, 3.6081830679755966, 3.441513062510121, 4.005036562406112, 3.1545403847060833, 3.364215015713312, 3.473716900525084, 3.1695772680588195, 3.090208982836806, 4.122711191654997, 3.69846045710984]}], {\"title\": \"A86 GCIS (B10)\", \"xaxis\": {\"title\": \"Month\"}, \"yaxis\": {\"title\": \"Percent Difference\"}}, {\"showLink\": true, \"linkText\": \"Export to plot.ly\"})});</script>"
      ]
     },
     "metadata": {},
     "output_type": "display_data"
    },
    {
     "data": {
      "application/vnd.plotly.v1+json": {
       "data": [
        {
         "type": "bar",
         "x": [
          1,
          2,
          3,
          4,
          5,
          6,
          7,
          8,
          9,
          10,
          11,
          12
         ],
         "y": [
          2.972894162988388,
          2.161143377722972,
          1.8974325043610556,
          1.8683430054433376,
          2.235250292267258,
          1.734567099251826,
          1.9240584829025418,
          2.291827206836858,
          1.7474013688765038,
          1.8429355701264194,
          2.858176490589958,
          2.0949482713457006
         ]
        }
       ],
       "layout": {
        "title": "A86 GCIS (B12)",
        "xaxis": {
         "title": "Month"
        },
        "yaxis": {
         "title": "Percent Difference"
        }
       }
      },
      "text/html": [
       "<div id=\"590fc3ae-09b1-4c62-b245-c90fe13a54ee\" style=\"height: 525px; width: 100%;\" class=\"plotly-graph-div\"></div><script type=\"text/javascript\">require([\"plotly\"], function(Plotly) { window.PLOTLYENV=window.PLOTLYENV || {};window.PLOTLYENV.BASE_URL=\"https://plot.ly\";Plotly.newPlot(\"590fc3ae-09b1-4c62-b245-c90fe13a54ee\", [{\"type\": \"bar\", \"x\": [1, 2, 3, 4, 5, 6, 7, 8, 9, 10, 11, 12], \"y\": [2.972894162988388, 2.161143377722972, 1.8974325043610556, 1.8683430054433376, 2.235250292267258, 1.734567099251826, 1.9240584829025418, 2.291827206836858, 1.7474013688765038, 1.8429355701264194, 2.858176490589958, 2.0949482713457006]}], {\"title\": \"A86 GCIS (B12)\", \"xaxis\": {\"title\": \"Month\"}, \"yaxis\": {\"title\": \"Percent Difference\"}}, {\"showLink\": true, \"linkText\": \"Export to plot.ly\"})});</script>"
      ],
      "text/vnd.plotly.v1+html": [
       "<div id=\"590fc3ae-09b1-4c62-b245-c90fe13a54ee\" style=\"height: 525px; width: 100%;\" class=\"plotly-graph-div\"></div><script type=\"text/javascript\">require([\"plotly\"], function(Plotly) { window.PLOTLYENV=window.PLOTLYENV || {};window.PLOTLYENV.BASE_URL=\"https://plot.ly\";Plotly.newPlot(\"590fc3ae-09b1-4c62-b245-c90fe13a54ee\", [{\"type\": \"bar\", \"x\": [1, 2, 3, 4, 5, 6, 7, 8, 9, 10, 11, 12], \"y\": [2.972894162988388, 2.161143377722972, 1.8974325043610556, 1.8683430054433376, 2.235250292267258, 1.734567099251826, 1.9240584829025418, 2.291827206836858, 1.7474013688765038, 1.8429355701264194, 2.858176490589958, 2.0949482713457006]}], {\"title\": \"A86 GCIS (B12)\", \"xaxis\": {\"title\": \"Month\"}, \"yaxis\": {\"title\": \"Percent Difference\"}}, {\"showLink\": true, \"linkText\": \"Export to plot.ly\"})});</script>"
      ]
     },
     "metadata": {},
     "output_type": "display_data"
    },
    {
     "data": {
      "application/vnd.plotly.v1+json": {
       "data": [
        {
         "type": "bar",
         "x": [
          1,
          2,
          3,
          4,
          5,
          6,
          7,
          8,
          9,
          10,
          11,
          12
         ],
         "y": [
          3.256649970351203,
          2.930237434769285,
          4.516346130326455,
          5.585306363465399,
          3.472515451165227,
          3.0374658161102066,
          2.1776313210805283,
          2.7663690887869756,
          2.473331961762418,
          2.882021988770388,
          2.915542352658369,
          4.628514923744531
         ]
        }
       ],
       "layout": {
        "title": "A86 GCIS (U1)",
        "xaxis": {
         "title": "Month"
        },
        "yaxis": {
         "title": "Percent Difference"
        }
       }
      },
      "text/html": [
       "<div id=\"994837f2-7d76-4a87-b074-51c40b24972d\" style=\"height: 525px; width: 100%;\" class=\"plotly-graph-div\"></div><script type=\"text/javascript\">require([\"plotly\"], function(Plotly) { window.PLOTLYENV=window.PLOTLYENV || {};window.PLOTLYENV.BASE_URL=\"https://plot.ly\";Plotly.newPlot(\"994837f2-7d76-4a87-b074-51c40b24972d\", [{\"type\": \"bar\", \"x\": [1, 2, 3, 4, 5, 6, 7, 8, 9, 10, 11, 12], \"y\": [3.256649970351203, 2.930237434769285, 4.516346130326455, 5.585306363465399, 3.472515451165227, 3.0374658161102066, 2.1776313210805283, 2.7663690887869756, 2.473331961762418, 2.882021988770388, 2.915542352658369, 4.628514923744531]}], {\"title\": \"A86 GCIS (U1)\", \"xaxis\": {\"title\": \"Month\"}, \"yaxis\": {\"title\": \"Percent Difference\"}}, {\"showLink\": true, \"linkText\": \"Export to plot.ly\"})});</script>"
      ],
      "text/vnd.plotly.v1+html": [
       "<div id=\"994837f2-7d76-4a87-b074-51c40b24972d\" style=\"height: 525px; width: 100%;\" class=\"plotly-graph-div\"></div><script type=\"text/javascript\">require([\"plotly\"], function(Plotly) { window.PLOTLYENV=window.PLOTLYENV || {};window.PLOTLYENV.BASE_URL=\"https://plot.ly\";Plotly.newPlot(\"994837f2-7d76-4a87-b074-51c40b24972d\", [{\"type\": \"bar\", \"x\": [1, 2, 3, 4, 5, 6, 7, 8, 9, 10, 11, 12], \"y\": [3.256649970351203, 2.930237434769285, 4.516346130326455, 5.585306363465399, 3.472515451165227, 3.0374658161102066, 2.1776313210805283, 2.7663690887869756, 2.473331961762418, 2.882021988770388, 2.915542352658369, 4.628514923744531]}], {\"title\": \"A86 GCIS (U1)\", \"xaxis\": {\"title\": \"Month\"}, \"yaxis\": {\"title\": \"Percent Difference\"}}, {\"showLink\": true, \"linkText\": \"Export to plot.ly\"})});</script>"
      ]
     },
     "metadata": {},
     "output_type": "display_data"
    }
   ],
   "source": [
    "gcisdata1 = [Bar(x=gcis_anom1.index, y=gcis_anom1['Percent Difference'])]\n",
    "layout1 = go.Layout(title='A86 GCIS (B6)', xaxis=dict(title='Month'), yaxis=dict(title='Percent Difference'))\n",
    "fig1 = go.Figure(data=gcisdata1, layout=layout1)\n",
    "iplot(fig1)\n",
    "\n",
    "gcisdata2 = [Bar(x=gcis_anom2.index, y=gcis_anom2['Percent Difference'])]\n",
    "layout2 = go.Layout(title='A86 GCIS (B7)', xaxis=dict(title='Month'), yaxis=dict(title='Percent Difference'))\n",
    "fig2 = go.Figure(data=gcisdata2, layout=layout2)\n",
    "iplot(fig2)\n",
    "\n",
    "gcisdata3 = [Bar(x=gcis_anom3.index, y=gcis_anom3['Percent Difference'])]\n",
    "layout3 = go.Layout(title='A86 GCIS (B8)', xaxis=dict(title='Month'), yaxis=dict(title='Percent Difference'))\n",
    "fig3 = go.Figure(data=gcisdata3, layout=layout3)\n",
    "iplot(fig3)\n",
    "\n",
    "gcisdata4 = [Bar(x=gcis_anom4.index, y=gcis_anom4['Percent Difference'])]\n",
    "layout4 = go.Layout(title='A86 GCIS (B9)', xaxis=dict(title='Month'), yaxis=dict(title='Percent Difference'))\n",
    "fig4 = go.Figure(data=gcisdata4, layout=layout4)\n",
    "iplot(fig4)\n",
    "\n",
    "gcisdata5 = [Bar(x=gcis_anom5.index, y=gcis_anom5['Percent Difference'])]\n",
    "layout5 = go.Layout(title='A86 GCIS (B10)', xaxis=dict(title='Month'), yaxis=dict(title='Percent Difference'))\n",
    "fig5 = go.Figure(data=gcisdata5, layout=layout5)\n",
    "iplot(fig5)\n",
    "\n",
    "gcisdata6 = [Bar(x=gcis_anom6.index, y=gcis_anom6['Percent Difference'])]\n",
    "layout6 = go.Layout(title='A86 GCIS (B12)', xaxis=dict(title='Month'), yaxis=dict(title='Percent Difference'))\n",
    "fig6 = go.Figure(data=gcisdata6, layout=layout6)\n",
    "iplot(fig6)\n",
    "\n",
    "gcisdata7 = [Bar(x=gcis_anom7.index, y=gcis_anom7['Percent Difference'])]\n",
    "layout7 = go.Layout(title='A86 GCIS (U1)', xaxis=dict(title='Month'), yaxis=dict(title='Percent Difference'))\n",
    "fig7 = go.Figure(data=gcisdata7, layout=layout7)\n",
    "iplot(fig7)"
   ]
  },
  {
   "cell_type": "markdown",
   "metadata": {},
   "source": [
    "### Cummings"
   ]
  },
  {
   "cell_type": "code",
   "execution_count": 311,
   "metadata": {},
   "outputs": [
    {
     "data": {
      "text/plain": [
       "array(['A62 Cummings Life Sciences (B1)',\n",
       "       'A62 Cummings Life Sciences (B3)',\n",
       "       'A62 Cummings Life Sciences (B5)',\n",
       "       'A62 Cummings Life Sciences (B4)', 'A62 Cummings Life Sciences (B6)'], dtype=object)"
      ]
     },
     "execution_count": 311,
     "metadata": {},
     "output_type": "execute_result"
    }
   ],
   "source": [
    "cummings = get_building_data('A62')\n",
    "cummings.Meter.unique()"
   ]
  },
  {
   "cell_type": "code",
   "execution_count": 323,
   "metadata": {},
   "outputs": [
    {
     "name": "stderr",
     "output_type": "stream",
     "text": [
      "/Users/abisolaolawale/anaconda/lib/python3.6/site-packages/ipykernel_launcher.py:10: DeprecationWarning:\n",
      "\n",
      "\n",
      ".ix is deprecated. Please use\n",
      ".loc for label based indexing or\n",
      ".iloc for positional indexing\n",
      "\n",
      "See the documentation here:\n",
      "http://pandas.pydata.org/pandas-docs/stable/indexing.html#deprecate_ix\n",
      "\n"
     ]
    }
   ],
   "source": [
    "cummings_anom1 = get_anomaly_percent(cummings, 'A62 Cummings Life Sciences (B1)')\n",
    "cummings_anom2 = get_anomaly_percent(cummings, 'A62 Cummings Life Sciences (B3)')\n",
    "cummings_anom3 = get_anomaly_percent(cummings, 'A62 Cummings Life Sciences (B5)')\n",
    "cummings_anom4 = get_anomaly_percent(cummings, 'A62 Cummings Life Sciences (B6)')\n"
   ]
  },
  {
   "cell_type": "code",
   "execution_count": 324,
   "metadata": {
    "collapsed": true
   },
   "outputs": [],
   "source": [
    "cummings_anom1.Date = pd.to_datetime(cummings_anom1.Date).dt.month\n",
    "cummings_anom2.Date = pd.to_datetime(cummings_anom2.Date).dt.month\n",
    "cummings_anom3.Date = pd.to_datetime(cummings_anom3.Date).dt.month\n",
    "cummings_anom4.Date = pd.to_datetime(cummings_anom4.Date).dt.month\n",
    "\n",
    "cummings_anom1 = cummings_anom1.groupby(by='Date').mean()\n",
    "cummings_anom2 = cummings_anom2.groupby(by='Date').mean()\n",
    "cummings_anom3 = cummings_anom3.groupby(by='Date').mean()\n",
    "cummings_anom4 = cummings_anom4.groupby(by='Date').mean()"
   ]
  },
  {
   "cell_type": "code",
   "execution_count": 326,
   "metadata": {
    "scrolled": false
   },
   "outputs": [
    {
     "data": {
      "application/vnd.plotly.v1+json": {
       "data": [
        {
         "type": "bar",
         "x": [
          1,
          2,
          3,
          4,
          5,
          6,
          7,
          8,
          9,
          10,
          11,
          12
         ],
         "y": [
          2.7652048488655603,
          1.9246324397688306,
          4.697445897294586,
          5.085279712968824,
          4.455602341850239,
          3.041752818430651,
          2.8261988164471004,
          2.5786497828431183,
          3.324027217462592,
          3.4691497424942437,
          4.020561772907936,
          2.9631228383013215
         ]
        }
       ],
       "layout": {
        "title": "Cummings Life Sciences (B1)",
        "xaxis": {
         "title": "Month"
        },
        "yaxis": {
         "title": "Percent Difference"
        }
       }
      },
      "text/html": [
       "<div id=\"6b404ad9-056c-4859-ba5b-6bfc22dbf8a1\" style=\"height: 525px; width: 100%;\" class=\"plotly-graph-div\"></div><script type=\"text/javascript\">require([\"plotly\"], function(Plotly) { window.PLOTLYENV=window.PLOTLYENV || {};window.PLOTLYENV.BASE_URL=\"https://plot.ly\";Plotly.newPlot(\"6b404ad9-056c-4859-ba5b-6bfc22dbf8a1\", [{\"type\": \"bar\", \"x\": [1, 2, 3, 4, 5, 6, 7, 8, 9, 10, 11, 12], \"y\": [2.7652048488655603, 1.9246324397688306, 4.697445897294586, 5.085279712968824, 4.455602341850239, 3.041752818430651, 2.8261988164471004, 2.5786497828431183, 3.324027217462592, 3.4691497424942437, 4.020561772907936, 2.9631228383013215]}], {\"title\": \"Cummings Life Sciences (B1)\", \"xaxis\": {\"title\": \"Month\"}, \"yaxis\": {\"title\": \"Percent Difference\"}}, {\"showLink\": true, \"linkText\": \"Export to plot.ly\"})});</script>"
      ],
      "text/vnd.plotly.v1+html": [
       "<div id=\"6b404ad9-056c-4859-ba5b-6bfc22dbf8a1\" style=\"height: 525px; width: 100%;\" class=\"plotly-graph-div\"></div><script type=\"text/javascript\">require([\"plotly\"], function(Plotly) { window.PLOTLYENV=window.PLOTLYENV || {};window.PLOTLYENV.BASE_URL=\"https://plot.ly\";Plotly.newPlot(\"6b404ad9-056c-4859-ba5b-6bfc22dbf8a1\", [{\"type\": \"bar\", \"x\": [1, 2, 3, 4, 5, 6, 7, 8, 9, 10, 11, 12], \"y\": [2.7652048488655603, 1.9246324397688306, 4.697445897294586, 5.085279712968824, 4.455602341850239, 3.041752818430651, 2.8261988164471004, 2.5786497828431183, 3.324027217462592, 3.4691497424942437, 4.020561772907936, 2.9631228383013215]}], {\"title\": \"Cummings Life Sciences (B1)\", \"xaxis\": {\"title\": \"Month\"}, \"yaxis\": {\"title\": \"Percent Difference\"}}, {\"showLink\": true, \"linkText\": \"Export to plot.ly\"})});</script>"
      ]
     },
     "metadata": {},
     "output_type": "display_data"
    },
    {
     "data": {
      "application/vnd.plotly.v1+json": {
       "data": [
        {
         "type": "bar",
         "x": [
          1,
          2,
          3,
          4,
          5,
          6,
          7,
          8,
          9,
          10,
          11,
          12
         ],
         "y": [
          4.879056539538819,
          4.147992599233472,
          4.065946922682719,
          3.635979444695315,
          4.395353914049979,
          3.493520562517357,
          3.7375392304699955,
          3.59682198102336,
          3.4688246693541016,
          3.494993315642317,
          5.047168365791893,
          4.075924445885628
         ]
        }
       ],
       "layout": {
        "title": "Cummings Life Sciences (B3)",
        "xaxis": {
         "title": "Month"
        },
        "yaxis": {
         "title": "Percent Difference"
        }
       }
      },
      "text/html": [
       "<div id=\"85152425-55f6-4820-8452-35c41571cd3e\" style=\"height: 525px; width: 100%;\" class=\"plotly-graph-div\"></div><script type=\"text/javascript\">require([\"plotly\"], function(Plotly) { window.PLOTLYENV=window.PLOTLYENV || {};window.PLOTLYENV.BASE_URL=\"https://plot.ly\";Plotly.newPlot(\"85152425-55f6-4820-8452-35c41571cd3e\", [{\"type\": \"bar\", \"x\": [1, 2, 3, 4, 5, 6, 7, 8, 9, 10, 11, 12], \"y\": [4.879056539538819, 4.147992599233472, 4.065946922682719, 3.635979444695315, 4.395353914049979, 3.493520562517357, 3.7375392304699955, 3.59682198102336, 3.4688246693541016, 3.494993315642317, 5.047168365791893, 4.075924445885628]}], {\"title\": \"Cummings Life Sciences (B3)\", \"xaxis\": {\"title\": \"Month\"}, \"yaxis\": {\"title\": \"Percent Difference\"}}, {\"showLink\": true, \"linkText\": \"Export to plot.ly\"})});</script>"
      ],
      "text/vnd.plotly.v1+html": [
       "<div id=\"85152425-55f6-4820-8452-35c41571cd3e\" style=\"height: 525px; width: 100%;\" class=\"plotly-graph-div\"></div><script type=\"text/javascript\">require([\"plotly\"], function(Plotly) { window.PLOTLYENV=window.PLOTLYENV || {};window.PLOTLYENV.BASE_URL=\"https://plot.ly\";Plotly.newPlot(\"85152425-55f6-4820-8452-35c41571cd3e\", [{\"type\": \"bar\", \"x\": [1, 2, 3, 4, 5, 6, 7, 8, 9, 10, 11, 12], \"y\": [4.879056539538819, 4.147992599233472, 4.065946922682719, 3.635979444695315, 4.395353914049979, 3.493520562517357, 3.7375392304699955, 3.59682198102336, 3.4688246693541016, 3.494993315642317, 5.047168365791893, 4.075924445885628]}], {\"title\": \"Cummings Life Sciences (B3)\", \"xaxis\": {\"title\": \"Month\"}, \"yaxis\": {\"title\": \"Percent Difference\"}}, {\"showLink\": true, \"linkText\": \"Export to plot.ly\"})});</script>"
      ]
     },
     "metadata": {},
     "output_type": "display_data"
    },
    {
     "data": {
      "application/vnd.plotly.v1+json": {
       "data": [
        {
         "type": "bar",
         "x": [
          1,
          2,
          3,
          4,
          5,
          6,
          7,
          8,
          9,
          10,
          11,
          12
         ],
         "y": [
          null,
          100,
          216.49544966273925,
          94.28978489257022,
          65.56679915062243,
          19.677865630108112,
          9.851839200071383,
          9.805331442291818,
          14.690518657798501,
          18.086859420278817,
          36.088137282830694,
          59.89946148759633
         ]
        }
       ],
       "layout": {
        "title": "Cummings Life Sciences (B5)",
        "xaxis": {
         "title": "Month"
        },
        "yaxis": {
         "title": "Percent Difference"
        }
       }
      },
      "text/html": [
       "<div id=\"1c482fef-c6e9-4804-a001-d329f91cba38\" style=\"height: 525px; width: 100%;\" class=\"plotly-graph-div\"></div><script type=\"text/javascript\">require([\"plotly\"], function(Plotly) { window.PLOTLYENV=window.PLOTLYENV || {};window.PLOTLYENV.BASE_URL=\"https://plot.ly\";Plotly.newPlot(\"1c482fef-c6e9-4804-a001-d329f91cba38\", [{\"type\": \"bar\", \"x\": [1, 2, 3, 4, 5, 6, 7, 8, 9, 10, 11, 12], \"y\": [null, 100.0, 216.49544966273925, 94.28978489257022, 65.56679915062243, 19.677865630108112, 9.851839200071383, 9.805331442291818, 14.690518657798501, 18.086859420278817, 36.088137282830694, 59.89946148759633]}], {\"title\": \"Cummings Life Sciences (B5)\", \"xaxis\": {\"title\": \"Month\"}, \"yaxis\": {\"title\": \"Percent Difference\"}}, {\"showLink\": true, \"linkText\": \"Export to plot.ly\"})});</script>"
      ],
      "text/vnd.plotly.v1+html": [
       "<div id=\"1c482fef-c6e9-4804-a001-d329f91cba38\" style=\"height: 525px; width: 100%;\" class=\"plotly-graph-div\"></div><script type=\"text/javascript\">require([\"plotly\"], function(Plotly) { window.PLOTLYENV=window.PLOTLYENV || {};window.PLOTLYENV.BASE_URL=\"https://plot.ly\";Plotly.newPlot(\"1c482fef-c6e9-4804-a001-d329f91cba38\", [{\"type\": \"bar\", \"x\": [1, 2, 3, 4, 5, 6, 7, 8, 9, 10, 11, 12], \"y\": [null, 100.0, 216.49544966273925, 94.28978489257022, 65.56679915062243, 19.677865630108112, 9.851839200071383, 9.805331442291818, 14.690518657798501, 18.086859420278817, 36.088137282830694, 59.89946148759633]}], {\"title\": \"Cummings Life Sciences (B5)\", \"xaxis\": {\"title\": \"Month\"}, \"yaxis\": {\"title\": \"Percent Difference\"}}, {\"showLink\": true, \"linkText\": \"Export to plot.ly\"})});</script>"
      ]
     },
     "metadata": {},
     "output_type": "display_data"
    },
    {
     "data": {
      "application/vnd.plotly.v1+json": {
       "data": [
        {
         "type": "bar",
         "x": [
          1,
          2,
          3,
          4,
          5,
          6,
          7,
          8,
          9,
          10,
          11,
          12
         ],
         "y": [
          null,
          31.247736656275336,
          190.24819011951996,
          907.3054876180472,
          62076.25149229167,
          23.33994363845113,
          1037.9217449812343,
          251.14747125019153,
          253.02468300993124,
          null,
          null,
          null
         ]
        }
       ],
       "layout": {
        "title": "Cummings Life Sciences (B6)",
        "xaxis": {
         "title": "Month"
        },
        "yaxis": {
         "title": "Percent Difference"
        }
       }
      },
      "text/html": [
       "<div id=\"a3098238-7579-430b-a6d3-0fc283220662\" style=\"height: 525px; width: 100%;\" class=\"plotly-graph-div\"></div><script type=\"text/javascript\">require([\"plotly\"], function(Plotly) { window.PLOTLYENV=window.PLOTLYENV || {};window.PLOTLYENV.BASE_URL=\"https://plot.ly\";Plotly.newPlot(\"a3098238-7579-430b-a6d3-0fc283220662\", [{\"type\": \"bar\", \"x\": [1, 2, 3, 4, 5, 6, 7, 8, 9, 10, 11, 12], \"y\": [null, 31.247736656275336, 190.24819011951996, 907.3054876180472, 62076.25149229167, 23.33994363845113, 1037.9217449812343, 251.14747125019153, 253.02468300993124, null, null, null]}], {\"title\": \"Cummings Life Sciences (B6)\", \"xaxis\": {\"title\": \"Month\"}, \"yaxis\": {\"title\": \"Percent Difference\"}}, {\"showLink\": true, \"linkText\": \"Export to plot.ly\"})});</script>"
      ],
      "text/vnd.plotly.v1+html": [
       "<div id=\"a3098238-7579-430b-a6d3-0fc283220662\" style=\"height: 525px; width: 100%;\" class=\"plotly-graph-div\"></div><script type=\"text/javascript\">require([\"plotly\"], function(Plotly) { window.PLOTLYENV=window.PLOTLYENV || {};window.PLOTLYENV.BASE_URL=\"https://plot.ly\";Plotly.newPlot(\"a3098238-7579-430b-a6d3-0fc283220662\", [{\"type\": \"bar\", \"x\": [1, 2, 3, 4, 5, 6, 7, 8, 9, 10, 11, 12], \"y\": [null, 31.247736656275336, 190.24819011951996, 907.3054876180472, 62076.25149229167, 23.33994363845113, 1037.9217449812343, 251.14747125019153, 253.02468300993124, null, null, null]}], {\"title\": \"Cummings Life Sciences (B6)\", \"xaxis\": {\"title\": \"Month\"}, \"yaxis\": {\"title\": \"Percent Difference\"}}, {\"showLink\": true, \"linkText\": \"Export to plot.ly\"})});</script>"
      ]
     },
     "metadata": {},
     "output_type": "display_data"
    }
   ],
   "source": [
    "cummingsdata1 = [Bar(x=cummings_anom1.index, y=cummings_anom1['Percent Difference'])]\n",
    "layout1 = go.Layout(title='Cummings Life Sciences (B1)', xaxis=dict(title='Month'), yaxis=dict(title='Percent Difference'))\n",
    "fig1 = go.Figure(data=cummingsdata1, layout=layout1)\n",
    "iplot(fig1)\n",
    "\n",
    "cummingsdata2 = [Bar(x=cummings_anom2.index, y=cummings_anom2['Percent Difference'])]\n",
    "layout2 = go.Layout(title='Cummings Life Sciences (B3)', xaxis=dict(title='Month'), yaxis=dict(title='Percent Difference'))\n",
    "fig2 = go.Figure(data=cummingsdata2, layout=layout2)\n",
    "iplot(fig2)\n",
    "\n",
    "cummingsdata3 = [Bar(x=cummings_anom3.index, y=cummings_anom3['Percent Difference'])]\n",
    "layout3 = go.Layout(title='Cummings Life Sciences (B5)', xaxis=dict(title='Month'), yaxis=dict(title='Percent Difference'))\n",
    "fig3 = go.Figure(data=cummingsdata3, layout=layout3)\n",
    "iplot(fig3)\n",
    "\n",
    "cummingsdata4 = [Bar(x=cummings_anom4.index, y=cummings_anom4['Percent Difference'])]\n",
    "layout4 = go.Layout(title='Cummings Life Sciences (B6)', xaxis=dict(title='Month'), yaxis=dict(title='Percent Difference'))\n",
    "fig4 = go.Figure(data=cummingsdata4, layout=layout4)\n",
    "iplot(fig4)"
   ]
  },
  {
   "cell_type": "markdown",
   "metadata": {},
   "source": [
    "### Armour Clinical Research Institute"
   ]
  },
  {
   "cell_type": "code",
   "execution_count": 328,
   "metadata": {},
   "outputs": [
    {
     "data": {
      "text/plain": [
       "array(['A18 Armour Research (B1)'], dtype=object)"
      ]
     },
     "execution_count": 328,
     "metadata": {},
     "output_type": "execute_result"
    }
   ],
   "source": [
    "acri = get_building_data('A18')\n",
    "acri.Meter.unique()"
   ]
  },
  {
   "cell_type": "code",
   "execution_count": 329,
   "metadata": {},
   "outputs": [
    {
     "name": "stderr",
     "output_type": "stream",
     "text": [
      "/Users/abisolaolawale/anaconda/lib/python3.6/site-packages/ipykernel_launcher.py:10: DeprecationWarning:\n",
      "\n",
      "\n",
      ".ix is deprecated. Please use\n",
      ".loc for label based indexing or\n",
      ".iloc for positional indexing\n",
      "\n",
      "See the documentation here:\n",
      "http://pandas.pydata.org/pandas-docs/stable/indexing.html#deprecate_ix\n",
      "\n"
     ]
    }
   ],
   "source": [
    "acri_anom = get_anomaly_percent(acri, 'A18 Armour Research (B1)')"
   ]
  },
  {
   "cell_type": "code",
   "execution_count": 331,
   "metadata": {},
   "outputs": [],
   "source": [
    "acri_anom.Date = pd.to_datetime(acri_anom.Date).dt.month\n",
    "acri_anom = acri_anom.groupby(by='Date').mean()"
   ]
  },
  {
   "cell_type": "code",
   "execution_count": 333,
   "metadata": {},
   "outputs": [
    {
     "data": {
      "application/vnd.plotly.v1+json": {
       "data": [
        {
         "type": "bar",
         "x": [
          1,
          2,
          3,
          4,
          5,
          6,
          7,
          8,
          9,
          10,
          11,
          12
         ],
         "y": [
          4.9398656795187055,
          4.872633535806503,
          4.358268410898898,
          4.420145635940834,
          4.750333789826197,
          3.653141146294294,
          4.127082013210232,
          4.265093039456364,
          3.8045965545909057,
          4.301742216071527,
          5.489501841051955,
          4.636208952434814
         ]
        }
       ],
       "layout": {
        "title": "A18 Armour Research (B1)",
        "xaxis": {
         "title": "Month"
        },
        "yaxis": {
         "title": "Percent Difference"
        }
       }
      },
      "text/html": [
       "<div id=\"f3df1a6a-c934-42e0-a7b9-437649a8f43e\" style=\"height: 525px; width: 100%;\" class=\"plotly-graph-div\"></div><script type=\"text/javascript\">require([\"plotly\"], function(Plotly) { window.PLOTLYENV=window.PLOTLYENV || {};window.PLOTLYENV.BASE_URL=\"https://plot.ly\";Plotly.newPlot(\"f3df1a6a-c934-42e0-a7b9-437649a8f43e\", [{\"type\": \"bar\", \"x\": [1, 2, 3, 4, 5, 6, 7, 8, 9, 10, 11, 12], \"y\": [4.9398656795187055, 4.872633535806503, 4.358268410898898, 4.420145635940834, 4.750333789826197, 3.653141146294294, 4.127082013210232, 4.265093039456364, 3.8045965545909057, 4.301742216071527, 5.489501841051955, 4.636208952434814]}], {\"title\": \"A18 Armour Research (B1)\", \"xaxis\": {\"title\": \"Month\"}, \"yaxis\": {\"title\": \"Percent Difference\"}}, {\"showLink\": true, \"linkText\": \"Export to plot.ly\"})});</script>"
      ],
      "text/vnd.plotly.v1+html": [
       "<div id=\"f3df1a6a-c934-42e0-a7b9-437649a8f43e\" style=\"height: 525px; width: 100%;\" class=\"plotly-graph-div\"></div><script type=\"text/javascript\">require([\"plotly\"], function(Plotly) { window.PLOTLYENV=window.PLOTLYENV || {};window.PLOTLYENV.BASE_URL=\"https://plot.ly\";Plotly.newPlot(\"f3df1a6a-c934-42e0-a7b9-437649a8f43e\", [{\"type\": \"bar\", \"x\": [1, 2, 3, 4, 5, 6, 7, 8, 9, 10, 11, 12], \"y\": [4.9398656795187055, 4.872633535806503, 4.358268410898898, 4.420145635940834, 4.750333789826197, 3.653141146294294, 4.127082013210232, 4.265093039456364, 3.8045965545909057, 4.301742216071527, 5.489501841051955, 4.636208952434814]}], {\"title\": \"A18 Armour Research (B1)\", \"xaxis\": {\"title\": \"Month\"}, \"yaxis\": {\"title\": \"Percent Difference\"}}, {\"showLink\": true, \"linkText\": \"Export to plot.ly\"})});</script>"
      ]
     },
     "metadata": {},
     "output_type": "display_data"
    }
   ],
   "source": [
    "acridata= [Bar(x=acri_anom.index, y=acri_anom['Percent Difference'])]\n",
    "layout1 = go.Layout(title='A18 Armour Research (B1)', xaxis=dict(title='Month'), yaxis=dict(title='Percent Difference'))\n",
    "fig1 = go.Figure(data=acridata, layout=layout1)\n",
    "iplot(fig1)"
   ]
  },
  {
   "cell_type": "markdown",
   "metadata": {},
   "source": [
    "### Medical Campus Parking A"
   ]
  },
  {
   "cell_type": "code",
   "execution_count": 335,
   "metadata": {},
   "outputs": [
    {
     "data": {
      "text/plain": [
       "array(['A70 UC Hospital Chiller (B1)', 'A70 UC Hospital Chiller (B2)'], dtype=object)"
      ]
     },
     "execution_count": 335,
     "metadata": {},
     "output_type": "execute_result"
    }
   ],
   "source": [
    "mcp = get_building_data('A70')\n",
    "mcp.Meter.unique()\n"
   ]
  },
  {
   "cell_type": "code",
   "execution_count": 336,
   "metadata": {},
   "outputs": [
    {
     "name": "stderr",
     "output_type": "stream",
     "text": [
      "/Users/abisolaolawale/anaconda/lib/python3.6/site-packages/ipykernel_launcher.py:10: DeprecationWarning:\n",
      "\n",
      "\n",
      ".ix is deprecated. Please use\n",
      ".loc for label based indexing or\n",
      ".iloc for positional indexing\n",
      "\n",
      "See the documentation here:\n",
      "http://pandas.pydata.org/pandas-docs/stable/indexing.html#deprecate_ix\n",
      "\n"
     ]
    }
   ],
   "source": [
    "mcp_anom1 = get_anomaly_percent(mcp, 'A70 UC Hospital Chiller (B1)')\n",
    "mcp_anom2 = get_anomaly_percent(mcp, 'A70 UC Hospital Chiller (B2)')\n"
   ]
  },
  {
   "cell_type": "code",
   "execution_count": 339,
   "metadata": {},
   "outputs": [],
   "source": [
    "mcp_anom1.Date = pd.to_datetime(mcp_anom1.Date).dt.month\n",
    "mcp_anom2.Date = pd.to_datetime(mcp_anom2.Date).dt.month\n",
    "\n",
    "mcp_anom1 = mcp_anom1.groupby(by='Date').mean()\n",
    "mcp_anom2 = mcp_anom2.groupby(by='Date').mean()"
   ]
  },
  {
   "cell_type": "code",
   "execution_count": 340,
   "metadata": {},
   "outputs": [
    {
     "data": {
      "application/vnd.plotly.v1+json": {
       "data": [
        {
         "type": "bar",
         "x": [
          1,
          2,
          3,
          4,
          5,
          6,
          7,
          8,
          9,
          10,
          11,
          12
         ],
         "y": [
          4.274903221237213,
          6.779227625462905,
          12.062584360886852,
          17.059862855706246,
          16.148017211186165,
          18.508518415811487,
          13.497544010107259,
          16.8911431209683,
          20.587439950075442,
          18.33175303351028,
          18.463963550957438,
          12.648356571489638
         ]
        }
       ],
       "layout": {
        "title": "Medical Campus Parking (B1)",
        "xaxis": {
         "title": "Month"
        },
        "yaxis": {
         "title": "Percent Difference"
        }
       }
      },
      "text/html": [
       "<div id=\"bab8c464-6a67-488f-96a7-f22ba94fa4e6\" style=\"height: 525px; width: 100%;\" class=\"plotly-graph-div\"></div><script type=\"text/javascript\">require([\"plotly\"], function(Plotly) { window.PLOTLYENV=window.PLOTLYENV || {};window.PLOTLYENV.BASE_URL=\"https://plot.ly\";Plotly.newPlot(\"bab8c464-6a67-488f-96a7-f22ba94fa4e6\", [{\"type\": \"bar\", \"x\": [1, 2, 3, 4, 5, 6, 7, 8, 9, 10, 11, 12], \"y\": [4.274903221237213, 6.779227625462905, 12.062584360886852, 17.059862855706246, 16.148017211186165, 18.508518415811487, 13.497544010107259, 16.8911431209683, 20.587439950075442, 18.33175303351028, 18.463963550957438, 12.648356571489638]}], {\"title\": \"Medical Campus Parking (B1)\", \"xaxis\": {\"title\": \"Month\"}, \"yaxis\": {\"title\": \"Percent Difference\"}}, {\"showLink\": true, \"linkText\": \"Export to plot.ly\"})});</script>"
      ],
      "text/vnd.plotly.v1+html": [
       "<div id=\"bab8c464-6a67-488f-96a7-f22ba94fa4e6\" style=\"height: 525px; width: 100%;\" class=\"plotly-graph-div\"></div><script type=\"text/javascript\">require([\"plotly\"], function(Plotly) { window.PLOTLYENV=window.PLOTLYENV || {};window.PLOTLYENV.BASE_URL=\"https://plot.ly\";Plotly.newPlot(\"bab8c464-6a67-488f-96a7-f22ba94fa4e6\", [{\"type\": \"bar\", \"x\": [1, 2, 3, 4, 5, 6, 7, 8, 9, 10, 11, 12], \"y\": [4.274903221237213, 6.779227625462905, 12.062584360886852, 17.059862855706246, 16.148017211186165, 18.508518415811487, 13.497544010107259, 16.8911431209683, 20.587439950075442, 18.33175303351028, 18.463963550957438, 12.648356571489638]}], {\"title\": \"Medical Campus Parking (B1)\", \"xaxis\": {\"title\": \"Month\"}, \"yaxis\": {\"title\": \"Percent Difference\"}}, {\"showLink\": true, \"linkText\": \"Export to plot.ly\"})});</script>"
      ]
     },
     "metadata": {},
     "output_type": "display_data"
    },
    {
     "data": {
      "application/vnd.plotly.v1+json": {
       "data": [
        {
         "type": "bar",
         "x": [
          1,
          2,
          3,
          4,
          5,
          6,
          7,
          8,
          9,
          10,
          11,
          12
         ],
         "y": [
          3.914105760401809,
          15.170665926959174,
          26.292786852567662,
          33.21446249885493,
          14.600982204133654,
          7.125902164677925,
          7.1108876741675715,
          9.339584288252512,
          8.869495253388727,
          19.490563490047194,
          36.507727674041156,
          30.513161394414414
         ]
        }
       ],
       "layout": {
        "title": "Medical Campus Parking (B2)",
        "xaxis": {
         "title": "Month"
        },
        "yaxis": {
         "title": "Percent Difference"
        }
       }
      },
      "text/html": [
       "<div id=\"cb38a782-52b3-4f64-a748-f2cd86a01099\" style=\"height: 525px; width: 100%;\" class=\"plotly-graph-div\"></div><script type=\"text/javascript\">require([\"plotly\"], function(Plotly) { window.PLOTLYENV=window.PLOTLYENV || {};window.PLOTLYENV.BASE_URL=\"https://plot.ly\";Plotly.newPlot(\"cb38a782-52b3-4f64-a748-f2cd86a01099\", [{\"type\": \"bar\", \"x\": [1, 2, 3, 4, 5, 6, 7, 8, 9, 10, 11, 12], \"y\": [3.914105760401809, 15.170665926959174, 26.292786852567662, 33.21446249885493, 14.600982204133654, 7.125902164677925, 7.1108876741675715, 9.339584288252512, 8.869495253388727, 19.490563490047194, 36.507727674041156, 30.513161394414414]}], {\"title\": \"Medical Campus Parking (B2)\", \"xaxis\": {\"title\": \"Month\"}, \"yaxis\": {\"title\": \"Percent Difference\"}}, {\"showLink\": true, \"linkText\": \"Export to plot.ly\"})});</script>"
      ],
      "text/vnd.plotly.v1+html": [
       "<div id=\"cb38a782-52b3-4f64-a748-f2cd86a01099\" style=\"height: 525px; width: 100%;\" class=\"plotly-graph-div\"></div><script type=\"text/javascript\">require([\"plotly\"], function(Plotly) { window.PLOTLYENV=window.PLOTLYENV || {};window.PLOTLYENV.BASE_URL=\"https://plot.ly\";Plotly.newPlot(\"cb38a782-52b3-4f64-a748-f2cd86a01099\", [{\"type\": \"bar\", \"x\": [1, 2, 3, 4, 5, 6, 7, 8, 9, 10, 11, 12], \"y\": [3.914105760401809, 15.170665926959174, 26.292786852567662, 33.21446249885493, 14.600982204133654, 7.125902164677925, 7.1108876741675715, 9.339584288252512, 8.869495253388727, 19.490563490047194, 36.507727674041156, 30.513161394414414]}], {\"title\": \"Medical Campus Parking (B2)\", \"xaxis\": {\"title\": \"Month\"}, \"yaxis\": {\"title\": \"Percent Difference\"}}, {\"showLink\": true, \"linkText\": \"Export to plot.ly\"})});</script>"
      ]
     },
     "metadata": {},
     "output_type": "display_data"
    }
   ],
   "source": [
    "mcpdata1 = [Bar(x=mcp_anom1.index, y=mcp_anom1['Percent Difference'])]\n",
    "layout1 = go.Layout(title='Medical Campus Parking (B1)', xaxis=dict(title='Month'), yaxis=dict(title='Percent Difference'))\n",
    "fig1 = go.Figure(data=mcpdata1, layout=layout1)\n",
    "iplot(fig1)\n",
    "\n",
    "mcpdata2 = [Bar(x=mcp_anom2.index, y=mcp_anom2['Percent Difference'])]\n",
    "layout2 = go.Layout(title='Medical Campus Parking (B2)', xaxis=dict(title='Month'), yaxis=dict(title='Percent Difference'))\n",
    "fig2 = go.Figure(data=mcpdata2, layout=layout2)\n",
    "iplot(fig2)"
   ]
  },
  {
   "cell_type": "markdown",
   "metadata": {},
   "source": [
    "### Franklin McLean Research Institute"
   ]
  },
  {
   "cell_type": "code",
   "execution_count": 343,
   "metadata": {},
   "outputs": [
    {
     "data": {
      "text/plain": [
       "array(['A19 Franklin Institute (B2)', 'A19 Franklin Institute (B3)',\n",
       "       'A19 Franklin Institute (U1)', 'A19 Franklin Institute (U2)',\n",
       "       'A19 Franklin Institute (U3)'], dtype=object)"
      ]
     },
     "execution_count": 343,
     "metadata": {},
     "output_type": "execute_result"
    }
   ],
   "source": [
    "fmrl = get_building_data('A19')\n",
    "fmrl.Meter.unique()"
   ]
  },
  {
   "cell_type": "code",
   "execution_count": 353,
   "metadata": {},
   "outputs": [
    {
     "name": "stderr",
     "output_type": "stream",
     "text": [
      "/Users/abisolaolawale/anaconda/lib/python3.6/site-packages/ipykernel_launcher.py:10: DeprecationWarning:\n",
      "\n",
      "\n",
      ".ix is deprecated. Please use\n",
      ".loc for label based indexing or\n",
      ".iloc for positional indexing\n",
      "\n",
      "See the documentation here:\n",
      "http://pandas.pydata.org/pandas-docs/stable/indexing.html#deprecate_ix\n",
      "\n"
     ]
    }
   ],
   "source": [
    "fmrl_anom1 = get_anomaly_percent(fmrl, 'A19 Franklin Institute (B3)')\n",
    "fmrl_anom2 = get_anomaly_percent(fmrl, 'A19 Franklin Institute (U1)')\n",
    "fmrl_anom3 = get_anomaly_percent(fmrl, 'A19 Franklin Institute (U2)')\n",
    "fmrl_anom4 = get_anomaly_percent(fmrl, 'A19 Franklin Institute (U3)')\n"
   ]
  },
  {
   "cell_type": "code",
   "execution_count": 354,
   "metadata": {},
   "outputs": [],
   "source": [
    "fmrl_anom1.Date = pd.to_datetime(fmrl_anom1.Date).dt.month\n",
    "fmrl_anom2.Date = pd.to_datetime(fmrl_anom2.Date).dt.month\n",
    "fmrl_anom3.Date = pd.to_datetime(fmrl_anom3.Date).dt.month\n",
    "fmrl_anom4.Date = pd.to_datetime(fmrl_anom4.Date).dt.month\n",
    "\n",
    "fmrl_anom1 = fmrl_anom1.groupby(by='Date').mean()\n",
    "fmrl_anom2 = fmrl_anom2.groupby(by='Date').mean()\n",
    "fmrl_anom3 = fmrl_anom3.groupby(by='Date').mean()\n",
    "fmrl_anom4 = fmrl_anom4.groupby(by='Date').mean()"
   ]
  },
  {
   "cell_type": "code",
   "execution_count": 357,
   "metadata": {
    "scrolled": false
   },
   "outputs": [
    {
     "data": {
      "application/vnd.plotly.v1+json": {
       "data": [
        {
         "type": "bar",
         "x": [
          1,
          2,
          3,
          4,
          5,
          6,
          7,
          8,
          9,
          10,
          11,
          12
         ],
         "y": [
          3.434364023026421,
          3.0535257234883986,
          3.6885681588920187,
          4.261309883535196,
          3.2501864330357177,
          2.8358513757813304,
          2.3901794086851327,
          2.518356112024702,
          2.7285790532036316,
          2.765283777942996,
          2.5813043074132898,
          2.527014073000688
         ]
        }
       ],
       "layout": {
        "title": "A19 Franklin Institute (B3)",
        "xaxis": {
         "title": "Month"
        },
        "yaxis": {
         "title": "Percent Difference"
        }
       }
      },
      "text/html": [
       "<div id=\"8fb54308-4520-4a59-8f35-cb913a19cb4b\" style=\"height: 525px; width: 100%;\" class=\"plotly-graph-div\"></div><script type=\"text/javascript\">require([\"plotly\"], function(Plotly) { window.PLOTLYENV=window.PLOTLYENV || {};window.PLOTLYENV.BASE_URL=\"https://plot.ly\";Plotly.newPlot(\"8fb54308-4520-4a59-8f35-cb913a19cb4b\", [{\"type\": \"bar\", \"x\": [1, 2, 3, 4, 5, 6, 7, 8, 9, 10, 11, 12], \"y\": [3.434364023026421, 3.0535257234883986, 3.6885681588920187, 4.261309883535196, 3.2501864330357177, 2.8358513757813304, 2.3901794086851327, 2.518356112024702, 2.7285790532036316, 2.765283777942996, 2.5813043074132898, 2.527014073000688]}], {\"title\": \"A19 Franklin Institute (B3)\", \"xaxis\": {\"title\": \"Month\"}, \"yaxis\": {\"title\": \"Percent Difference\"}}, {\"showLink\": true, \"linkText\": \"Export to plot.ly\"})});</script>"
      ],
      "text/vnd.plotly.v1+html": [
       "<div id=\"8fb54308-4520-4a59-8f35-cb913a19cb4b\" style=\"height: 525px; width: 100%;\" class=\"plotly-graph-div\"></div><script type=\"text/javascript\">require([\"plotly\"], function(Plotly) { window.PLOTLYENV=window.PLOTLYENV || {};window.PLOTLYENV.BASE_URL=\"https://plot.ly\";Plotly.newPlot(\"8fb54308-4520-4a59-8f35-cb913a19cb4b\", [{\"type\": \"bar\", \"x\": [1, 2, 3, 4, 5, 6, 7, 8, 9, 10, 11, 12], \"y\": [3.434364023026421, 3.0535257234883986, 3.6885681588920187, 4.261309883535196, 3.2501864330357177, 2.8358513757813304, 2.3901794086851327, 2.518356112024702, 2.7285790532036316, 2.765283777942996, 2.5813043074132898, 2.527014073000688]}], {\"title\": \"A19 Franklin Institute (B3)\", \"xaxis\": {\"title\": \"Month\"}, \"yaxis\": {\"title\": \"Percent Difference\"}}, {\"showLink\": true, \"linkText\": \"Export to plot.ly\"})});</script>"
      ]
     },
     "metadata": {},
     "output_type": "display_data"
    },
    {
     "data": {
      "application/vnd.plotly.v1+json": {
       "data": [
        {
         "type": "bar",
         "x": [
          1,
          2,
          3,
          4,
          5,
          6,
          7,
          8,
          9,
          10,
          11,
          12
         ],
         "y": [
          5.803699299209838,
          4.329086113851088,
          3.2152557922420675,
          3.7506979625722523,
          5.336479527296431,
          3.4740544292700224,
          3.547889450863307,
          3.8124257778066624,
          3.130363724791322,
          3.8686674188128753,
          4.2578096050747725,
          3.9000192369351714
         ]
        }
       ],
       "layout": {
        "title": "A19 Franklin Institute (U1)",
        "xaxis": {
         "title": "Month"
        },
        "yaxis": {
         "title": "Percent Difference"
        }
       }
      },
      "text/html": [
       "<div id=\"99410da1-0e69-4fda-9990-85150062bdec\" style=\"height: 525px; width: 100%;\" class=\"plotly-graph-div\"></div><script type=\"text/javascript\">require([\"plotly\"], function(Plotly) { window.PLOTLYENV=window.PLOTLYENV || {};window.PLOTLYENV.BASE_URL=\"https://plot.ly\";Plotly.newPlot(\"99410da1-0e69-4fda-9990-85150062bdec\", [{\"type\": \"bar\", \"x\": [1, 2, 3, 4, 5, 6, 7, 8, 9, 10, 11, 12], \"y\": [5.803699299209838, 4.329086113851088, 3.2152557922420675, 3.7506979625722523, 5.336479527296431, 3.4740544292700224, 3.547889450863307, 3.8124257778066624, 3.130363724791322, 3.8686674188128753, 4.2578096050747725, 3.9000192369351714]}], {\"title\": \"A19 Franklin Institute (U1)\", \"xaxis\": {\"title\": \"Month\"}, \"yaxis\": {\"title\": \"Percent Difference\"}}, {\"showLink\": true, \"linkText\": \"Export to plot.ly\"})});</script>"
      ],
      "text/vnd.plotly.v1+html": [
       "<div id=\"99410da1-0e69-4fda-9990-85150062bdec\" style=\"height: 525px; width: 100%;\" class=\"plotly-graph-div\"></div><script type=\"text/javascript\">require([\"plotly\"], function(Plotly) { window.PLOTLYENV=window.PLOTLYENV || {};window.PLOTLYENV.BASE_URL=\"https://plot.ly\";Plotly.newPlot(\"99410da1-0e69-4fda-9990-85150062bdec\", [{\"type\": \"bar\", \"x\": [1, 2, 3, 4, 5, 6, 7, 8, 9, 10, 11, 12], \"y\": [5.803699299209838, 4.329086113851088, 3.2152557922420675, 3.7506979625722523, 5.336479527296431, 3.4740544292700224, 3.547889450863307, 3.8124257778066624, 3.130363724791322, 3.8686674188128753, 4.2578096050747725, 3.9000192369351714]}], {\"title\": \"A19 Franklin Institute (U1)\", \"xaxis\": {\"title\": \"Month\"}, \"yaxis\": {\"title\": \"Percent Difference\"}}, {\"showLink\": true, \"linkText\": \"Export to plot.ly\"})});</script>"
      ]
     },
     "metadata": {},
     "output_type": "display_data"
    },
    {
     "data": {
      "application/vnd.plotly.v1+json": {
       "data": [
        {
         "type": "bar",
         "x": [
          1,
          2,
          3,
          4,
          5,
          6,
          7,
          8,
          9,
          10,
          11,
          12
         ],
         "y": [
          4.940282280765437,
          4.515400704088303,
          1.9307344781169697,
          1.6532101755009456,
          2.0753368743193197,
          2.2114560751074896,
          2.0905770336818428,
          1.9260371357837227,
          1.6583929559976727,
          1.6999886902059091,
          5.781864540585243,
          4.941289941331457
         ]
        }
       ],
       "layout": {
        "title": "A19 Franklin Institute (U2)",
        "xaxis": {
         "title": "Month"
        },
        "yaxis": {
         "title": "Percent Difference"
        }
       }
      },
      "text/html": [
       "<div id=\"cdd26912-7b8b-437f-82fb-7ecfde26c85c\" style=\"height: 525px; width: 100%;\" class=\"plotly-graph-div\"></div><script type=\"text/javascript\">require([\"plotly\"], function(Plotly) { window.PLOTLYENV=window.PLOTLYENV || {};window.PLOTLYENV.BASE_URL=\"https://plot.ly\";Plotly.newPlot(\"cdd26912-7b8b-437f-82fb-7ecfde26c85c\", [{\"type\": \"bar\", \"x\": [1, 2, 3, 4, 5, 6, 7, 8, 9, 10, 11, 12], \"y\": [4.940282280765437, 4.515400704088303, 1.9307344781169697, 1.6532101755009456, 2.0753368743193197, 2.2114560751074896, 2.0905770336818428, 1.9260371357837227, 1.6583929559976727, 1.6999886902059091, 5.781864540585243, 4.941289941331457]}], {\"title\": \"A19 Franklin Institute (U2)\", \"xaxis\": {\"title\": \"Month\"}, \"yaxis\": {\"title\": \"Percent Difference\"}}, {\"showLink\": true, \"linkText\": \"Export to plot.ly\"})});</script>"
      ],
      "text/vnd.plotly.v1+html": [
       "<div id=\"cdd26912-7b8b-437f-82fb-7ecfde26c85c\" style=\"height: 525px; width: 100%;\" class=\"plotly-graph-div\"></div><script type=\"text/javascript\">require([\"plotly\"], function(Plotly) { window.PLOTLYENV=window.PLOTLYENV || {};window.PLOTLYENV.BASE_URL=\"https://plot.ly\";Plotly.newPlot(\"cdd26912-7b8b-437f-82fb-7ecfde26c85c\", [{\"type\": \"bar\", \"x\": [1, 2, 3, 4, 5, 6, 7, 8, 9, 10, 11, 12], \"y\": [4.940282280765437, 4.515400704088303, 1.9307344781169697, 1.6532101755009456, 2.0753368743193197, 2.2114560751074896, 2.0905770336818428, 1.9260371357837227, 1.6583929559976727, 1.6999886902059091, 5.781864540585243, 4.941289941331457]}], {\"title\": \"A19 Franklin Institute (U2)\", \"xaxis\": {\"title\": \"Month\"}, \"yaxis\": {\"title\": \"Percent Difference\"}}, {\"showLink\": true, \"linkText\": \"Export to plot.ly\"})});</script>"
      ]
     },
     "metadata": {},
     "output_type": "display_data"
    },
    {
     "data": {
      "application/vnd.plotly.v1+json": {
       "data": [
        {
         "type": "bar",
         "x": [
          1,
          2,
          3,
          4,
          5,
          6,
          7,
          8,
          9,
          10,
          11,
          12
         ],
         "y": [
          4.465729466959947,
          4.318617504835562,
          7.21755023855068,
          5.9045394271937965,
          2.5560388149162057,
          2.069159992778486,
          2.133830178756123,
          2.2334350577957296,
          2.2357533436398973,
          6.5597601827752365,
          2.350675795054161,
          2.945979345396568
         ]
        }
       ],
       "layout": {
        "title": "A19 Franklin Institute (U3)",
        "xaxis": {
         "title": "Month"
        },
        "yaxis": {
         "title": "Percent Difference"
        }
       }
      },
      "text/html": [
       "<div id=\"630d8314-4b5a-4c28-b545-c9a1d67c0a1c\" style=\"height: 525px; width: 100%;\" class=\"plotly-graph-div\"></div><script type=\"text/javascript\">require([\"plotly\"], function(Plotly) { window.PLOTLYENV=window.PLOTLYENV || {};window.PLOTLYENV.BASE_URL=\"https://plot.ly\";Plotly.newPlot(\"630d8314-4b5a-4c28-b545-c9a1d67c0a1c\", [{\"type\": \"bar\", \"x\": [1, 2, 3, 4, 5, 6, 7, 8, 9, 10, 11, 12], \"y\": [4.465729466959947, 4.318617504835562, 7.21755023855068, 5.9045394271937965, 2.5560388149162057, 2.069159992778486, 2.133830178756123, 2.2334350577957296, 2.2357533436398973, 6.5597601827752365, 2.350675795054161, 2.945979345396568]}], {\"title\": \"A19 Franklin Institute (U3)\", \"xaxis\": {\"title\": \"Month\"}, \"yaxis\": {\"title\": \"Percent Difference\"}}, {\"showLink\": true, \"linkText\": \"Export to plot.ly\"})});</script>"
      ],
      "text/vnd.plotly.v1+html": [
       "<div id=\"630d8314-4b5a-4c28-b545-c9a1d67c0a1c\" style=\"height: 525px; width: 100%;\" class=\"plotly-graph-div\"></div><script type=\"text/javascript\">require([\"plotly\"], function(Plotly) { window.PLOTLYENV=window.PLOTLYENV || {};window.PLOTLYENV.BASE_URL=\"https://plot.ly\";Plotly.newPlot(\"630d8314-4b5a-4c28-b545-c9a1d67c0a1c\", [{\"type\": \"bar\", \"x\": [1, 2, 3, 4, 5, 6, 7, 8, 9, 10, 11, 12], \"y\": [4.465729466959947, 4.318617504835562, 7.21755023855068, 5.9045394271937965, 2.5560388149162057, 2.069159992778486, 2.133830178756123, 2.2334350577957296, 2.2357533436398973, 6.5597601827752365, 2.350675795054161, 2.945979345396568]}], {\"title\": \"A19 Franklin Institute (U3)\", \"xaxis\": {\"title\": \"Month\"}, \"yaxis\": {\"title\": \"Percent Difference\"}}, {\"showLink\": true, \"linkText\": \"Export to plot.ly\"})});</script>"
      ]
     },
     "metadata": {},
     "output_type": "display_data"
    }
   ],
   "source": [
    "fmrldata1 = [Bar(x=fmrl_anom1.index, y=fmrl_anom1['Percent Difference'])]\n",
    "layout1 = go.Layout(title='A19 Franklin Institute (B3)', xaxis=dict(title='Month'), yaxis=dict(title='Percent Difference'))\n",
    "fig1 = go.Figure(data=fmrldata1, layout=layout1)\n",
    "iplot(fig1)\n",
    "\n",
    "fmrldata2 = [Bar(x=fmrl_anom2.index, y=fmrl_anom2['Percent Difference'])]\n",
    "layout2 = go.Layout(title='A19 Franklin Institute (U1)', xaxis=dict(title='Month'), yaxis=dict(title='Percent Difference'))\n",
    "fig2 = go.Figure(data=fmrldata2, layout=layout2)\n",
    "iplot(fig2)\n",
    "\n",
    "fmrldata3 = [Bar(x=fmrl_anom3.index, y=fmrl_anom3['Percent Difference'])]\n",
    "layout3 = go.Layout(title='A19 Franklin Institute (U2)', xaxis=dict(title='Month'), yaxis=dict(title='Percent Difference'))\n",
    "fig3 = go.Figure(data=fmrldata3, layout=layout3)\n",
    "iplot(fig3)\n",
    "\n",
    "fmrldata4 = [Bar(x=fmrl_anom4.index, y=fmrl_anom4['Percent Difference'])]\n",
    "layout4 = go.Layout(title='A19 Franklin Institute (U3)', xaxis=dict(title='Month'), yaxis=dict(title='Percent Difference'))\n",
    "fig4 = go.Figure(data=fmrldata4, layout=layout4)\n",
    "iplot(fig4)\n"
   ]
  },
  {
   "cell_type": "markdown",
   "metadata": {},
   "source": [
    "### Hinds Lab"
   ]
  },
  {
   "cell_type": "code",
   "execution_count": 359,
   "metadata": {},
   "outputs": [
    {
     "data": {
      "text/plain": [
       "array(['A08 Hinds Laboratories (R1)', 'A08 Hinds Laboratories (B2)',\n",
       "       'A08 Hinds Laboratories (B1)', 'A08 Hinds Laboratories (U1)',\n",
       "       'A08 Hinds Laboratories (U2)'], dtype=object)"
      ]
     },
     "execution_count": 359,
     "metadata": {},
     "output_type": "execute_result"
    }
   ],
   "source": [
    "hinds = get_building_data('A08')\n",
    "hinds.Meter.unique()"
   ]
  },
  {
   "cell_type": "code",
   "execution_count": 370,
   "metadata": {},
   "outputs": [
    {
     "name": "stderr",
     "output_type": "stream",
     "text": [
      "/Users/abisolaolawale/anaconda/lib/python3.6/site-packages/ipykernel_launcher.py:10: DeprecationWarning:\n",
      "\n",
      "\n",
      ".ix is deprecated. Please use\n",
      ".loc for label based indexing or\n",
      ".iloc for positional indexing\n",
      "\n",
      "See the documentation here:\n",
      "http://pandas.pydata.org/pandas-docs/stable/indexing.html#deprecate_ix\n",
      "\n"
     ]
    }
   ],
   "source": [
    "hinds_anom1 = get_anomaly_percent(hinds, 'A08 Hinds Laboratories (B2)')\n",
    "hinds_anom2 = get_anomaly_percent(hinds, 'A08 Hinds Laboratories (B1)')\n",
    "hinds_anom3 = get_anomaly_percent(hinds, 'A08 Hinds Laboratories (U1)')\n",
    "hinds_anom4 = get_anomaly_percent(hinds, 'A08 Hinds Laboratories (U2)')"
   ]
  },
  {
   "cell_type": "code",
   "execution_count": 371,
   "metadata": {},
   "outputs": [],
   "source": [
    "hinds_anom1.Date = pd.to_datetime(hinds_anom1.Date).dt.month\n",
    "hinds_anom2.Date = pd.to_datetime(hinds_anom2.Date).dt.month\n",
    "hinds_anom3.Date = pd.to_datetime(hinds_anom3.Date).dt.month\n",
    "hinds_anom4.Date = pd.to_datetime(hinds_anom4.Date).dt.month\n",
    "\n",
    "hinds_anom1 = hinds_anom1.groupby(by='Date').mean()\n",
    "hinds_anom2 = hinds_anom2.groupby(by='Date').mean()\n",
    "hinds_anom3 = hinds_anom3.groupby(by='Date').mean()\n",
    "hinds_anom4 = hinds_anom4.groupby(by='Date').mean()"
   ]
  },
  {
   "cell_type": "code",
   "execution_count": 373,
   "metadata": {
    "scrolled": false
   },
   "outputs": [
    {
     "data": {
      "application/vnd.plotly.v1+json": {
       "data": [
        {
         "type": "bar",
         "x": [
          1,
          2,
          3,
          4,
          5,
          6,
          7,
          8,
          9,
          10,
          11,
          12
         ],
         "y": [
          1.7908016461985201,
          1.3954790639192736,
          2.576790601657249,
          2.6464254839961825,
          1.5706220545712588,
          2.0506556958521225,
          1.2695650948259865,
          0.8527522261535558,
          1.7340514649599539,
          1.50271720282322,
          1.9604217333166005,
          2.5135860055512453
         ]
        }
       ],
       "layout": {
        "title": "Hinds Laboratory (B2)",
        "xaxis": {
         "title": "Month"
        },
        "yaxis": {
         "title": "Percent Difference"
        }
       }
      },
      "text/html": [
       "<div id=\"4cae0e5e-c043-412a-b226-434219071a79\" style=\"height: 525px; width: 100%;\" class=\"plotly-graph-div\"></div><script type=\"text/javascript\">require([\"plotly\"], function(Plotly) { window.PLOTLYENV=window.PLOTLYENV || {};window.PLOTLYENV.BASE_URL=\"https://plot.ly\";Plotly.newPlot(\"4cae0e5e-c043-412a-b226-434219071a79\", [{\"type\": \"bar\", \"x\": [1, 2, 3, 4, 5, 6, 7, 8, 9, 10, 11, 12], \"y\": [1.7908016461985201, 1.3954790639192736, 2.576790601657249, 2.6464254839961825, 1.5706220545712588, 2.0506556958521225, 1.2695650948259865, 0.8527522261535558, 1.7340514649599539, 1.50271720282322, 1.9604217333166005, 2.5135860055512453]}], {\"title\": \"Hinds Laboratory (B2)\", \"xaxis\": {\"title\": \"Month\"}, \"yaxis\": {\"title\": \"Percent Difference\"}}, {\"showLink\": true, \"linkText\": \"Export to plot.ly\"})});</script>"
      ],
      "text/vnd.plotly.v1+html": [
       "<div id=\"4cae0e5e-c043-412a-b226-434219071a79\" style=\"height: 525px; width: 100%;\" class=\"plotly-graph-div\"></div><script type=\"text/javascript\">require([\"plotly\"], function(Plotly) { window.PLOTLYENV=window.PLOTLYENV || {};window.PLOTLYENV.BASE_URL=\"https://plot.ly\";Plotly.newPlot(\"4cae0e5e-c043-412a-b226-434219071a79\", [{\"type\": \"bar\", \"x\": [1, 2, 3, 4, 5, 6, 7, 8, 9, 10, 11, 12], \"y\": [1.7908016461985201, 1.3954790639192736, 2.576790601657249, 2.6464254839961825, 1.5706220545712588, 2.0506556958521225, 1.2695650948259865, 0.8527522261535558, 1.7340514649599539, 1.50271720282322, 1.9604217333166005, 2.5135860055512453]}], {\"title\": \"Hinds Laboratory (B2)\", \"xaxis\": {\"title\": \"Month\"}, \"yaxis\": {\"title\": \"Percent Difference\"}}, {\"showLink\": true, \"linkText\": \"Export to plot.ly\"})});</script>"
      ]
     },
     "metadata": {},
     "output_type": "display_data"
    },
    {
     "data": {
      "application/vnd.plotly.v1+json": {
       "data": [
        {
         "type": "bar",
         "x": [
          1,
          2,
          3,
          4,
          5,
          6,
          7,
          8,
          9,
          10,
          11,
          12
         ],
         "y": [
          null,
          null,
          null,
          455.53426267162627,
          94.31487486026951,
          277.04065429862186,
          201.57952944044837,
          98.14164740822122,
          620.903011966073,
          445.9536643887094,
          null,
          null
         ]
        }
       ],
       "layout": {
        "title": "Hinds Laboratory (B1)",
        "xaxis": {
         "title": "Month"
        },
        "yaxis": {
         "title": "Percent Difference"
        }
       }
      },
      "text/html": [
       "<div id=\"0c7bb67e-2315-4ae9-8d16-45c0ac579793\" style=\"height: 525px; width: 100%;\" class=\"plotly-graph-div\"></div><script type=\"text/javascript\">require([\"plotly\"], function(Plotly) { window.PLOTLYENV=window.PLOTLYENV || {};window.PLOTLYENV.BASE_URL=\"https://plot.ly\";Plotly.newPlot(\"0c7bb67e-2315-4ae9-8d16-45c0ac579793\", [{\"type\": \"bar\", \"x\": [1, 2, 3, 4, 5, 6, 7, 8, 9, 10, 11, 12], \"y\": [null, null, null, 455.53426267162627, 94.31487486026951, 277.04065429862186, 201.57952944044837, 98.14164740822122, 620.903011966073, 445.9536643887094, null, null]}], {\"title\": \"Hinds Laboratory (B1)\", \"xaxis\": {\"title\": \"Month\"}, \"yaxis\": {\"title\": \"Percent Difference\"}}, {\"showLink\": true, \"linkText\": \"Export to plot.ly\"})});</script>"
      ],
      "text/vnd.plotly.v1+html": [
       "<div id=\"0c7bb67e-2315-4ae9-8d16-45c0ac579793\" style=\"height: 525px; width: 100%;\" class=\"plotly-graph-div\"></div><script type=\"text/javascript\">require([\"plotly\"], function(Plotly) { window.PLOTLYENV=window.PLOTLYENV || {};window.PLOTLYENV.BASE_URL=\"https://plot.ly\";Plotly.newPlot(\"0c7bb67e-2315-4ae9-8d16-45c0ac579793\", [{\"type\": \"bar\", \"x\": [1, 2, 3, 4, 5, 6, 7, 8, 9, 10, 11, 12], \"y\": [null, null, null, 455.53426267162627, 94.31487486026951, 277.04065429862186, 201.57952944044837, 98.14164740822122, 620.903011966073, 445.9536643887094, null, null]}], {\"title\": \"Hinds Laboratory (B1)\", \"xaxis\": {\"title\": \"Month\"}, \"yaxis\": {\"title\": \"Percent Difference\"}}, {\"showLink\": true, \"linkText\": \"Export to plot.ly\"})});</script>"
      ]
     },
     "metadata": {},
     "output_type": "display_data"
    },
    {
     "data": {
      "application/vnd.plotly.v1+json": {
       "data": [
        {
         "type": "bar",
         "x": [
          1,
          2,
          3,
          4,
          5,
          6,
          7,
          8,
          9,
          10,
          11,
          12
         ],
         "y": [
          1.3972934611631171,
          1.6313246277427043,
          1.3764159726019929,
          2.3232626145945576,
          7.828396715139026,
          5.891811713782479,
          9.108514808649804,
          10.330140005122054,
          7.288933892357843,
          3.393934831932934,
          1.3211535951553877,
          1.8563826484574748
         ]
        }
       ],
       "layout": {
        "title": "Hinds Laboratory (U1)",
        "xaxis": {
         "title": "Month"
        },
        "yaxis": {
         "title": "Percent Difference"
        }
       }
      },
      "text/html": [
       "<div id=\"f435ddc0-ea27-440b-9c83-07040a335140\" style=\"height: 525px; width: 100%;\" class=\"plotly-graph-div\"></div><script type=\"text/javascript\">require([\"plotly\"], function(Plotly) { window.PLOTLYENV=window.PLOTLYENV || {};window.PLOTLYENV.BASE_URL=\"https://plot.ly\";Plotly.newPlot(\"f435ddc0-ea27-440b-9c83-07040a335140\", [{\"type\": \"bar\", \"x\": [1, 2, 3, 4, 5, 6, 7, 8, 9, 10, 11, 12], \"y\": [1.3972934611631171, 1.6313246277427043, 1.3764159726019929, 2.3232626145945576, 7.828396715139026, 5.891811713782479, 9.108514808649804, 10.330140005122054, 7.288933892357843, 3.393934831932934, 1.3211535951553877, 1.8563826484574748]}], {\"title\": \"Hinds Laboratory (U1)\", \"xaxis\": {\"title\": \"Month\"}, \"yaxis\": {\"title\": \"Percent Difference\"}}, {\"showLink\": true, \"linkText\": \"Export to plot.ly\"})});</script>"
      ],
      "text/vnd.plotly.v1+html": [
       "<div id=\"f435ddc0-ea27-440b-9c83-07040a335140\" style=\"height: 525px; width: 100%;\" class=\"plotly-graph-div\"></div><script type=\"text/javascript\">require([\"plotly\"], function(Plotly) { window.PLOTLYENV=window.PLOTLYENV || {};window.PLOTLYENV.BASE_URL=\"https://plot.ly\";Plotly.newPlot(\"f435ddc0-ea27-440b-9c83-07040a335140\", [{\"type\": \"bar\", \"x\": [1, 2, 3, 4, 5, 6, 7, 8, 9, 10, 11, 12], \"y\": [1.3972934611631171, 1.6313246277427043, 1.3764159726019929, 2.3232626145945576, 7.828396715139026, 5.891811713782479, 9.108514808649804, 10.330140005122054, 7.288933892357843, 3.393934831932934, 1.3211535951553877, 1.8563826484574748]}], {\"title\": \"Hinds Laboratory (U1)\", \"xaxis\": {\"title\": \"Month\"}, \"yaxis\": {\"title\": \"Percent Difference\"}}, {\"showLink\": true, \"linkText\": \"Export to plot.ly\"})});</script>"
      ]
     },
     "metadata": {},
     "output_type": "display_data"
    },
    {
     "data": {
      "application/vnd.plotly.v1+json": {
       "data": [
        {
         "type": "bar",
         "x": [
          1,
          2,
          3,
          4,
          5,
          6,
          7,
          8,
          9,
          10,
          11,
          12
         ],
         "y": [
          9.649217293121604,
          8.975639896687511,
          9.449970155397756,
          9.402237794632645,
          9.186559587725563,
          8.058669864585953,
          6.734122633889563,
          6.7295400505007335,
          9.063551775865058,
          8.811687165208232,
          9.838409535554593,
          11.171299177404034
         ]
        }
       ],
       "layout": {
        "title": "Hinds Laboratory (U3)",
        "xaxis": {
         "title": "Month"
        },
        "yaxis": {
         "title": "Percent Difference"
        }
       }
      },
      "text/html": [
       "<div id=\"07423282-f7e4-47f6-a27a-1a1d4d98aecc\" style=\"height: 525px; width: 100%;\" class=\"plotly-graph-div\"></div><script type=\"text/javascript\">require([\"plotly\"], function(Plotly) { window.PLOTLYENV=window.PLOTLYENV || {};window.PLOTLYENV.BASE_URL=\"https://plot.ly\";Plotly.newPlot(\"07423282-f7e4-47f6-a27a-1a1d4d98aecc\", [{\"type\": \"bar\", \"x\": [1, 2, 3, 4, 5, 6, 7, 8, 9, 10, 11, 12], \"y\": [9.649217293121604, 8.975639896687511, 9.449970155397756, 9.402237794632645, 9.186559587725563, 8.058669864585953, 6.734122633889563, 6.7295400505007335, 9.063551775865058, 8.811687165208232, 9.838409535554593, 11.171299177404034]}], {\"title\": \"Hinds Laboratory (U3)\", \"xaxis\": {\"title\": \"Month\"}, \"yaxis\": {\"title\": \"Percent Difference\"}}, {\"showLink\": true, \"linkText\": \"Export to plot.ly\"})});</script>"
      ],
      "text/vnd.plotly.v1+html": [
       "<div id=\"07423282-f7e4-47f6-a27a-1a1d4d98aecc\" style=\"height: 525px; width: 100%;\" class=\"plotly-graph-div\"></div><script type=\"text/javascript\">require([\"plotly\"], function(Plotly) { window.PLOTLYENV=window.PLOTLYENV || {};window.PLOTLYENV.BASE_URL=\"https://plot.ly\";Plotly.newPlot(\"07423282-f7e4-47f6-a27a-1a1d4d98aecc\", [{\"type\": \"bar\", \"x\": [1, 2, 3, 4, 5, 6, 7, 8, 9, 10, 11, 12], \"y\": [9.649217293121604, 8.975639896687511, 9.449970155397756, 9.402237794632645, 9.186559587725563, 8.058669864585953, 6.734122633889563, 6.7295400505007335, 9.063551775865058, 8.811687165208232, 9.838409535554593, 11.171299177404034]}], {\"title\": \"Hinds Laboratory (U3)\", \"xaxis\": {\"title\": \"Month\"}, \"yaxis\": {\"title\": \"Percent Difference\"}}, {\"showLink\": true, \"linkText\": \"Export to plot.ly\"})});</script>"
      ]
     },
     "metadata": {},
     "output_type": "display_data"
    }
   ],
   "source": [
    "hindsdata1 = [Bar(x=hinds_anom1.index, y=hinds_anom1['Percent Difference'])]\n",
    "layout1 = go.Layout(title='Hinds Laboratory (B2)', xaxis=dict(title='Month'), yaxis=dict(title='Percent Difference'))\n",
    "fig1 = go.Figure(data=hindsdata1, layout=layout1)\n",
    "iplot(fig1)\n",
    "\n",
    "hindsdata2 = [Bar(x=hinds_anom2.index, y=hinds_anom2['Percent Difference'])]\n",
    "layout2 = go.Layout(title='Hinds Laboratory (B1)', xaxis=dict(title='Month'), yaxis=dict(title='Percent Difference'))\n",
    "fig2 = go.Figure(data=hindsdata2, layout=layout2)\n",
    "iplot(fig2)\n",
    "\n",
    "hindsdata3 = [Bar(x=hinds_anom3.index, y=hinds_anom3['Percent Difference'])]\n",
    "layout3 = go.Layout(title='Hinds Laboratory (U1)', xaxis=dict(title='Month'), yaxis=dict(title='Percent Difference'))\n",
    "fig3 = go.Figure(data=hindsdata3, layout=layout3)\n",
    "iplot(fig3)\n",
    "\n",
    "hindsdata4 = [Bar(x=hinds_anom4.index, y=hinds_anom4['Percent Difference'])]\n",
    "layout4 = go.Layout(title='Hinds Laboratory (U3)', xaxis=dict(title='Month'), yaxis=dict(title='Percent Difference'))\n",
    "fig4 = go.Figure(data=hindsdata4, layout=layout4)\n",
    "iplot(fig4)\n",
    "\n"
   ]
  },
  {
   "cell_type": "markdown",
   "metadata": {},
   "source": [
    "### Kovler Lab"
   ]
  },
  {
   "cell_type": "code",
   "execution_count": 384,
   "metadata": {},
   "outputs": [
    {
     "data": {
      "text/plain": [
       "array(['A11 Kovler Laboratories (B1)'], dtype=object)"
      ]
     },
     "execution_count": 384,
     "metadata": {},
     "output_type": "execute_result"
    }
   ],
   "source": [
    "kovler = get_building_data('A11')\n",
    "kovler.Meter.unique()"
   ]
  },
  {
   "cell_type": "code",
   "execution_count": 385,
   "metadata": {},
   "outputs": [
    {
     "name": "stderr",
     "output_type": "stream",
     "text": [
      "/Users/abisolaolawale/anaconda/lib/python3.6/site-packages/ipykernel_launcher.py:10: DeprecationWarning:\n",
      "\n",
      "\n",
      ".ix is deprecated. Please use\n",
      ".loc for label based indexing or\n",
      ".iloc for positional indexing\n",
      "\n",
      "See the documentation here:\n",
      "http://pandas.pydata.org/pandas-docs/stable/indexing.html#deprecate_ix\n",
      "\n"
     ]
    }
   ],
   "source": [
    "kovler_anom = get_anomaly_percent(kovler, 'A11 Kovler Laboratories (B1)')"
   ]
  },
  {
   "cell_type": "code",
   "execution_count": 386,
   "metadata": {
    "collapsed": true
   },
   "outputs": [],
   "source": [
    "kovler_anom.Date = pd.to_datetime(kovler_anom.Date).dt.month\n",
    "kovler_anom = kovler_anom.groupby(by='Date').mean()"
   ]
  },
  {
   "cell_type": "code",
   "execution_count": 387,
   "metadata": {},
   "outputs": [
    {
     "data": {
      "application/vnd.plotly.v1+json": {
       "data": [
        {
         "type": "bar",
         "x": [
          1,
          2,
          3,
          4,
          5,
          6,
          7,
          8,
          9,
          10,
          11,
          12
         ],
         "y": [
          6.397090934951766,
          6.861110322819755,
          5.2718028303312385,
          1.84584447354947,
          1.3590298550838749,
          1.278923757542862,
          1.44003339569084,
          1.3108942672397819,
          1.5749493089893556,
          1.5932481339915483,
          1.3693049219311848,
          1.6237152749975485
         ]
        }
       ],
       "layout": {
        "title": "Kovler Laboratories (B1)",
        "xaxis": {
         "title": "Month"
        },
        "yaxis": {
         "title": "Percent Difference"
        }
       }
      },
      "text/html": [
       "<div id=\"51d1bc1e-55e5-4715-8da9-035129cafe54\" style=\"height: 525px; width: 100%;\" class=\"plotly-graph-div\"></div><script type=\"text/javascript\">require([\"plotly\"], function(Plotly) { window.PLOTLYENV=window.PLOTLYENV || {};window.PLOTLYENV.BASE_URL=\"https://plot.ly\";Plotly.newPlot(\"51d1bc1e-55e5-4715-8da9-035129cafe54\", [{\"type\": \"bar\", \"x\": [1, 2, 3, 4, 5, 6, 7, 8, 9, 10, 11, 12], \"y\": [6.397090934951766, 6.861110322819755, 5.2718028303312385, 1.84584447354947, 1.3590298550838749, 1.278923757542862, 1.44003339569084, 1.3108942672397819, 1.5749493089893556, 1.5932481339915483, 1.3693049219311848, 1.6237152749975485]}], {\"title\": \"Kovler Laboratories (B1)\", \"xaxis\": {\"title\": \"Month\"}, \"yaxis\": {\"title\": \"Percent Difference\"}}, {\"showLink\": true, \"linkText\": \"Export to plot.ly\"})});</script>"
      ],
      "text/vnd.plotly.v1+html": [
       "<div id=\"51d1bc1e-55e5-4715-8da9-035129cafe54\" style=\"height: 525px; width: 100%;\" class=\"plotly-graph-div\"></div><script type=\"text/javascript\">require([\"plotly\"], function(Plotly) { window.PLOTLYENV=window.PLOTLYENV || {};window.PLOTLYENV.BASE_URL=\"https://plot.ly\";Plotly.newPlot(\"51d1bc1e-55e5-4715-8da9-035129cafe54\", [{\"type\": \"bar\", \"x\": [1, 2, 3, 4, 5, 6, 7, 8, 9, 10, 11, 12], \"y\": [6.397090934951766, 6.861110322819755, 5.2718028303312385, 1.84584447354947, 1.3590298550838749, 1.278923757542862, 1.44003339569084, 1.3108942672397819, 1.5749493089893556, 1.5932481339915483, 1.3693049219311848, 1.6237152749975485]}], {\"title\": \"Kovler Laboratories (B1)\", \"xaxis\": {\"title\": \"Month\"}, \"yaxis\": {\"title\": \"Percent Difference\"}}, {\"showLink\": true, \"linkText\": \"Export to plot.ly\"})});</script>"
      ]
     },
     "metadata": {},
     "output_type": "display_data"
    }
   ],
   "source": [
    "kovlerdata = [Bar(x=kovler_anom.index, y=kovler_anom['Percent Difference'])]\n",
    "layout1 = go.Layout(title='Kovler Laboratories (B1)', xaxis=dict(title='Month'), yaxis=dict(title='Percent Difference'))\n",
    "fig1 = go.Figure(data=kovlerdata, layout=layout1)\n",
    "iplot(fig1)"
   ]
  },
  {
   "cell_type": "code",
   "execution_count": null,
   "metadata": {
    "collapsed": true
   },
   "outputs": [],
   "source": []
  }
 ],
 "metadata": {
  "kernelspec": {
   "display_name": "Python 3",
   "language": "python",
   "name": "python3"
  },
  "language_info": {
   "codemirror_mode": {
    "name": "ipython",
    "version": 3
   },
   "file_extension": ".py",
   "mimetype": "text/x-python",
   "name": "python",
   "nbconvert_exporter": "python",
   "pygments_lexer": "ipython3",
   "version": "3.6.1"
  }
 },
 "nbformat": 4,
 "nbformat_minor": 2
}
