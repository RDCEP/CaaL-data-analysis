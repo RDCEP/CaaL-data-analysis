{
 "cells": [
  {
   "cell_type": "code",
   "execution_count": 1,
   "metadata": {
    "collapsed": true
   },
   "outputs": [],
   "source": [
    "import pandas as pd\n",
    "import matplotlib.pyplot as plt\n",
    "%matplotlib inline\n",
    "plt.style.use('ggplot')"
   ]
  },
  {
   "cell_type": "code",
   "execution_count": 2,
   "metadata": {
    "collapsed": true
   },
   "outputs": [],
   "source": [
    "electric = pd.read_csv(\"~/Downloads/Full Eletric Interval 042016.csv\", skiprows = 4)\n",
    "propertyCode = pd.read_excel(\"~/Downloads/SIMS_Property_List_4-6-2016.xlsx\")"
   ]
  },
  {
   "cell_type": "code",
   "execution_count": 3,
   "metadata": {
    "collapsed": true
   },
   "outputs": [],
   "source": [
    "electric = pd.read_csv(\"~/Downloads/Full Eletric Interval 042016.csv\", skiprows = 4)\n",
    "propertyCode = pd.read_excel(\"~/Downloads/SIMS_Property_List_4-6-2016.xlsx\")"
   ]
  },
  {
   "cell_type": "markdown",
   "metadata": {},
   "source": [
    "#### Getting list of all codes"
   ]
  },
  {
   "cell_type": "code",
   "execution_count": 5,
   "metadata": {
    "collapsed": true
   },
   "outputs": [],
   "source": [
    "codelist = [b[0] for b in electric['Meter'].str.split()]\n",
    "codes = pd.Series(codelist)"
   ]
  },
  {
   "cell_type": "markdown",
   "metadata": {},
   "source": [
    "#### Getting unique codes"
   ]
  },
  {
   "cell_type": "code",
   "execution_count": 6,
   "metadata": {},
   "outputs": [],
   "source": [
    "unicodes = codes.unique()\n",
    "unicodes = pd.Series(unicodes)"
   ]
  },
  {
   "cell_type": "code",
   "execution_count": 12,
   "metadata": {
    "collapsed": true
   },
   "outputs": [],
   "source": [
    "#enter building type as parameter: dorm, dormitory, lab, laboratory, etc\n",
    "def typeCA(bldtype):\n",
    "    blduse = propertyCode[propertyCode['Building Use'].str.contains(bldtype, na=False)]\n",
    "    bldcode = pd.Series([(b[0]) for b in blduse['Property Code'].str.split()])\n",
    "    ubldcode = bldcode.unique()\n",
    "    newdf = electric[codes.isin(bldcode)]\n",
    "    newdf = newdf.reset_index(drop=True)\n",
    "    newcode = pd.Series([b[0] for b in newdf['Meter'].str.split()])\n",
    "    unewcode = newcode.unique()\n",
    "    unewcode.sort()\n",
    "    cmltv = []\n",
    "    for i in unewcode:\n",
    "        cmltv.append(newdf.Usage[newcode.isin([i])].sum())\n",
    "    cmltv = pd.Series(cmltv)\n",
    "    nalst = []\n",
    "    for i in unewcode:\n",
    "        nalst.append(propertyCode[propertyCode['Property Code'].isin([i])]['FCIM Gross Area'])\n",
    "    narea = pd.DataFrame(nalst).sum(axis=1)\n",
    "    narea = narea.reset_index(drop=True)\n",
    "    usageNA = cmltv.divide(narea)\n",
    "    ndata = {'Meter': unewcode, 'Cumulative Usage/area': usageNA}\n",
    "    finaldf = pd.DataFrame(ndata)\n",
    "    finaldf = finaldf.reset_index(drop=True)\n",
    "    finaldf.plot(x='Meter', y='Cumulative Usage/area', kind='bar')\n",
    "    plt.ylabel('Usage (kWh/m^2)')\n",
    "    plt.title(bldtype)"
   ]
  },
  {
   "cell_type": "code",
   "execution_count": 13,
   "metadata": {},
   "outputs": [
    {
     "data": {
      "image/png": "[encoded data removed]",
      "text/plain": [
       "<matplotlib.figure.Figure at 0x22723ada0>"
      ]
     },
     "metadata": {},
     "output_type": "display_data"
    }
   ],
   "source": [
    "typeCA(\"Dorm\")"
   ]
  },
  {
   "cell_type": "code",
   "execution_count": null,
   "metadata": {
    "collapsed": true
   },
   "outputs": [],
   "source": []
  }
 ],
 "metadata": {
  "kernelspec": {
   "display_name": "Python 3",
   "language": "python",
   "name": "python3"
  },
  "language_info": {
   "codemirror_mode": {
    "name": "ipython",
    "version": 3
   },
   "file_extension": ".py",
   "mimetype": "text/x-python",
   "name": "python",
   "nbconvert_exporter": "python",
   "pygments_lexer": "ipython3",
   "version": "3.6.1"
  }
 },
 "nbformat": 4,
 "nbformat_minor": 2
}
