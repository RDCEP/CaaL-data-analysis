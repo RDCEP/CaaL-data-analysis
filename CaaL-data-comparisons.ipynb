{
 "cells": [
  {
   "cell_type": "markdown",
   "metadata": {
    "deletable": true,
    "editable": true
   },
   "source": [
    "### Import"
   ]
  },
  {
   "cell_type": "code",
   "execution_count": 1,
   "metadata": {
    "collapsed": true,
    "deletable": true,
    "editable": true
   },
   "outputs": [],
   "source": [
    "import pandas as pd\n",
    "import matplotlib.pyplot as plt\n",
    "%matplotlib inline"
   ]
  },
  {
   "cell_type": "markdown",
   "metadata": {
    "deletable": true,
    "editable": true
   },
   "source": [
    "### Read Files"
   ]
  },
  {
   "cell_type": "code",
   "execution_count": 2,
   "metadata": {
    "collapsed": false,
    "deletable": true,
    "editable": true
   },
   "outputs": [
    {
     "name": "stderr",
     "output_type": "stream",
     "text": [
      "/usr/local/lib/python2.7/site-packages/IPython/core/interactiveshell.py:2717: DtypeWarning: Columns (10,11) have mixed types. Specify dtype option on import or set low_memory=False.\n",
      "  interactivity=interactivity, compiler=compiler, result=result)\n"
     ]
    },
    {
     "data": {
      "text/plain": [
       "Index([u'METER_ID', u'DATETIME', u'TERM', u'BD_ID', u'CLON', u'CLAT',\n",
       "       u'DISCRIPT1', u'USAGE', u'SQFT', u'GROUP_ID', u'GROUP_NAME',\n",
       "       u'LINKED_METERS'],\n",
       "      dtype='object')"
      ]
     },
     "execution_count": 2,
     "metadata": {},
     "output_type": "execute_result"
    }
   ],
   "source": [
    "df = pd.read_csv('uc_comed_two_years_final.csv', header = 'infer')\n",
    "df.columns"
   ]
  },
  {
   "cell_type": "code",
   "execution_count": 3,
   "metadata": {
    "collapsed": false,
    "deletable": true,
    "editable": true
   },
   "outputs": [
    {
     "data": {
      "text/plain": [
       "array(['Bernard Mitchell Hospitial', 'John Crerar Library',\n",
       "       'Steam Plant Power Plant', 'Chapin Hall',\n",
       "       'Social Science Research Building',\n",
       "       'Duchossois Center for Advanced Medicine', 'Harris School',\n",
       "       'Kovler Laboratories', 'Hinds Laboratory',\n",
       "       'American School Building', 'Cummings Life Sciences Center',\n",
       "       'Bookstore', 'Laird Bell Law Quadrangle',\n",
       "       'A.J. Carlson Animal Research Facility', 'Henry Crown Field House',\n",
       "       'Breckinridge House', 'Chicago Lying-In Hospital',\n",
       "       'Surgery Brain Research Institude', 'Campus Student Center',\n",
       "       'Residential', 'Alber Merrit Billings Hospital',\n",
       "       \"Sylvan & Arma Wyler Children's Hospital\", 'Walker Museum',\n",
       "       'Woodlawn Social Service Center', 'Peck Pavilion', 'Pick Hall',\n",
       "       'University Service Building (ATS)', 'Stagg Field Building',\n",
       "       'Eckhart Hall', 'Ellis Avenue Parking Strucutre', 'Levi Hall',\n",
       "       'BSDLC', 'Charles M. Harper Center', 'Stuart Hall', 'Anatomy',\n",
       "       'New Graduate Residence Hall', 'Franklin McLean Institute',\n",
       "       'Lillie House', 'Kersten Physics Teaching Center', 'Smart Museum',\n",
       "       \"Comer Children's Hospital\", 'Midway Studios',\n",
       "       'Press Office Building', 'Orthogenic School',\n",
       "       'Abbott Memorial Hall', 'South Campus Residence Hall',\n",
       "       'University High', 'Burton-Judson Courts',\n",
       "       'Armour Clinical Research Building', 'McGiffert House',\n",
       "       'Knapp Center for Biomedical Discovery',\n",
       "       'South Campus Chiller Plant', 'International House',\n",
       "       'Gorden Center for Integrative Science',\n",
       "       'West Campus Combined Utility Plant', 'Jones Hall',\n",
       "       'Parking/Materials Management', 'Max Palevsky Commons B/Center',\n",
       "       'Math-Stat Building', 'LASR', '61st and Drexel Office Building',\n",
       "       'Wilder House', 'Facilities Services Building',\n",
       "       'Rockefeller Chapel', 'Student Counseling Service',\n",
       "       'Center for Care and Discovery', 'Joe and Rika Mansueto Library',\n",
       "       'Regenstein Library', 'Quadrangle Club',\n",
       "       'New Chicago Theological Seminary',\n",
       "       'Reva and David Logan Center for the Arts',\n",
       "       'Kent Chemical Laboratory', 'Culver Hall', 'Accelerator Building',\n",
       "       'Ida Noyes Hall', 'Saieh Hall', 'Laboratory Service Building',\n",
       "       'Gilman Smith Hospital', 'Biopsychological Research Building',\n",
       "       'Edelstone Hall', 'Walkway', 'Cobb Lecture Hall', 'Goodspeed Hall',\n",
       "       'William Eckhardt Research Center'], dtype=object)"
      ]
     },
     "execution_count": 3,
     "metadata": {},
     "output_type": "execute_result"
    }
   ],
   "source": [
    "df.DISCRIPT1.unique()"
   ]
  },
  {
   "cell_type": "markdown",
   "metadata": {
    "deletable": true,
    "editable": true
   },
   "source": [
    "Pick a building and isolate meters"
   ]
  },
  {
   "cell_type": "code",
   "execution_count": 4,
   "metadata": {
    "collapsed": false,
    "deletable": true,
    "editable": true
   },
   "outputs": [],
   "source": [
    "df_BMH = df[df['DISCRIPT1'] == 'Bernard Mitchell Hospitial']"
   ]
  },
  {
   "cell_type": "code",
   "execution_count": 5,
   "metadata": {
    "collapsed": false,
    "deletable": true,
    "editable": true
   },
   "outputs": [
    {
     "data": {
      "text/plain": [
       "array([ 79039684, 141739814])"
      ]
     },
     "execution_count": 5,
     "metadata": {},
     "output_type": "execute_result"
    }
   ],
   "source": [
    "df_BMH.METER_ID.unique()"
   ]
  },
  {
   "cell_type": "code",
   "execution_count": 6,
   "metadata": {
    "collapsed": false,
    "deletable": true,
    "editable": true
   },
   "outputs": [],
   "source": [
    "df_BMH_meter1 = df_BMH[df_BMH['METER_ID'] == 79039684]\n",
    "df_BMH_meter2 = df_BMH[df_BMH['METER_ID'] == 141739814]"
   ]
  },
  {
   "cell_type": "markdown",
   "metadata": {
    "deletable": true,
    "editable": true
   },
   "source": [
    "Pick a term"
   ]
  },
  {
   "cell_type": "code",
   "execution_count": 7,
   "metadata": {
    "collapsed": false,
    "deletable": true,
    "editable": true
   },
   "outputs": [],
   "source": [
    "df_BMH_meter1_summer14 = df_BMH_meter1[df_BMH_meter1['TERM'] == 'Summer 2014']\n",
    "df_BMH_meter2_summer14 = df_BMH_meter2[df_BMH_meter2['TERM'] == 'Summer 2014']\n",
    "df_BMH_summer14 = df_BMH[df_BMH['TERM'] == 'Summer 2014']"
   ]
  },
  {
   "cell_type": "markdown",
   "metadata": {},
   "source": [
    "Plot to see what the two meters' data looks like"
   ]
  },
  {
   "cell_type": "code",
   "execution_count": 8,
   "metadata": {
    "collapsed": false,
    "deletable": true,
    "editable": true
   },
   "outputs": [
    {
     "data": {
      "text/plain": [
       "<matplotlib.axes._subplots.AxesSubplot at 0x10d352f10>"
      ]
     },
     "execution_count": 8,
     "metadata": {},
     "output_type": "execute_result"
    },
    {
     "data": {
      "image/png": "[encoded data removed]",
      "text/plain": [
       "<matplotlib.figure.Figure at 0x1113d5b10>"
      ]
     },
     "metadata": {},
     "output_type": "display_data"
    }
   ],
   "source": [
    "ax = df_BMH_meter1_summer14.plot(x = 'DATETIME', y = 'USAGE', rot = 45)\n",
    "df_BMH_meter2_summer14.plot(x = 'DATETIME', y = 'USAGE', rot = 45, ax = ax)"
   ]
  },
  {
   "cell_type": "markdown",
   "metadata": {
    "deletable": true,
    "editable": true
   },
   "source": [
    "### Example: Let's look at the week of the 23rd (23-06-2014 is a Monday) for meter1 (ID = 79039684)"
   ]
  },
  {
   "cell_type": "code",
   "execution_count": 9,
   "metadata": {
    "collapsed": false,
    "deletable": true,
    "editable": true
   },
   "outputs": [
    {
     "name": "stderr",
     "output_type": "stream",
     "text": [
      "/usr/local/lib/python2.7/site-packages/ipykernel/__main__.py:2: SettingWithCopyWarning: \n",
      "A value is trying to be set on a copy of a slice from a DataFrame.\n",
      "Try using .loc[row_indexer,col_indexer] = value instead\n",
      "\n",
      "See the caveats in the documentation: http://pandas.pydata.org/pandas-docs/stable/indexing.html#indexing-view-versus-copy\n",
      "  from ipykernel import kernelapp as app\n"
     ]
    }
   ],
   "source": [
    "## convert datetime to pandas datetime format\n",
    "df_BMH_meter1_summer14['pd_datetime'] = pd.to_datetime(df_BMH_meter1_summer14['DATETIME'])\n"
   ]
  },
  {
   "cell_type": "code",
   "execution_count": 10,
   "metadata": {
    "collapsed": true
   },
   "outputs": [],
   "source": [
    "## getting rid of some random warning messages\n",
    "pd.options.mode.chained_assignment = None"
   ]
  },
  {
   "cell_type": "code",
   "execution_count": 11,
   "metadata": {
    "collapsed": false,
    "deletable": true,
    "editable": true
   },
   "outputs": [
    {
     "ename": "AttributeError",
     "evalue": "'str' object has no attribute 'strftime'",
     "output_type": "error",
     "traceback": [
      "\u001b[0;31m---------------------------------------------------------------------------\u001b[0m",
      "\u001b[0;31mAttributeError\u001b[0m                            Traceback (most recent call last)",
      "\u001b[0;32m<ipython-input-11-9a86cfb68175>\u001b[0m in \u001b[0;36m<module>\u001b[0;34m()\u001b[0m\n\u001b[1;32m      1\u001b[0m \u001b[0;31m## This will create a column that just has the month and the year like 'June-2014'\u001b[0m\u001b[0;34m\u001b[0m\u001b[0;34m\u001b[0m\u001b[0m\n\u001b[0;32m----> 2\u001b[0;31m \u001b[0mdf_BMH_meter1_summer14\u001b[0m\u001b[0;34m[\u001b[0m\u001b[0;34m'mnth_yr'\u001b[0m\u001b[0;34m]\u001b[0m \u001b[0;34m=\u001b[0m \u001b[0mdf_BMH_meter1_summer14\u001b[0m\u001b[0;34m[\u001b[0m\u001b[0;34m'DATETIME'\u001b[0m\u001b[0;34m]\u001b[0m\u001b[0;34m.\u001b[0m\u001b[0mapply\u001b[0m\u001b[0;34m(\u001b[0m\u001b[0;32mlambda\u001b[0m \u001b[0mx\u001b[0m\u001b[0;34m:\u001b[0m \u001b[0mx\u001b[0m\u001b[0;34m.\u001b[0m\u001b[0mstrftime\u001b[0m\u001b[0;34m(\u001b[0m\u001b[0;34m'%B-%Y'\u001b[0m\u001b[0;34m)\u001b[0m\u001b[0;34m)\u001b[0m\u001b[0;34m\u001b[0m\u001b[0m\n\u001b[0m\u001b[1;32m      3\u001b[0m \u001b[0;34m\u001b[0m\u001b[0m\n\u001b[1;32m      4\u001b[0m \u001b[0;31m## This will create a column with just the day of the month\u001b[0m\u001b[0;34m\u001b[0m\u001b[0;34m\u001b[0m\u001b[0m\n\u001b[1;32m      5\u001b[0m \u001b[0mdf_BMH_meter1_summer14\u001b[0m\u001b[0;34m[\u001b[0m\u001b[0;34m'date'\u001b[0m\u001b[0;34m]\u001b[0m \u001b[0;34m=\u001b[0m \u001b[0mdf_BMH_meter1_summer14\u001b[0m\u001b[0;34m[\u001b[0m\u001b[0;34m'DATETIME'\u001b[0m\u001b[0;34m]\u001b[0m\u001b[0;34m.\u001b[0m\u001b[0mapply\u001b[0m\u001b[0;34m(\u001b[0m\u001b[0;32mlambda\u001b[0m \u001b[0mx\u001b[0m\u001b[0;34m:\u001b[0m \u001b[0mx\u001b[0m\u001b[0;34m.\u001b[0m\u001b[0mstrftime\u001b[0m\u001b[0;34m(\u001b[0m\u001b[0;34m'%d'\u001b[0m\u001b[0;34m)\u001b[0m\u001b[0;34m)\u001b[0m\u001b[0;34m\u001b[0m\u001b[0m\n",
      "\u001b[0;32m/usr/local/lib/python2.7/site-packages/pandas/core/series.pyc\u001b[0m in \u001b[0;36mapply\u001b[0;34m(self, func, convert_dtype, args, **kwds)\u001b[0m\n\u001b[1;32m   2292\u001b[0m             \u001b[0;32melse\u001b[0m\u001b[0;34m:\u001b[0m\u001b[0;34m\u001b[0m\u001b[0m\n\u001b[1;32m   2293\u001b[0m                 \u001b[0mvalues\u001b[0m \u001b[0;34m=\u001b[0m \u001b[0mself\u001b[0m\u001b[0;34m.\u001b[0m\u001b[0masobject\u001b[0m\u001b[0;34m\u001b[0m\u001b[0m\n\u001b[0;32m-> 2294\u001b[0;31m                 \u001b[0mmapped\u001b[0m \u001b[0;34m=\u001b[0m \u001b[0mlib\u001b[0m\u001b[0;34m.\u001b[0m\u001b[0mmap_infer\u001b[0m\u001b[0;34m(\u001b[0m\u001b[0mvalues\u001b[0m\u001b[0;34m,\u001b[0m \u001b[0mf\u001b[0m\u001b[0;34m,\u001b[0m \u001b[0mconvert\u001b[0m\u001b[0;34m=\u001b[0m\u001b[0mconvert_dtype\u001b[0m\u001b[0;34m)\u001b[0m\u001b[0;34m\u001b[0m\u001b[0m\n\u001b[0m\u001b[1;32m   2295\u001b[0m \u001b[0;34m\u001b[0m\u001b[0m\n\u001b[1;32m   2296\u001b[0m         \u001b[0;32mif\u001b[0m \u001b[0mlen\u001b[0m\u001b[0;34m(\u001b[0m\u001b[0mmapped\u001b[0m\u001b[0;34m)\u001b[0m \u001b[0;32mand\u001b[0m \u001b[0misinstance\u001b[0m\u001b[0;34m(\u001b[0m\u001b[0mmapped\u001b[0m\u001b[0;34m[\u001b[0m\u001b[0;36m0\u001b[0m\u001b[0;34m]\u001b[0m\u001b[0;34m,\u001b[0m \u001b[0mSeries\u001b[0m\u001b[0;34m)\u001b[0m\u001b[0;34m:\u001b[0m\u001b[0;34m\u001b[0m\u001b[0m\n",
      "\u001b[0;32mpandas/src/inference.pyx\u001b[0m in \u001b[0;36mpandas.lib.map_infer (pandas/lib.c:66124)\u001b[0;34m()\u001b[0m\n",
      "\u001b[0;32m<ipython-input-11-9a86cfb68175>\u001b[0m in \u001b[0;36m<lambda>\u001b[0;34m(x)\u001b[0m\n\u001b[1;32m      1\u001b[0m \u001b[0;31m## This will create a column that just has the month and the year like 'June-2014'\u001b[0m\u001b[0;34m\u001b[0m\u001b[0;34m\u001b[0m\u001b[0m\n\u001b[0;32m----> 2\u001b[0;31m \u001b[0mdf_BMH_meter1_summer14\u001b[0m\u001b[0;34m[\u001b[0m\u001b[0;34m'mnth_yr'\u001b[0m\u001b[0;34m]\u001b[0m \u001b[0;34m=\u001b[0m \u001b[0mdf_BMH_meter1_summer14\u001b[0m\u001b[0;34m[\u001b[0m\u001b[0;34m'DATETIME'\u001b[0m\u001b[0;34m]\u001b[0m\u001b[0;34m.\u001b[0m\u001b[0mapply\u001b[0m\u001b[0;34m(\u001b[0m\u001b[0;32mlambda\u001b[0m \u001b[0mx\u001b[0m\u001b[0;34m:\u001b[0m \u001b[0mx\u001b[0m\u001b[0;34m.\u001b[0m\u001b[0mstrftime\u001b[0m\u001b[0;34m(\u001b[0m\u001b[0;34m'%B-%Y'\u001b[0m\u001b[0;34m)\u001b[0m\u001b[0;34m)\u001b[0m\u001b[0;34m\u001b[0m\u001b[0m\n\u001b[0m\u001b[1;32m      3\u001b[0m \u001b[0;34m\u001b[0m\u001b[0m\n\u001b[1;32m      4\u001b[0m \u001b[0;31m## This will create a column with just the day of the month\u001b[0m\u001b[0;34m\u001b[0m\u001b[0;34m\u001b[0m\u001b[0m\n\u001b[1;32m      5\u001b[0m \u001b[0mdf_BMH_meter1_summer14\u001b[0m\u001b[0;34m[\u001b[0m\u001b[0;34m'date'\u001b[0m\u001b[0;34m]\u001b[0m \u001b[0;34m=\u001b[0m \u001b[0mdf_BMH_meter1_summer14\u001b[0m\u001b[0;34m[\u001b[0m\u001b[0;34m'DATETIME'\u001b[0m\u001b[0;34m]\u001b[0m\u001b[0;34m.\u001b[0m\u001b[0mapply\u001b[0m\u001b[0;34m(\u001b[0m\u001b[0;32mlambda\u001b[0m \u001b[0mx\u001b[0m\u001b[0;34m:\u001b[0m \u001b[0mx\u001b[0m\u001b[0;34m.\u001b[0m\u001b[0mstrftime\u001b[0m\u001b[0;34m(\u001b[0m\u001b[0;34m'%d'\u001b[0m\u001b[0;34m)\u001b[0m\u001b[0;34m)\u001b[0m\u001b[0;34m\u001b[0m\u001b[0m\n",
      "\u001b[0;31mAttributeError\u001b[0m: 'str' object has no attribute 'strftime'"
     ]
    }
   ],
   "source": [
    "## This will create a column that just has the month and the year like 'June-2014'\n",
    "df_BMH_meter1_summer14['mnth_yr'] = df_BMH_meter1_summer14['DATETIME'].apply(lambda x: x.strftime('%B-%Y'))     \n",
    "\n",
    "## This will create a column with just the day of the month\n",
    "df_BMH_meter1_summer14['date'] = df_BMH_meter1_summer14['DATETIME'].apply(lambda x: x.strftime('%d'))\n",
    "\n",
    "## This will create a column of with the day of the week \n",
    "df_BMH_meter1_summer14['day'] = df_BMH_meter1_summer14['DATETIME'].apply(lambda x: x.strftime('%A'))\n",
    "\n",
    "## This will isolate the time value\n",
    "df_BMH_meter1_summer14['time'] = df_BMH_meter1_summer14['DATETIME'].apply(lambda x: x.strftime('%X'))"
   ]
  },
  {
   "cell_type": "code",
   "execution_count": null,
   "metadata": {
    "collapsed": false,
    "deletable": true,
    "editable": true
   },
   "outputs": [],
   "source": [
    "## First select the entries for 'June-2014'\n",
    "df_1 = df_BMH_meter1_summer14[df_BMH_meter1_summer14['mnth_yr'] == 'June-2014']\n",
    "\n",
    "## Pick out entries for the days in June-2014 that we want\n",
    "df_monday_20140623 = df_1[df_1['date'] == '23']\n",
    "df_tuesday_20140624 = df_1[df_1['date'] == '24']\n",
    "df_wednesday_20140625 = df_1[df_1['date'] == '25']\n",
    "df_thursday_20140626 = df_1[df_1['date'] == '26']\n",
    "df_friday_20140627 = df_1[df_1['date'] == '27']\n",
    "df_saturday_20140628 = df_1[df_1['date'] == '28']\n",
    "df_sunday_20140629 = df_1[df_1['date'] == '29']"
   ]
  },
  {
   "cell_type": "code",
   "execution_count": null,
   "metadata": {
    "collapsed": false,
    "deletable": true,
    "editable": true
   },
   "outputs": [],
   "source": [
    "## plot in the same graph\n",
    "\n",
    "ax = df_monday_20140623.plot(x = 'time', y = 'USAGE', label = 'monday')\n",
    "#df_tuesday_20140624.plot(x = 'time', y = 'USAGE', ax = ax, label = 'tuesday')\n",
    "#df_wednesday_20140625.plot(x = 'time', y = 'USAGE', ax = ax, label = 'wednesday')\n",
    "#df_thursday_20140626.plot(x = 'time', y = 'USAGE', ax = ax, label = 'thursday')\n",
    "df_friday_20140627.plot(x = 'time', y = 'USAGE', ax = ax, label = 'friday')\n",
    "df_saturday_20140628.plot(x = 'time', y = 'USAGE', ax = ax, label = 'saturday')\n",
    "df_sunday_20140629.plot(x = 'time', y = 'USAGE', ax = ax, label = 'sunday')"
   ]
  }
 ],
 "metadata": {
  "kernelspec": {
   "display_name": "Python 2",
   "language": "python",
   "name": "python2"
  },
  "language_info": {
   "codemirror_mode": {
    "name": "ipython",
    "version": 2
   },
   "file_extension": ".py",
   "mimetype": "text/x-python",
   "name": "python",
   "nbconvert_exporter": "python",
   "pygments_lexer": "ipython2",
   "version": "2.7.13"
  }
 },
 "nbformat": 4,
 "nbformat_minor": 2
}
